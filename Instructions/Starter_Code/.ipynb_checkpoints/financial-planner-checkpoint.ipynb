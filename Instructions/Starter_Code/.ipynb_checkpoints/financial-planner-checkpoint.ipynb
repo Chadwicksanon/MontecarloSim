{
 "cells": [
  {
   "cell_type": "markdown",
   "metadata": {},
   "source": [
    "# Unit 5 - Financial Planning"
   ]
  },
  {
   "cell_type": "code",
   "execution_count": 3,
   "metadata": {
    "tags": []
   },
   "outputs": [],
   "source": [
    "# Initial imports\n",
    "import os\n",
    "import requests\n",
    "import pandas as pd\n",
    "from dotenv import load_dotenv\n",
    "import alpaca_trade_api as tradeapi\n",
    "from MCForecastTools import MCSimulation\n",
    "import warnings\n",
    "\n",
    "warnings.filterwarnings('ignore', category=pd.errors.PerformanceWarning)\n",
    "\n",
    "\n",
    "%matplotlib inline"
   ]
  },
  {
   "cell_type": "code",
   "execution_count": 4,
   "metadata": {
    "tags": []
   },
   "outputs": [
    {
     "data": {
      "text/plain": [
       "True"
      ]
     },
     "execution_count": 4,
     "metadata": {},
     "output_type": "execute_result"
    }
   ],
   "source": [
    "# Load .env enviroment variables\n",
    "load_dotenv()"
   ]
  },
  {
   "cell_type": "markdown",
   "metadata": {},
   "source": [
    "## Part 1 - Personal Finance Planner"
   ]
  },
  {
   "cell_type": "markdown",
   "metadata": {},
   "source": [
    "### Collect Crypto Prices Using the `requests` Library"
   ]
  },
  {
   "cell_type": "code",
   "execution_count": 7,
   "metadata": {
    "tags": []
   },
   "outputs": [],
   "source": [
    "# Set current amount of crypto assets\n",
    "my_btc = 1.2\n",
    "my_eth = 5.3\n",
    "#my_btc = float(my_btc)\n",
    "#my_eth = float(my_eth)"
   ]
  },
  {
   "cell_type": "code",
   "execution_count": 8,
   "metadata": {
    "tags": []
   },
   "outputs": [],
   "source": [
    "# Crypto API URLs\n",
    "btc_url = \"https://api.alternative.me/v2/ticker/Bitcoin/?convert=USD\"\n",
    "eth_url = \"https://api.alternative.me/v2/ticker/Ethereum/?convert=USD\""
   ]
  },
  {
   "cell_type": "code",
   "execution_count": 9,
   "metadata": {
    "tags": []
   },
   "outputs": [
    {
     "name": "stdout",
     "output_type": "stream",
     "text": [
      "The current value of your my btc BTC is $72380.40\n",
      "The current value of your my eth ETH is $17877.80\n"
     ]
    }
   ],
   "source": [
    "# Fetch current BTC price\n",
    "my_btc = requests.get(btc_url).json()\n",
    "btc_value = my_btc['data']['1']['quotes']['USD']['price']\n",
    "# Fetch current ETH price\n",
    "my_eth = requests.get(eth_url).json()\n",
    "eth_value = my_eth['data']['1027']['quotes']['USD']['price']\n",
    "# Compute current value of my crpto\n",
    "my_btc_value = 1.2 * btc_value\n",
    "my_eth_value = 5.3 * eth_value \n",
    "portfolio_value= btc_value + eth_value\n",
    "# Print current crypto wallet balance\n",
    "print(f\"The current value of your {'my btc'} BTC is ${my_btc_value:0.2f}\")\n",
    "print(f\"The current value of your {'my eth'} ETH is ${my_eth_value:0.2f}\")"
   ]
  },
  {
   "cell_type": "markdown",
   "metadata": {},
   "source": [
    "### Collect Investments Data Using Alpaca: `SPY` (stocks) and `AGG` (bonds)"
   ]
  },
  {
   "cell_type": "code",
   "execution_count": 11,
   "metadata": {
    "tags": []
   },
   "outputs": [],
   "source": [
    "# Set current amount of shares\n",
    "my_agg = 200\n",
    "my_spy = 50"
   ]
  },
  {
   "cell_type": "code",
   "execution_count": 12,
   "metadata": {
    "tags": []
   },
   "outputs": [],
   "source": [
    "# Set Alpaca API key and secret\n",
    "api_key= os.getenv(\"ALPACA_API_KEY\")\n",
    "api_secret= os.getenv(\"ALPACA_SECRET_KEY\")\n",
    "#alpaca_endpoint = os.getenv(\"ALPACA_ENDPOINT\")\n",
    "api = tradeapi.REST(api_key, api_secret, api_version=\"v2\")\n",
    "#base_url = alpaca_endpoint"
   ]
  },
  {
   "cell_type": "code",
   "execution_count": 13,
   "metadata": {
    "tags": []
   },
   "outputs": [
    {
     "data": {
      "text/html": [
       "<div>\n",
       "<style scoped>\n",
       "    .dataframe tbody tr th:only-of-type {\n",
       "        vertical-align: middle;\n",
       "    }\n",
       "\n",
       "    .dataframe tbody tr th {\n",
       "        vertical-align: top;\n",
       "    }\n",
       "\n",
       "    .dataframe thead tr th {\n",
       "        text-align: left;\n",
       "    }\n",
       "\n",
       "    .dataframe thead tr:last-of-type th {\n",
       "        text-align: right;\n",
       "    }\n",
       "</style>\n",
       "<table border=\"1\" class=\"dataframe\">\n",
       "  <thead>\n",
       "    <tr>\n",
       "      <th></th>\n",
       "      <th colspan=\"7\" halign=\"left\">AGG</th>\n",
       "      <th colspan=\"7\" halign=\"left\">SPY</th>\n",
       "    </tr>\n",
       "    <tr>\n",
       "      <th></th>\n",
       "      <th>close</th>\n",
       "      <th>high</th>\n",
       "      <th>low</th>\n",
       "      <th>trade_count</th>\n",
       "      <th>open</th>\n",
       "      <th>volume</th>\n",
       "      <th>vwap</th>\n",
       "      <th>close</th>\n",
       "      <th>high</th>\n",
       "      <th>low</th>\n",
       "      <th>trade_count</th>\n",
       "      <th>open</th>\n",
       "      <th>volume</th>\n",
       "      <th>vwap</th>\n",
       "    </tr>\n",
       "    <tr>\n",
       "      <th>timestamp</th>\n",
       "      <th></th>\n",
       "      <th></th>\n",
       "      <th></th>\n",
       "      <th></th>\n",
       "      <th></th>\n",
       "      <th></th>\n",
       "      <th></th>\n",
       "      <th></th>\n",
       "      <th></th>\n",
       "      <th></th>\n",
       "      <th></th>\n",
       "      <th></th>\n",
       "      <th></th>\n",
       "      <th></th>\n",
       "    </tr>\n",
       "  </thead>\n",
       "  <tbody>\n",
       "    <tr>\n",
       "      <th>2024-04-19 04:00:00+00:00</th>\n",
       "      <td>95.38</td>\n",
       "      <td>95.55</td>\n",
       "      <td>95.33</td>\n",
       "      <td>25285</td>\n",
       "      <td>95.53</td>\n",
       "      <td>9121718</td>\n",
       "      <td>95.407918</td>\n",
       "      <td>495.16</td>\n",
       "      <td>500.455</td>\n",
       "      <td>493.86</td>\n",
       "      <td>756686</td>\n",
       "      <td>499.44</td>\n",
       "      <td>102212587</td>\n",
       "      <td>496.836977</td>\n",
       "    </tr>\n",
       "  </tbody>\n",
       "</table>\n",
       "</div>"
      ],
      "text/plain": [
       "                             AGG                                            \\\n",
       "                           close   high    low trade_count   open   volume   \n",
       "timestamp                                                                    \n",
       "2024-04-19 04:00:00+00:00  95.38  95.55  95.33       25285  95.53  9121718   \n",
       "\n",
       "                                         SPY                               \\\n",
       "                                vwap   close     high     low trade_count   \n",
       "timestamp                                                                   \n",
       "2024-04-19 04:00:00+00:00  95.407918  495.16  500.455  493.86      756686   \n",
       "\n",
       "                                                          \n",
       "                             open     volume        vwap  \n",
       "timestamp                                                 \n",
       "2024-04-19 04:00:00+00:00  499.44  102212587  496.836977  "
      ]
     },
     "execution_count": 13,
     "metadata": {},
     "output_type": "execute_result"
    }
   ],
   "source": [
    "# Format current date as ISO format\n",
    "start_date = pd.Timestamp(\"2024-04-19\", tz=\"America/New_York\").isoformat()\n",
    "end_date = pd.Timestamp(\"2024-04-19\", tz=\"America/New_York\").isoformat()\n",
    "# Set the tickers\n",
    "tickers = [\"AGG\", \"SPY\"]\n",
    "\n",
    "# Set timeframe to \"1Day\" for Alpaca API\n",
    "timeframe = \"1Day\"\n",
    "\n",
    "# Get current closing prices for SPY and AGG\n",
    "stockticker= api.get_bars(tickers, timeframe, start= start_date, end= end_date).df\n",
    "# Separate ticker data\n",
    "AGG = stockticker[stockticker['symbol']=='AGG'].drop(columns='symbol', axis=1)\n",
    "SPY = stockticker[stockticker['symbol']=='SPY'].drop(columns='symbol', axis=1)\n",
    "\n",
    "# Concatenate the ticker DataFrames\n",
    "#concatenated_df = pd.concat([agg_df, agg_df])\n",
    "portfolio_concat_df = pd.concat([AGG, SPY], axis=1, keys=['AGG', 'SPY'])\n",
    "\n",
    "# Preview DataFrame\n",
    "portfolio_concat_df"
   ]
  },
  {
   "cell_type": "code",
   "execution_count": 14,
   "metadata": {
    "tags": []
   },
   "outputs": [
    {
     "name": "stdout",
     "output_type": "stream",
     "text": [
      "Current AGG closing price: $95.38\n",
      "Current SPY closing price: $495.16\n"
     ]
    }
   ],
   "source": [
    "# Pick AGG and SPY close prices\n",
    "agg_close_price = portfolio_concat_df['AGG']['close'].values[0]\n",
    "spy_close_price = portfolio_concat_df['SPY']['close'].values[0]\n",
    "\n",
    "print(f\"Current AGG closing price: ${agg_close_price}\")\n",
    "print(f\"Current SPY closing price: ${spy_close_price}\")"
   ]
  },
  {
   "cell_type": "code",
   "execution_count": 15,
   "metadata": {},
   "outputs": [
    {
     "name": "stdout",
     "output_type": "stream",
     "text": [
      "The current value of your 50 SPY shares is $24758.00\n",
      "The current value of your 200 AGG shares is $19076.00\n"
     ]
    }
   ],
   "source": [
    "# Compute the current value of shares\n",
    "# YOUR CODE HERE!\n",
    "my_agg_value = agg_close_price * my_agg\n",
    "my_spy_value = spy_close_price * my_spy\n",
    "# Print current value of shares\n",
    "print(f\"The current value of your {my_spy} SPY shares is ${my_spy_value:0.2f}\")\n",
    "print(f\"The current value of your {my_agg} AGG shares is ${my_agg_value:0.2f}\")"
   ]
  },
  {
   "cell_type": "markdown",
   "metadata": {},
   "source": [
    "### Savings Health Analysis"
   ]
  },
  {
   "cell_type": "code",
   "execution_count": 17,
   "metadata": {},
   "outputs": [
    {
     "data": {
      "text/html": [
       "<div>\n",
       "<style scoped>\n",
       "    .dataframe tbody tr th:only-of-type {\n",
       "        vertical-align: middle;\n",
       "    }\n",
       "\n",
       "    .dataframe tbody tr th {\n",
       "        vertical-align: top;\n",
       "    }\n",
       "\n",
       "    .dataframe thead th {\n",
       "        text-align: right;\n",
       "    }\n",
       "</style>\n",
       "<table border=\"1\" class=\"dataframe\">\n",
       "  <thead>\n",
       "    <tr style=\"text-align: right;\">\n",
       "      <th></th>\n",
       "      <th>amount</th>\n",
       "    </tr>\n",
       "  </thead>\n",
       "  <tbody>\n",
       "    <tr>\n",
       "      <th>crypto</th>\n",
       "      <td>90258.201</td>\n",
       "    </tr>\n",
       "    <tr>\n",
       "      <th>stock/bond</th>\n",
       "      <td>43834.000</td>\n",
       "    </tr>\n",
       "  </tbody>\n",
       "</table>\n",
       "</div>"
      ],
      "text/plain": [
       "               amount\n",
       "crypto      90258.201\n",
       "stock/bond  43834.000"
      ]
     },
     "metadata": {},
     "output_type": "display_data"
    }
   ],
   "source": [
    "# Set monthly household income\n",
    "# YOUR CODE HERE!\n",
    "monthly_income= 12000\n",
    "# Consolidate financial assets data\n",
    "# YOUR CODE HERE!\n",
    "total_crpto_value= my_btc_value + my_eth_value\n",
    "total_shares_value= my_agg_value + my_spy_value\n",
    "savings_data = [total_crpto_value, total_shares_value]\n",
    "# Create savings DataFrame\n",
    "# YOUR CODE HERE!\n",
    "savings_df= pd.DataFrame(savings_data, columns=['amount'], index=['crypto', 'stock/bond'])\n",
    "# Display savings DataFrame\n",
    "display(savings_df)"
   ]
  },
  {
   "cell_type": "code",
   "execution_count": 18,
   "metadata": {},
   "outputs": [
    {
     "data": {
      "text/plain": [
       "<Axes: title={'center': 'Composition of Personal Savings'}, ylabel='amount'>"
      ]
     },
     "execution_count": 18,
     "metadata": {},
     "output_type": "execute_result"
    },
    {
     "data": {
      "image/png": "[encoded data removed]",
      "text/plain": [
       "<Figure size 640x480 with 1 Axes>"
      ]
     },
     "metadata": {},
     "output_type": "display_data"
    }
   ],
   "source": [
    "# Plot savings pie chart\n",
    "savings_df.plot.pie(y='amount', title='Composition of Personal Savings', autopct='%1.1f%%')\n"
   ]
  },
  {
   "cell_type": "code",
   "execution_count": 19,
   "metadata": {},
   "outputs": [
    {
     "name": "stdout",
     "output_type": "stream",
     "text": [
      "Congratulations! You have enough money in this fund.\n"
     ]
    }
   ],
   "source": [
    "# Set ideal emergency fund\n",
    "emergency_fund = monthly_income * 3\n",
    "\n",
    "# Calculate total amount of savings\n",
    "# YOUR CODE HERE!\n",
    "total_portfolio_value = savings_df['amount'].sum()\n",
    "\n",
    "# Validate saving health\n",
    "# YOUR CODE HERE!\n",
    "if total_portfolio_value > emergency_fund:\n",
    "    print(\"Congratulations! You have enough money in this fund.\")\n",
    "elif total_portfolio_value == emergency_fund:\n",
    "    print(\"Congratulations on reaching this important financial goal.\")\n",
    "else:\n",
    "    shortfall = emergency_fund - total_portfolio_value\n",
    "    print(f\"You are ${shortfall} away from reaching your emergency fund\")"
   ]
  },
  {
   "cell_type": "markdown",
   "metadata": {},
   "source": [
    "## Part 2 - Retirement Planning\n",
    "\n",
    "### Monte Carlo Simulation"
   ]
  },
  {
   "cell_type": "code",
   "execution_count": 21,
   "metadata": {},
   "outputs": [],
   "source": [
    "# Set start and end dates of five years back from today.\n",
    "# Sample results may vary from the solution based on the time frame chosen\n",
    "start_date = pd.Timestamp('2019-04-19', tz='America/New_York').isoformat()\n",
    "end_date = pd.Timestamp(\"2024-04-19\", tz=\"America/New_York\").isoformat()"
   ]
  },
  {
   "cell_type": "code",
   "execution_count": 22,
   "metadata": {},
   "outputs": [
    {
     "data": {
      "text/html": [
       "<div>\n",
       "<style scoped>\n",
       "    .dataframe tbody tr th:only-of-type {\n",
       "        vertical-align: middle;\n",
       "    }\n",
       "\n",
       "    .dataframe tbody tr th {\n",
       "        vertical-align: top;\n",
       "    }\n",
       "\n",
       "    .dataframe thead tr th {\n",
       "        text-align: left;\n",
       "    }\n",
       "\n",
       "    .dataframe thead tr:last-of-type th {\n",
       "        text-align: right;\n",
       "    }\n",
       "</style>\n",
       "<table border=\"1\" class=\"dataframe\">\n",
       "  <thead>\n",
       "    <tr>\n",
       "      <th></th>\n",
       "      <th colspan=\"7\" halign=\"left\">SPY</th>\n",
       "      <th colspan=\"7\" halign=\"left\">AGG</th>\n",
       "    </tr>\n",
       "    <tr>\n",
       "      <th></th>\n",
       "      <th>close</th>\n",
       "      <th>high</th>\n",
       "      <th>low</th>\n",
       "      <th>trade_count</th>\n",
       "      <th>open</th>\n",
       "      <th>volume</th>\n",
       "      <th>vwap</th>\n",
       "      <th>close</th>\n",
       "      <th>high</th>\n",
       "      <th>low</th>\n",
       "      <th>trade_count</th>\n",
       "      <th>open</th>\n",
       "      <th>volume</th>\n",
       "      <th>vwap</th>\n",
       "    </tr>\n",
       "    <tr>\n",
       "      <th>timestamp</th>\n",
       "      <th></th>\n",
       "      <th></th>\n",
       "      <th></th>\n",
       "      <th></th>\n",
       "      <th></th>\n",
       "      <th></th>\n",
       "      <th></th>\n",
       "      <th></th>\n",
       "      <th></th>\n",
       "      <th></th>\n",
       "      <th></th>\n",
       "      <th></th>\n",
       "      <th></th>\n",
       "      <th></th>\n",
       "    </tr>\n",
       "  </thead>\n",
       "  <tbody>\n",
       "    <tr>\n",
       "      <th>2019-04-22 04:00:00+00:00</th>\n",
       "      <td>290.30</td>\n",
       "      <td>290.435</td>\n",
       "      <td>289.0700</td>\n",
       "      <td>170763</td>\n",
       "      <td>289.17</td>\n",
       "      <td>41438319</td>\n",
       "      <td>290.010232</td>\n",
       "      <td>108.06</td>\n",
       "      <td>108.16</td>\n",
       "      <td>108.05</td>\n",
       "      <td>9161</td>\n",
       "      <td>108.1300</td>\n",
       "      <td>5830321</td>\n",
       "      <td>108.098194</td>\n",
       "    </tr>\n",
       "    <tr>\n",
       "      <th>2019-04-23 04:00:00+00:00</th>\n",
       "      <td>292.89</td>\n",
       "      <td>293.140</td>\n",
       "      <td>290.4200</td>\n",
       "      <td>232021</td>\n",
       "      <td>290.68</td>\n",
       "      <td>53717869</td>\n",
       "      <td>292.120861</td>\n",
       "      <td>108.25</td>\n",
       "      <td>108.28</td>\n",
       "      <td>108.15</td>\n",
       "      <td>10780</td>\n",
       "      <td>108.1800</td>\n",
       "      <td>3660025</td>\n",
       "      <td>108.237579</td>\n",
       "    </tr>\n",
       "    <tr>\n",
       "      <th>2019-04-24 04:00:00+00:00</th>\n",
       "      <td>292.21</td>\n",
       "      <td>293.160</td>\n",
       "      <td>292.0700</td>\n",
       "      <td>203854</td>\n",
       "      <td>292.79</td>\n",
       "      <td>51150196</td>\n",
       "      <td>292.575376</td>\n",
       "      <td>108.50</td>\n",
       "      <td>108.53</td>\n",
       "      <td>108.42</td>\n",
       "      <td>10193</td>\n",
       "      <td>108.4200</td>\n",
       "      <td>3275388</td>\n",
       "      <td>108.497077</td>\n",
       "    </tr>\n",
       "    <tr>\n",
       "      <th>2019-04-25 04:00:00+00:00</th>\n",
       "      <td>292.13</td>\n",
       "      <td>292.780</td>\n",
       "      <td>290.7300</td>\n",
       "      <td>238260</td>\n",
       "      <td>292.12</td>\n",
       "      <td>59111801</td>\n",
       "      <td>292.051817</td>\n",
       "      <td>108.49</td>\n",
       "      <td>108.55</td>\n",
       "      <td>108.42</td>\n",
       "      <td>9122</td>\n",
       "      <td>108.4699</td>\n",
       "      <td>3545283</td>\n",
       "      <td>108.478026</td>\n",
       "    </tr>\n",
       "    <tr>\n",
       "      <th>2019-04-26 04:00:00+00:00</th>\n",
       "      <td>293.41</td>\n",
       "      <td>293.490</td>\n",
       "      <td>291.2401</td>\n",
       "      <td>220440</td>\n",
       "      <td>292.10</td>\n",
       "      <td>51864349</td>\n",
       "      <td>292.620073</td>\n",
       "      <td>108.71</td>\n",
       "      <td>108.75</td>\n",
       "      <td>108.66</td>\n",
       "      <td>8663</td>\n",
       "      <td>108.7400</td>\n",
       "      <td>2811966</td>\n",
       "      <td>108.706248</td>\n",
       "    </tr>\n",
       "  </tbody>\n",
       "</table>\n",
       "</div>"
      ],
      "text/plain": [
       "                              SPY                                         \\\n",
       "                            close     high       low trade_count    open   \n",
       "timestamp                                                                  \n",
       "2019-04-22 04:00:00+00:00  290.30  290.435  289.0700      170763  289.17   \n",
       "2019-04-23 04:00:00+00:00  292.89  293.140  290.4200      232021  290.68   \n",
       "2019-04-24 04:00:00+00:00  292.21  293.160  292.0700      203854  292.79   \n",
       "2019-04-25 04:00:00+00:00  292.13  292.780  290.7300      238260  292.12   \n",
       "2019-04-26 04:00:00+00:00  293.41  293.490  291.2401      220440  292.10   \n",
       "\n",
       "                                                    AGG                  \\\n",
       "                             volume        vwap   close    high     low   \n",
       "timestamp                                                                 \n",
       "2019-04-22 04:00:00+00:00  41438319  290.010232  108.06  108.16  108.05   \n",
       "2019-04-23 04:00:00+00:00  53717869  292.120861  108.25  108.28  108.15   \n",
       "2019-04-24 04:00:00+00:00  51150196  292.575376  108.50  108.53  108.42   \n",
       "2019-04-25 04:00:00+00:00  59111801  292.051817  108.49  108.55  108.42   \n",
       "2019-04-26 04:00:00+00:00  51864349  292.620073  108.71  108.75  108.66   \n",
       "\n",
       "                                                                      \n",
       "                          trade_count      open   volume        vwap  \n",
       "timestamp                                                             \n",
       "2019-04-22 04:00:00+00:00        9161  108.1300  5830321  108.098194  \n",
       "2019-04-23 04:00:00+00:00       10780  108.1800  3660025  108.237579  \n",
       "2019-04-24 04:00:00+00:00       10193  108.4200  3275388  108.497077  \n",
       "2019-04-25 04:00:00+00:00        9122  108.4699  3545283  108.478026  \n",
       "2019-04-26 04:00:00+00:00        8663  108.7400  2811966  108.706248  "
      ]
     },
     "execution_count": 22,
     "metadata": {},
     "output_type": "execute_result"
    }
   ],
   "source": [
    "# Get 5 years' worth of historical data for SPY and AGG\n",
    "five_yr_df = api.get_bars(tickers, timeframe, start=start_date, end=end_date).df\n",
    "# Reorganize the DataFrame\n",
    "# Separate ticker data\n",
    "fiveyr_spy_df = five_yr_df[five_yr_df['symbol']=='SPY'].drop(columns='symbol')\n",
    "fiveyr_agg_df = five_yr_df[five_yr_df['symbol']=='AGG'].drop(columns='symbol')\n",
    "#axis=1\n",
    "\n",
    "# Concatenate the ticker DataFrames\n",
    "fiveyr_stock_data = pd.concat([fiveyr_spy_df, fiveyr_agg_df], axis=1, keys=['SPY', 'AGG'])\n",
    "\n",
    "# Display sample data\n",
    "fiveyr_stock_data.head()\n"
   ]
  },
  {
   "cell_type": "code",
   "execution_count": 23,
   "metadata": {},
   "outputs": [],
   "source": [
    "# Configuring a Monte Carlo simulation to forecast 30 years cumulative returns\n",
    "# YOUR CODE HERE!\n",
    "mc_sim = MCSimulation(\n",
    "    portfolio_data = fiveyr_stock_data,\n",
    "    weights = [0.6, 0.4],\n",
    "    num_simulation = 500,\n",
    "    num_trading_days = 252*30)\n",
    "\n"
   ]
  },
  {
   "cell_type": "code",
   "execution_count": 24,
   "metadata": {},
   "outputs": [
    {
     "data": {
      "text/html": [
       "<div>\n",
       "<style scoped>\n",
       "    .dataframe tbody tr th:only-of-type {\n",
       "        vertical-align: middle;\n",
       "    }\n",
       "\n",
       "    .dataframe tbody tr th {\n",
       "        vertical-align: top;\n",
       "    }\n",
       "\n",
       "    .dataframe thead tr th {\n",
       "        text-align: left;\n",
       "    }\n",
       "\n",
       "    .dataframe thead tr:last-of-type th {\n",
       "        text-align: right;\n",
       "    }\n",
       "</style>\n",
       "<table border=\"1\" class=\"dataframe\">\n",
       "  <thead>\n",
       "    <tr>\n",
       "      <th></th>\n",
       "      <th colspan=\"8\" halign=\"left\">SPY</th>\n",
       "      <th colspan=\"8\" halign=\"left\">AGG</th>\n",
       "    </tr>\n",
       "    <tr>\n",
       "      <th></th>\n",
       "      <th>close</th>\n",
       "      <th>high</th>\n",
       "      <th>low</th>\n",
       "      <th>trade_count</th>\n",
       "      <th>open</th>\n",
       "      <th>volume</th>\n",
       "      <th>vwap</th>\n",
       "      <th>daily_return</th>\n",
       "      <th>close</th>\n",
       "      <th>high</th>\n",
       "      <th>low</th>\n",
       "      <th>trade_count</th>\n",
       "      <th>open</th>\n",
       "      <th>volume</th>\n",
       "      <th>vwap</th>\n",
       "      <th>daily_return</th>\n",
       "    </tr>\n",
       "    <tr>\n",
       "      <th>timestamp</th>\n",
       "      <th></th>\n",
       "      <th></th>\n",
       "      <th></th>\n",
       "      <th></th>\n",
       "      <th></th>\n",
       "      <th></th>\n",
       "      <th></th>\n",
       "      <th></th>\n",
       "      <th></th>\n",
       "      <th></th>\n",
       "      <th></th>\n",
       "      <th></th>\n",
       "      <th></th>\n",
       "      <th></th>\n",
       "      <th></th>\n",
       "      <th></th>\n",
       "    </tr>\n",
       "  </thead>\n",
       "  <tbody>\n",
       "    <tr>\n",
       "      <th>2019-04-22 04:00:00+00:00</th>\n",
       "      <td>290.30</td>\n",
       "      <td>290.435</td>\n",
       "      <td>289.0700</td>\n",
       "      <td>170763</td>\n",
       "      <td>289.17</td>\n",
       "      <td>41438319</td>\n",
       "      <td>290.010232</td>\n",
       "      <td>NaN</td>\n",
       "      <td>108.06</td>\n",
       "      <td>108.16</td>\n",
       "      <td>108.05</td>\n",
       "      <td>9161</td>\n",
       "      <td>108.1300</td>\n",
       "      <td>5830321</td>\n",
       "      <td>108.098194</td>\n",
       "      <td>NaN</td>\n",
       "    </tr>\n",
       "    <tr>\n",
       "      <th>2019-04-23 04:00:00+00:00</th>\n",
       "      <td>292.89</td>\n",
       "      <td>293.140</td>\n",
       "      <td>290.4200</td>\n",
       "      <td>232021</td>\n",
       "      <td>290.68</td>\n",
       "      <td>53717869</td>\n",
       "      <td>292.120861</td>\n",
       "      <td>0.008922</td>\n",
       "      <td>108.25</td>\n",
       "      <td>108.28</td>\n",
       "      <td>108.15</td>\n",
       "      <td>10780</td>\n",
       "      <td>108.1800</td>\n",
       "      <td>3660025</td>\n",
       "      <td>108.237579</td>\n",
       "      <td>0.001758</td>\n",
       "    </tr>\n",
       "    <tr>\n",
       "      <th>2019-04-24 04:00:00+00:00</th>\n",
       "      <td>292.21</td>\n",
       "      <td>293.160</td>\n",
       "      <td>292.0700</td>\n",
       "      <td>203854</td>\n",
       "      <td>292.79</td>\n",
       "      <td>51150196</td>\n",
       "      <td>292.575376</td>\n",
       "      <td>-0.002322</td>\n",
       "      <td>108.50</td>\n",
       "      <td>108.53</td>\n",
       "      <td>108.42</td>\n",
       "      <td>10193</td>\n",
       "      <td>108.4200</td>\n",
       "      <td>3275388</td>\n",
       "      <td>108.497077</td>\n",
       "      <td>0.002309</td>\n",
       "    </tr>\n",
       "    <tr>\n",
       "      <th>2019-04-25 04:00:00+00:00</th>\n",
       "      <td>292.13</td>\n",
       "      <td>292.780</td>\n",
       "      <td>290.7300</td>\n",
       "      <td>238260</td>\n",
       "      <td>292.12</td>\n",
       "      <td>59111801</td>\n",
       "      <td>292.051817</td>\n",
       "      <td>-0.000274</td>\n",
       "      <td>108.49</td>\n",
       "      <td>108.55</td>\n",
       "      <td>108.42</td>\n",
       "      <td>9122</td>\n",
       "      <td>108.4699</td>\n",
       "      <td>3545283</td>\n",
       "      <td>108.478026</td>\n",
       "      <td>-0.000092</td>\n",
       "    </tr>\n",
       "    <tr>\n",
       "      <th>2019-04-26 04:00:00+00:00</th>\n",
       "      <td>293.41</td>\n",
       "      <td>293.490</td>\n",
       "      <td>291.2401</td>\n",
       "      <td>220440</td>\n",
       "      <td>292.10</td>\n",
       "      <td>51864349</td>\n",
       "      <td>292.620073</td>\n",
       "      <td>0.004382</td>\n",
       "      <td>108.71</td>\n",
       "      <td>108.75</td>\n",
       "      <td>108.66</td>\n",
       "      <td>8663</td>\n",
       "      <td>108.7400</td>\n",
       "      <td>2811966</td>\n",
       "      <td>108.706248</td>\n",
       "      <td>0.002028</td>\n",
       "    </tr>\n",
       "  </tbody>\n",
       "</table>\n",
       "</div>"
      ],
      "text/plain": [
       "                              SPY                                         \\\n",
       "                            close     high       low trade_count    open   \n",
       "timestamp                                                                  \n",
       "2019-04-22 04:00:00+00:00  290.30  290.435  289.0700      170763  289.17   \n",
       "2019-04-23 04:00:00+00:00  292.89  293.140  290.4200      232021  290.68   \n",
       "2019-04-24 04:00:00+00:00  292.21  293.160  292.0700      203854  292.79   \n",
       "2019-04-25 04:00:00+00:00  292.13  292.780  290.7300      238260  292.12   \n",
       "2019-04-26 04:00:00+00:00  293.41  293.490  291.2401      220440  292.10   \n",
       "\n",
       "                                                                 AGG          \\\n",
       "                             volume        vwap daily_return   close    high   \n",
       "timestamp                                                                      \n",
       "2019-04-22 04:00:00+00:00  41438319  290.010232          NaN  108.06  108.16   \n",
       "2019-04-23 04:00:00+00:00  53717869  292.120861     0.008922  108.25  108.28   \n",
       "2019-04-24 04:00:00+00:00  51150196  292.575376    -0.002322  108.50  108.53   \n",
       "2019-04-25 04:00:00+00:00  59111801  292.051817    -0.000274  108.49  108.55   \n",
       "2019-04-26 04:00:00+00:00  51864349  292.620073     0.004382  108.71  108.75   \n",
       "\n",
       "                                                                              \\\n",
       "                              low trade_count      open   volume        vwap   \n",
       "timestamp                                                                      \n",
       "2019-04-22 04:00:00+00:00  108.05        9161  108.1300  5830321  108.098194   \n",
       "2019-04-23 04:00:00+00:00  108.15       10780  108.1800  3660025  108.237579   \n",
       "2019-04-24 04:00:00+00:00  108.42       10193  108.4200  3275388  108.497077   \n",
       "2019-04-25 04:00:00+00:00  108.42        9122  108.4699  3545283  108.478026   \n",
       "2019-04-26 04:00:00+00:00  108.66        8663  108.7400  2811966  108.706248   \n",
       "\n",
       "                                        \n",
       "                          daily_return  \n",
       "timestamp                               \n",
       "2019-04-22 04:00:00+00:00          NaN  \n",
       "2019-04-23 04:00:00+00:00     0.001758  \n",
       "2019-04-24 04:00:00+00:00     0.002309  \n",
       "2019-04-25 04:00:00+00:00    -0.000092  \n",
       "2019-04-26 04:00:00+00:00     0.002028  "
      ]
     },
     "execution_count": 24,
     "metadata": {},
     "output_type": "execute_result"
    }
   ],
   "source": [
    "# Printing the simulation input data\n",
    "# YOUR CODE HERE!\n",
    "mc_sim.portfolio_data.head()\n"
   ]
  },
  {
   "cell_type": "code",
   "execution_count": 25,
   "metadata": {},
   "outputs": [
    {
     "name": "stdout",
     "output_type": "stream",
     "text": [
      "Running Monte Carlo simulation number 0.\n",
      "Running Monte Carlo simulation number 10.\n",
      "Running Monte Carlo simulation number 20.\n",
      "Running Monte Carlo simulation number 30.\n",
      "Running Monte Carlo simulation number 40.\n",
      "Running Monte Carlo simulation number 50.\n",
      "Running Monte Carlo simulation number 60.\n",
      "Running Monte Carlo simulation number 70.\n",
      "Running Monte Carlo simulation number 80.\n",
      "Running Monte Carlo simulation number 90.\n",
      "Running Monte Carlo simulation number 100.\n",
      "Running Monte Carlo simulation number 110.\n",
      "Running Monte Carlo simulation number 120.\n",
      "Running Monte Carlo simulation number 130.\n",
      "Running Monte Carlo simulation number 140.\n",
      "Running Monte Carlo simulation number 150.\n",
      "Running Monte Carlo simulation number 160.\n",
      "Running Monte Carlo simulation number 170.\n",
      "Running Monte Carlo simulation number 180.\n",
      "Running Monte Carlo simulation number 190.\n",
      "Running Monte Carlo simulation number 200.\n",
      "Running Monte Carlo simulation number 210.\n",
      "Running Monte Carlo simulation number 220.\n",
      "Running Monte Carlo simulation number 230.\n",
      "Running Monte Carlo simulation number 240.\n",
      "Running Monte Carlo simulation number 250.\n",
      "Running Monte Carlo simulation number 260.\n",
      "Running Monte Carlo simulation number 270.\n",
      "Running Monte Carlo simulation number 280.\n",
      "Running Monte Carlo simulation number 290.\n",
      "Running Monte Carlo simulation number 300.\n",
      "Running Monte Carlo simulation number 310.\n",
      "Running Monte Carlo simulation number 320.\n",
      "Running Monte Carlo simulation number 330.\n",
      "Running Monte Carlo simulation number 340.\n",
      "Running Monte Carlo simulation number 350.\n",
      "Running Monte Carlo simulation number 360.\n",
      "Running Monte Carlo simulation number 370.\n",
      "Running Monte Carlo simulation number 380.\n",
      "Running Monte Carlo simulation number 390.\n",
      "Running Monte Carlo simulation number 400.\n",
      "Running Monte Carlo simulation number 410.\n",
      "Running Monte Carlo simulation number 420.\n",
      "Running Monte Carlo simulation number 430.\n",
      "Running Monte Carlo simulation number 440.\n",
      "Running Monte Carlo simulation number 450.\n",
      "Running Monte Carlo simulation number 460.\n",
      "Running Monte Carlo simulation number 470.\n",
      "Running Monte Carlo simulation number 480.\n",
      "Running Monte Carlo simulation number 490.\n"
     ]
    },
    {
     "data": {
      "text/html": [
       "<div>\n",
       "<style scoped>\n",
       "    .dataframe tbody tr th:only-of-type {\n",
       "        vertical-align: middle;\n",
       "    }\n",
       "\n",
       "    .dataframe tbody tr th {\n",
       "        vertical-align: top;\n",
       "    }\n",
       "\n",
       "    .dataframe thead th {\n",
       "        text-align: right;\n",
       "    }\n",
       "</style>\n",
       "<table border=\"1\" class=\"dataframe\">\n",
       "  <thead>\n",
       "    <tr style=\"text-align: right;\">\n",
       "      <th></th>\n",
       "      <th>0</th>\n",
       "      <th>1</th>\n",
       "      <th>2</th>\n",
       "      <th>3</th>\n",
       "      <th>4</th>\n",
       "      <th>5</th>\n",
       "      <th>6</th>\n",
       "      <th>7</th>\n",
       "      <th>8</th>\n",
       "      <th>9</th>\n",
       "      <th>...</th>\n",
       "      <th>490</th>\n",
       "      <th>491</th>\n",
       "      <th>492</th>\n",
       "      <th>493</th>\n",
       "      <th>494</th>\n",
       "      <th>495</th>\n",
       "      <th>496</th>\n",
       "      <th>497</th>\n",
       "      <th>498</th>\n",
       "      <th>499</th>\n",
       "    </tr>\n",
       "  </thead>\n",
       "  <tbody>\n",
       "    <tr>\n",
       "      <th>0</th>\n",
       "      <td>1.000000</td>\n",
       "      <td>1.000000</td>\n",
       "      <td>1.000000</td>\n",
       "      <td>1.000000</td>\n",
       "      <td>1.000000</td>\n",
       "      <td>1.000000</td>\n",
       "      <td>1.000000</td>\n",
       "      <td>1.000000</td>\n",
       "      <td>1.000000</td>\n",
       "      <td>1.000000</td>\n",
       "      <td>...</td>\n",
       "      <td>1.000000</td>\n",
       "      <td>1.000000</td>\n",
       "      <td>1.000000</td>\n",
       "      <td>1.000000</td>\n",
       "      <td>1.000000</td>\n",
       "      <td>1.000000</td>\n",
       "      <td>1.000000</td>\n",
       "      <td>1.000000</td>\n",
       "      <td>1.000000</td>\n",
       "      <td>1.000000</td>\n",
       "    </tr>\n",
       "    <tr>\n",
       "      <th>1</th>\n",
       "      <td>0.995346</td>\n",
       "      <td>1.000324</td>\n",
       "      <td>1.006007</td>\n",
       "      <td>1.003285</td>\n",
       "      <td>1.009562</td>\n",
       "      <td>0.994394</td>\n",
       "      <td>0.999951</td>\n",
       "      <td>0.996517</td>\n",
       "      <td>1.008025</td>\n",
       "      <td>0.990460</td>\n",
       "      <td>...</td>\n",
       "      <td>1.003481</td>\n",
       "      <td>0.998140</td>\n",
       "      <td>1.009505</td>\n",
       "      <td>0.995132</td>\n",
       "      <td>0.989564</td>\n",
       "      <td>0.986648</td>\n",
       "      <td>0.993786</td>\n",
       "      <td>1.010217</td>\n",
       "      <td>0.989630</td>\n",
       "      <td>1.004956</td>\n",
       "    </tr>\n",
       "    <tr>\n",
       "      <th>2</th>\n",
       "      <td>1.006142</td>\n",
       "      <td>0.993937</td>\n",
       "      <td>0.992466</td>\n",
       "      <td>1.005277</td>\n",
       "      <td>1.013758</td>\n",
       "      <td>0.994672</td>\n",
       "      <td>0.996228</td>\n",
       "      <td>1.010073</td>\n",
       "      <td>1.007844</td>\n",
       "      <td>0.990140</td>\n",
       "      <td>...</td>\n",
       "      <td>1.011885</td>\n",
       "      <td>1.009894</td>\n",
       "      <td>1.012568</td>\n",
       "      <td>0.987509</td>\n",
       "      <td>0.992439</td>\n",
       "      <td>0.991080</td>\n",
       "      <td>0.998980</td>\n",
       "      <td>1.010150</td>\n",
       "      <td>0.983969</td>\n",
       "      <td>0.995372</td>\n",
       "    </tr>\n",
       "    <tr>\n",
       "      <th>3</th>\n",
       "      <td>0.996242</td>\n",
       "      <td>1.007246</td>\n",
       "      <td>0.990892</td>\n",
       "      <td>0.992309</td>\n",
       "      <td>1.017895</td>\n",
       "      <td>1.000557</td>\n",
       "      <td>1.006570</td>\n",
       "      <td>0.999233</td>\n",
       "      <td>0.998246</td>\n",
       "      <td>0.980215</td>\n",
       "      <td>...</td>\n",
       "      <td>1.006811</td>\n",
       "      <td>1.004654</td>\n",
       "      <td>1.013114</td>\n",
       "      <td>0.987030</td>\n",
       "      <td>0.998245</td>\n",
       "      <td>0.985329</td>\n",
       "      <td>1.000692</td>\n",
       "      <td>1.008585</td>\n",
       "      <td>0.989577</td>\n",
       "      <td>0.996906</td>\n",
       "    </tr>\n",
       "    <tr>\n",
       "      <th>4</th>\n",
       "      <td>0.987336</td>\n",
       "      <td>1.006911</td>\n",
       "      <td>0.984593</td>\n",
       "      <td>0.988683</td>\n",
       "      <td>1.022740</td>\n",
       "      <td>1.010900</td>\n",
       "      <td>0.980834</td>\n",
       "      <td>0.997953</td>\n",
       "      <td>0.986243</td>\n",
       "      <td>0.976746</td>\n",
       "      <td>...</td>\n",
       "      <td>1.012909</td>\n",
       "      <td>1.015252</td>\n",
       "      <td>1.024051</td>\n",
       "      <td>0.994575</td>\n",
       "      <td>0.993079</td>\n",
       "      <td>0.982102</td>\n",
       "      <td>0.999626</td>\n",
       "      <td>1.004657</td>\n",
       "      <td>1.011404</td>\n",
       "      <td>0.987423</td>\n",
       "    </tr>\n",
       "    <tr>\n",
       "      <th>...</th>\n",
       "      <td>...</td>\n",
       "      <td>...</td>\n",
       "      <td>...</td>\n",
       "      <td>...</td>\n",
       "      <td>...</td>\n",
       "      <td>...</td>\n",
       "      <td>...</td>\n",
       "      <td>...</td>\n",
       "      <td>...</td>\n",
       "      <td>...</td>\n",
       "      <td>...</td>\n",
       "      <td>...</td>\n",
       "      <td>...</td>\n",
       "      <td>...</td>\n",
       "      <td>...</td>\n",
       "      <td>...</td>\n",
       "      <td>...</td>\n",
       "      <td>...</td>\n",
       "      <td>...</td>\n",
       "      <td>...</td>\n",
       "      <td>...</td>\n",
       "    </tr>\n",
       "    <tr>\n",
       "      <th>7556</th>\n",
       "      <td>1.704085</td>\n",
       "      <td>10.514636</td>\n",
       "      <td>5.372785</td>\n",
       "      <td>6.797371</td>\n",
       "      <td>6.577158</td>\n",
       "      <td>7.523107</td>\n",
       "      <td>4.308874</td>\n",
       "      <td>10.881740</td>\n",
       "      <td>4.254343</td>\n",
       "      <td>16.223624</td>\n",
       "      <td>...</td>\n",
       "      <td>1.281360</td>\n",
       "      <td>3.857341</td>\n",
       "      <td>7.314056</td>\n",
       "      <td>2.560212</td>\n",
       "      <td>2.575871</td>\n",
       "      <td>9.182779</td>\n",
       "      <td>3.100259</td>\n",
       "      <td>1.796261</td>\n",
       "      <td>2.772517</td>\n",
       "      <td>2.433056</td>\n",
       "    </tr>\n",
       "    <tr>\n",
       "      <th>7557</th>\n",
       "      <td>1.691415</td>\n",
       "      <td>10.539741</td>\n",
       "      <td>5.397742</td>\n",
       "      <td>6.807578</td>\n",
       "      <td>6.572431</td>\n",
       "      <td>7.601311</td>\n",
       "      <td>4.370146</td>\n",
       "      <td>10.757533</td>\n",
       "      <td>4.198139</td>\n",
       "      <td>16.189586</td>\n",
       "      <td>...</td>\n",
       "      <td>1.281398</td>\n",
       "      <td>3.819492</td>\n",
       "      <td>7.320166</td>\n",
       "      <td>2.597650</td>\n",
       "      <td>2.555357</td>\n",
       "      <td>9.069248</td>\n",
       "      <td>3.090638</td>\n",
       "      <td>1.784761</td>\n",
       "      <td>2.796410</td>\n",
       "      <td>2.411824</td>\n",
       "    </tr>\n",
       "    <tr>\n",
       "      <th>7558</th>\n",
       "      <td>1.700733</td>\n",
       "      <td>10.431046</td>\n",
       "      <td>5.360397</td>\n",
       "      <td>6.780740</td>\n",
       "      <td>6.637086</td>\n",
       "      <td>7.631097</td>\n",
       "      <td>4.336541</td>\n",
       "      <td>10.830666</td>\n",
       "      <td>4.223345</td>\n",
       "      <td>16.061589</td>\n",
       "      <td>...</td>\n",
       "      <td>1.275146</td>\n",
       "      <td>3.821289</td>\n",
       "      <td>7.259773</td>\n",
       "      <td>2.556292</td>\n",
       "      <td>2.564683</td>\n",
       "      <td>9.178894</td>\n",
       "      <td>3.080797</td>\n",
       "      <td>1.795533</td>\n",
       "      <td>2.774664</td>\n",
       "      <td>2.410587</td>\n",
       "    </tr>\n",
       "    <tr>\n",
       "      <th>7559</th>\n",
       "      <td>1.716138</td>\n",
       "      <td>10.478790</td>\n",
       "      <td>5.426496</td>\n",
       "      <td>6.797235</td>\n",
       "      <td>6.627383</td>\n",
       "      <td>7.688003</td>\n",
       "      <td>4.331176</td>\n",
       "      <td>10.830714</td>\n",
       "      <td>4.273537</td>\n",
       "      <td>16.138153</td>\n",
       "      <td>...</td>\n",
       "      <td>1.258805</td>\n",
       "      <td>3.805524</td>\n",
       "      <td>7.316294</td>\n",
       "      <td>2.566269</td>\n",
       "      <td>2.533110</td>\n",
       "      <td>9.263016</td>\n",
       "      <td>3.087314</td>\n",
       "      <td>1.808442</td>\n",
       "      <td>2.809233</td>\n",
       "      <td>2.420109</td>\n",
       "    </tr>\n",
       "    <tr>\n",
       "      <th>7560</th>\n",
       "      <td>1.721007</td>\n",
       "      <td>10.592913</td>\n",
       "      <td>5.389723</td>\n",
       "      <td>6.766522</td>\n",
       "      <td>6.583263</td>\n",
       "      <td>7.681015</td>\n",
       "      <td>4.380725</td>\n",
       "      <td>10.882491</td>\n",
       "      <td>4.291421</td>\n",
       "      <td>16.117433</td>\n",
       "      <td>...</td>\n",
       "      <td>1.255314</td>\n",
       "      <td>3.805404</td>\n",
       "      <td>7.422079</td>\n",
       "      <td>2.598144</td>\n",
       "      <td>2.534636</td>\n",
       "      <td>9.370818</td>\n",
       "      <td>3.064951</td>\n",
       "      <td>1.800756</td>\n",
       "      <td>2.828020</td>\n",
       "      <td>2.418801</td>\n",
       "    </tr>\n",
       "  </tbody>\n",
       "</table>\n",
       "<p>7561 rows × 500 columns</p>\n",
       "</div>"
      ],
      "text/plain": [
       "           0          1         2         3         4         5         6    \\\n",
       "0     1.000000   1.000000  1.000000  1.000000  1.000000  1.000000  1.000000   \n",
       "1     0.995346   1.000324  1.006007  1.003285  1.009562  0.994394  0.999951   \n",
       "2     1.006142   0.993937  0.992466  1.005277  1.013758  0.994672  0.996228   \n",
       "3     0.996242   1.007246  0.990892  0.992309  1.017895  1.000557  1.006570   \n",
       "4     0.987336   1.006911  0.984593  0.988683  1.022740  1.010900  0.980834   \n",
       "...        ...        ...       ...       ...       ...       ...       ...   \n",
       "7556  1.704085  10.514636  5.372785  6.797371  6.577158  7.523107  4.308874   \n",
       "7557  1.691415  10.539741  5.397742  6.807578  6.572431  7.601311  4.370146   \n",
       "7558  1.700733  10.431046  5.360397  6.780740  6.637086  7.631097  4.336541   \n",
       "7559  1.716138  10.478790  5.426496  6.797235  6.627383  7.688003  4.331176   \n",
       "7560  1.721007  10.592913  5.389723  6.766522  6.583263  7.681015  4.380725   \n",
       "\n",
       "            7         8          9    ...       490       491       492  \\\n",
       "0      1.000000  1.000000   1.000000  ...  1.000000  1.000000  1.000000   \n",
       "1      0.996517  1.008025   0.990460  ...  1.003481  0.998140  1.009505   \n",
       "2      1.010073  1.007844   0.990140  ...  1.011885  1.009894  1.012568   \n",
       "3      0.999233  0.998246   0.980215  ...  1.006811  1.004654  1.013114   \n",
       "4      0.997953  0.986243   0.976746  ...  1.012909  1.015252  1.024051   \n",
       "...         ...       ...        ...  ...       ...       ...       ...   \n",
       "7556  10.881740  4.254343  16.223624  ...  1.281360  3.857341  7.314056   \n",
       "7557  10.757533  4.198139  16.189586  ...  1.281398  3.819492  7.320166   \n",
       "7558  10.830666  4.223345  16.061589  ...  1.275146  3.821289  7.259773   \n",
       "7559  10.830714  4.273537  16.138153  ...  1.258805  3.805524  7.316294   \n",
       "7560  10.882491  4.291421  16.117433  ...  1.255314  3.805404  7.422079   \n",
       "\n",
       "           493       494       495       496       497       498       499  \n",
       "0     1.000000  1.000000  1.000000  1.000000  1.000000  1.000000  1.000000  \n",
       "1     0.995132  0.989564  0.986648  0.993786  1.010217  0.989630  1.004956  \n",
       "2     0.987509  0.992439  0.991080  0.998980  1.010150  0.983969  0.995372  \n",
       "3     0.987030  0.998245  0.985329  1.000692  1.008585  0.989577  0.996906  \n",
       "4     0.994575  0.993079  0.982102  0.999626  1.004657  1.011404  0.987423  \n",
       "...        ...       ...       ...       ...       ...       ...       ...  \n",
       "7556  2.560212  2.575871  9.182779  3.100259  1.796261  2.772517  2.433056  \n",
       "7557  2.597650  2.555357  9.069248  3.090638  1.784761  2.796410  2.411824  \n",
       "7558  2.556292  2.564683  9.178894  3.080797  1.795533  2.774664  2.410587  \n",
       "7559  2.566269  2.533110  9.263016  3.087314  1.808442  2.809233  2.420109  \n",
       "7560  2.598144  2.534636  9.370818  3.064951  1.800756  2.828020  2.418801  \n",
       "\n",
       "[7561 rows x 500 columns]"
      ]
     },
     "execution_count": 25,
     "metadata": {},
     "output_type": "execute_result"
    }
   ],
   "source": [
    "# Running a Monte Carlo simulation to forecast 30 years cumulative returns\n",
    "# YOUR CODE HERE!\n",
    "mc_sim.calc_cumulative_return()"
   ]
  },
  {
   "cell_type": "code",
   "execution_count": 26,
   "metadata": {},
   "outputs": [
    {
     "data": {
      "text/plain": [
       "<Axes: title={'center': '500 Simulations of Cumulative Portfolio Return Trajectories Over the Next 7560 Trading Days.'}>"
      ]
     },
     "execution_count": 26,
     "metadata": {},
     "output_type": "execute_result"
    },
    {
     "data": {
      "image/png": "[encoded data removed]",
      "text/plain": [
       "<Figure size 640x480 with 1 Axes>"
      ]
     },
     "metadata": {},
     "output_type": "display_data"
    }
   ],
   "source": [
    "# Plot simulation outcomes\n",
    "# YOUR CODE HERE!\n",
    "mc_sim.plot_simulation()"
   ]
  },
  {
   "cell_type": "code",
   "execution_count": 27,
   "metadata": {},
   "outputs": [
    {
     "data": {
      "text/plain": [
       "<Axes: title={'center': 'Distribution of Final Cumuluative Returns Across All 500 Simulations'}, ylabel='Frequency'>"
      ]
     },
     "execution_count": 27,
     "metadata": {},
     "output_type": "execute_result"
    },
    {
     "data": {
      "image/png": "[encoded data removed]",
      "text/plain": [
       "<Figure size 640x480 with 1 Axes>"
      ]
     },
     "metadata": {},
     "output_type": "display_data"
    }
   ],
   "source": [
    "# Plot probability distribution and confidence intervals\n",
    "# YOUR CODE HERE!\n",
    "mc_sim.plot_distribution()\n"
   ]
  },
  {
   "cell_type": "markdown",
   "metadata": {},
   "source": [
    "### Retirement Analysis"
   ]
  },
  {
   "cell_type": "code",
   "execution_count": 36,
   "metadata": {},
   "outputs": [
    {
     "ename": "AttributeError",
     "evalue": "'Series' object has no attribute 'append'",
     "output_type": "error",
     "traceback": [
      "\u001b[1;31m---------------------------------------------------------------------------\u001b[0m",
      "\u001b[1;31mAttributeError\u001b[0m                            Traceback (most recent call last)",
      "\u001b[1;32m~\\AppData\\Local\\Temp\\ipykernel_6648\\4137434765.py\u001b[0m in \u001b[0;36m?\u001b[1;34m()\u001b[0m\n\u001b[0;32m      1\u001b[0m \u001b[1;31m# Fetch summary statistics from the Monte Carlo simulation results\u001b[0m\u001b[1;33m\u001b[0m\u001b[1;33m\u001b[0m\u001b[0m\n\u001b[1;32m----> 2\u001b[1;33m \u001b[0msummary_stats\u001b[0m \u001b[1;33m=\u001b[0m \u001b[0mmc_sim\u001b[0m\u001b[1;33m.\u001b[0m\u001b[0msummarize_cumulative_return\u001b[0m\u001b[1;33m(\u001b[0m\u001b[1;33m)\u001b[0m\u001b[1;33m\u001b[0m\u001b[1;33m\u001b[0m\u001b[0m\n\u001b[0m\u001b[0;32m      3\u001b[0m \u001b[0mci_lower\u001b[0m \u001b[1;33m=\u001b[0m \u001b[0msummary_stats\u001b[0m\u001b[1;33m.\u001b[0m\u001b[0mloc\u001b[0m\u001b[1;33m[\u001b[0m\u001b[1;34m\"95% CI Lower\"\u001b[0m\u001b[1;33m]\u001b[0m\u001b[1;33m\u001b[0m\u001b[1;33m\u001b[0m\u001b[0m\n\u001b[0;32m      4\u001b[0m \u001b[0mci_upper\u001b[0m \u001b[1;33m=\u001b[0m \u001b[0msummary_stats\u001b[0m\u001b[1;33m.\u001b[0m\u001b[0mloc\u001b[0m\u001b[1;33m[\u001b[0m\u001b[1;34m\"95% CI Upper\"\u001b[0m\u001b[1;33m]\u001b[0m\u001b[1;33m\u001b[0m\u001b[1;33m\u001b[0m\u001b[0m\n\u001b[0;32m      5\u001b[0m \u001b[1;33m\u001b[0m\u001b[0m\n",
      "\u001b[1;32m~\\Desktop\\finplanning\\Instructions\\Starter_Code\\MCForecastTools.py\u001b[0m in \u001b[0;36m?\u001b[1;34m(self)\u001b[0m\n\u001b[0;32m    168\u001b[0m \u001b[1;33m\u001b[0m\u001b[0m\n\u001b[0;32m    169\u001b[0m         \u001b[0mmetrics\u001b[0m \u001b[1;33m=\u001b[0m \u001b[0mself\u001b[0m\u001b[1;33m.\u001b[0m\u001b[0msimulated_return\u001b[0m\u001b[1;33m.\u001b[0m\u001b[0miloc\u001b[0m\u001b[1;33m[\u001b[0m\u001b[1;33m-\u001b[0m\u001b[1;36m1\u001b[0m\u001b[1;33m]\u001b[0m\u001b[1;33m.\u001b[0m\u001b[0mdescribe\u001b[0m\u001b[1;33m(\u001b[0m\u001b[1;33m)\u001b[0m\u001b[1;33m\u001b[0m\u001b[1;33m\u001b[0m\u001b[0m\n\u001b[0;32m    170\u001b[0m         \u001b[0mci_series\u001b[0m \u001b[1;33m=\u001b[0m \u001b[0mself\u001b[0m\u001b[1;33m.\u001b[0m\u001b[0mconfidence_interval\u001b[0m\u001b[1;33m\u001b[0m\u001b[1;33m\u001b[0m\u001b[0m\n\u001b[0;32m    171\u001b[0m         \u001b[0mci_series\u001b[0m\u001b[1;33m.\u001b[0m\u001b[0mindex\u001b[0m \u001b[1;33m=\u001b[0m \u001b[1;33m[\u001b[0m\u001b[1;34m\"95% CI Lower\"\u001b[0m\u001b[1;33m,\u001b[0m\u001b[1;34m\"95% CI Upper\"\u001b[0m\u001b[1;33m]\u001b[0m\u001b[1;33m\u001b[0m\u001b[1;33m\u001b[0m\u001b[0m\n\u001b[1;32m--> 172\u001b[1;33m         \u001b[1;32mreturn\u001b[0m \u001b[0mmetrics\u001b[0m\u001b[1;33m.\u001b[0m\u001b[0mappend\u001b[0m\u001b[1;33m(\u001b[0m\u001b[0mci_series\u001b[0m\u001b[1;33m)\u001b[0m\u001b[1;33m\u001b[0m\u001b[1;33m\u001b[0m\u001b[0m\n\u001b[0m",
      "\u001b[1;32m~\\anaconda3\\Lib\\site-packages\\pandas\\core\\generic.py\u001b[0m in \u001b[0;36m?\u001b[1;34m(self, name)\u001b[0m\n\u001b[0;32m   6200\u001b[0m             \u001b[1;32mand\u001b[0m \u001b[0mname\u001b[0m \u001b[1;32mnot\u001b[0m \u001b[1;32min\u001b[0m \u001b[0mself\u001b[0m\u001b[1;33m.\u001b[0m\u001b[0m_accessors\u001b[0m\u001b[1;33m\u001b[0m\u001b[1;33m\u001b[0m\u001b[0m\n\u001b[0;32m   6201\u001b[0m             \u001b[1;32mand\u001b[0m \u001b[0mself\u001b[0m\u001b[1;33m.\u001b[0m\u001b[0m_info_axis\u001b[0m\u001b[1;33m.\u001b[0m\u001b[0m_can_hold_identifiers_and_holds_name\u001b[0m\u001b[1;33m(\u001b[0m\u001b[0mname\u001b[0m\u001b[1;33m)\u001b[0m\u001b[1;33m\u001b[0m\u001b[1;33m\u001b[0m\u001b[0m\n\u001b[0;32m   6202\u001b[0m         ):\n\u001b[0;32m   6203\u001b[0m             \u001b[1;32mreturn\u001b[0m \u001b[0mself\u001b[0m\u001b[1;33m[\u001b[0m\u001b[0mname\u001b[0m\u001b[1;33m]\u001b[0m\u001b[1;33m\u001b[0m\u001b[1;33m\u001b[0m\u001b[0m\n\u001b[1;32m-> 6204\u001b[1;33m         \u001b[1;32mreturn\u001b[0m \u001b[0mobject\u001b[0m\u001b[1;33m.\u001b[0m\u001b[0m__getattribute__\u001b[0m\u001b[1;33m(\u001b[0m\u001b[0mself\u001b[0m\u001b[1;33m,\u001b[0m \u001b[0mname\u001b[0m\u001b[1;33m)\u001b[0m\u001b[1;33m\u001b[0m\u001b[1;33m\u001b[0m\u001b[0m\n\u001b[0m",
      "\u001b[1;31mAttributeError\u001b[0m: 'Series' object has no attribute 'append'"
     ]
    }
   ],
   "source": [
    "# Fetch summary statistics from the Monte Carlo simulation results\n",
    "summary_stats = mc_sim.summarize_cumulative_return()\n",
    "\n",
    "# Print summary statistics\n",
    "print(summary_stats)\n",
    "\n",
    "# Extract the lower and upper bounds of the 95% confidence interval\n",
    "ci_lower = summary_stats.loc[\"95% CI Lower\"]\n",
    "ci_upper = summary_stats.loc[\"95% CI Upper\"]\n",
    "\n",
    "# Print the lower and upper bounds of the 95% confidence interval\n",
    "print(f\"Lower Bound of the 95% Confidence Interval: ${ci_lower}\")\n",
    "print(f\"Upper Bound of the 95% Confidence Interval: ${ci_upper}\"\n"
   ]
  },
  {
   "cell_type": "markdown",
   "metadata": {},
   "source": [
    "### Calculate the expected portfolio return at the `95%` lower and upper confidence intervals based on a `$20,000` initial investment."
   ]
  },
  {
   "cell_type": "code",
   "execution_count": 31,
   "metadata": {},
   "outputs": [
    {
     "ename": "NameError",
     "evalue": "name 'ci_lower' is not defined",
     "output_type": "error",
     "traceback": [
      "\u001b[1;31m---------------------------------------------------------------------------\u001b[0m",
      "\u001b[1;31mNameError\u001b[0m                                 Traceback (most recent call last)",
      "Cell \u001b[1;32mIn[31], line 10\u001b[0m\n\u001b[0;32m      2\u001b[0m initial_investment \u001b[38;5;241m=\u001b[39m \u001b[38;5;241m20000\u001b[39m\n\u001b[0;32m      4\u001b[0m \u001b[38;5;66;03m# Use the lower and upper `95%` confidence intervals to calculate the range of the possible outcomes of our $20,000\u001b[39;00m\n\u001b[0;32m      5\u001b[0m \u001b[38;5;66;03m# YOUR CODE HERE!\u001b[39;00m\n\u001b[0;32m      6\u001b[0m \n\u001b[0;32m      7\u001b[0m \u001b[38;5;66;03m# Print results\u001b[39;00m\n\u001b[0;32m      8\u001b[0m \u001b[38;5;28mprint\u001b[39m(\u001b[38;5;124mf\u001b[39m\u001b[38;5;124m\"\u001b[39m\u001b[38;5;124mThere is a 95% chance that an initial investment of $\u001b[39m\u001b[38;5;132;01m{\u001b[39;00minitial_investment\u001b[38;5;132;01m}\u001b[39;00m\u001b[38;5;124m in the portfolio\u001b[39m\u001b[38;5;124m\"\u001b[39m\n\u001b[0;32m      9\u001b[0m       \u001b[38;5;124mf\u001b[39m\u001b[38;5;124m\"\u001b[39m\u001b[38;5;124m over the next 30 years will end within in the range of\u001b[39m\u001b[38;5;124m\"\u001b[39m\n\u001b[1;32m---> 10\u001b[0m       \u001b[38;5;124mf\u001b[39m\u001b[38;5;124m\"\u001b[39m\u001b[38;5;124m $\u001b[39m\u001b[38;5;132;01m{\u001b[39;00mci_lower\u001b[38;5;132;01m}\u001b[39;00m\u001b[38;5;124m and $\u001b[39m\u001b[38;5;132;01m{\u001b[39;00mci_upper\u001b[38;5;132;01m}\u001b[39;00m\u001b[38;5;124m\"\u001b[39m)\n",
      "\u001b[1;31mNameError\u001b[0m: name 'ci_lower' is not defined"
     ]
    }
   ],
   "source": [
    "# Set initial investment\n",
    "initial_investment = 20000\n",
    "\n",
    "# Use the lower and upper `95%` confidence intervals to calculate the range of the possible outcomes of our $20,000\n",
    "# YOUR CODE HERE!\n",
    "\n",
    "# Print results\n",
    "print(f\"There is a 95% chance that an initial investment of ${initial_investment} in the portfolio\"\n",
    "      f\" over the next 30 years will end within in the range of\"\n",
    "      f\" ${ci_lower} and ${ci_upper}\")"
   ]
  },
  {
   "cell_type": "markdown",
   "metadata": {},
   "source": [
    "### Calculate the expected portfolio return at the `95%` lower and upper confidence intervals based on a `50%` increase in the initial investment."
   ]
  },
  {
   "cell_type": "code",
   "execution_count": null,
   "metadata": {},
   "outputs": [],
   "source": [
    "# Set initial investment\n",
    "initial_investment = 20000 * 1.5\n",
    "\n",
    "# Use the lower and upper `95%` confidence intervals to calculate the range of the possible outcomes of our $30,000\n",
    "# YOUR CODE HERE!\n",
    "\n",
    "# Print results\n",
    "print(f\"There is a 95% chance that an initial investment of ${initial_investment} in the portfolio\"\n",
    "      f\" over the next 30 years will end within in the range of\"\n",
    "      f\" ${ci_lower} and ${ci_upper}\")"
   ]
  },
  {
   "cell_type": "markdown",
   "metadata": {},
   "source": [
    "## Optional Challenge - Early Retirement\n",
    "\n",
    "\n",
    "### Five Years Retirement Option"
   ]
  },
  {
   "cell_type": "code",
   "execution_count": null,
   "metadata": {},
   "outputs": [],
   "source": [
    "# Configuring a Monte Carlo simulation to forecast 5 years cumulative returns\n",
    "# YOUR CODE HERE!"
   ]
  },
  {
   "cell_type": "code",
   "execution_count": null,
   "metadata": {},
   "outputs": [],
   "source": [
    "# Running a Monte Carlo simulation to forecast 5 years cumulative returns\n",
    "# YOUR CODE HERE!"
   ]
  },
  {
   "cell_type": "code",
   "execution_count": null,
   "metadata": {},
   "outputs": [],
   "source": [
    "# Plot simulation outcomes\n",
    "# YOUR CODE HERE!"
   ]
  },
  {
   "cell_type": "code",
   "execution_count": null,
   "metadata": {},
   "outputs": [],
   "source": [
    "# Plot probability distribution and confidence intervals\n",
    "# YOUR CODE HERE!"
   ]
  },
  {
   "cell_type": "code",
   "execution_count": null,
   "metadata": {},
   "outputs": [],
   "source": [
    "# Fetch summary statistics from the Monte Carlo simulation results\n",
    "# YOUR CODE HERE!\n",
    "\n",
    "# Print summary statistics\n",
    "# YOUR CODE HERE!"
   ]
  },
  {
   "cell_type": "code",
   "execution_count": null,
   "metadata": {},
   "outputs": [],
   "source": [
    "# Set initial investment\n",
    "# YOUR CODE HERE!\n",
    "\n",
    "# Use the lower and upper `95%` confidence intervals to calculate the range of the possible outcomes of our $60,000\n",
    "# YOUR CODE HERE!\n",
    "\n",
    "# Print results\n",
    "print(f\"There is a 95% chance that an initial investment of ${initial_investment} in the portfolio\"\n",
    "      f\" over the next 5 years will end within in the range of\"\n",
    "      f\" ${ci_lower_five} and ${ci_upper_five}\")"
   ]
  },
  {
   "cell_type": "markdown",
   "metadata": {},
   "source": [
    "### Ten Years Retirement Option"
   ]
  },
  {
   "cell_type": "code",
   "execution_count": null,
   "metadata": {},
   "outputs": [],
   "source": [
    "# Configuring a Monte Carlo simulation to forecast 10 years cumulative returns\n",
    "# YOUR CODE HERE!"
   ]
  },
  {
   "cell_type": "code",
   "execution_count": null,
   "metadata": {},
   "outputs": [],
   "source": [
    "# Running a Monte Carlo simulation to forecast 10 years cumulative returns\n",
    "# YOUR CODE HERE!"
   ]
  },
  {
   "cell_type": "code",
   "execution_count": null,
   "metadata": {},
   "outputs": [],
   "source": [
    "# Plot simulation outcomes\n",
    "# YOUR CODE HERE!"
   ]
  },
  {
   "cell_type": "code",
   "execution_count": null,
   "metadata": {},
   "outputs": [],
   "source": [
    "# Plot probability distribution and confidence intervals\n",
    "# YOUR CODE HERE!"
   ]
  },
  {
   "cell_type": "code",
   "execution_count": null,
   "metadata": {},
   "outputs": [],
   "source": [
    "# Fetch summary statistics from the Monte Carlo simulation results\n",
    "# YOUR CODE HERE!\n",
    "\n",
    "# Print summary statistics\n",
    "# YOUR CODE HERE!"
   ]
  },
  {
   "cell_type": "code",
   "execution_count": null,
   "metadata": {},
   "outputs": [],
   "source": [
    "# Set initial investment\n",
    "# YOUR CODE HERE!\n",
    "\n",
    "# Use the lower and upper `95%` confidence intervals to calculate the range of the possible outcomes of our $60,000\n",
    "# YOUR CODE HERE!\n",
    "\n",
    "# Print results\n",
    "print(f\"There is a 95% chance that an initial investment of ${initial_investment} in the portfolio\"\n",
    "      f\" over the next 10 years will end within in the range of\"\n",
    "      f\" ${ci_lower_ten} and ${ci_upper_ten}\")"
   ]
  },
  {
   "cell_type": "code",
   "execution_count": null,
   "metadata": {},
   "outputs": [],
   "source": []
  }
 ],
 "metadata": {
  "kernelspec": {
   "display_name": "Python 3 (ipykernel)",
   "language": "python",
   "name": "python3"
  },
  "language_info": {
   "codemirror_mode": {
    "name": "ipython",
    "version": 3
   },
   "file_extension": ".py",
   "mimetype": "text/x-python",
   "name": "python",
   "nbconvert_exporter": "python",
   "pygments_lexer": "ipython3",
   "version": "3.11.7"
  },
  "nteract": {
   "version": "0.28.0"
  }
 },
 "nbformat": 4,
 "nbformat_minor": 4
}

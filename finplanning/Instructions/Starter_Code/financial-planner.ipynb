{
 "cells": [
  {
   "cell_type": "markdown",
   "metadata": {},
   "source": [
    "# Unit 5 - Financial Planning"
   ]
  },
  {
   "cell_type": "code",
   "execution_count": 1,
   "metadata": {
    "tags": []
   },
   "outputs": [
    {
     "ename": "ModuleNotFoundError",
     "evalue": "No module named 'requests'",
     "output_type": "error",
     "traceback": [
      "\u001b[1;31m---------------------------------------------------------------------------\u001b[0m",
      "\u001b[1;31mModuleNotFoundError\u001b[0m                       Traceback (most recent call last)",
      "Cell \u001b[1;32mIn[1], line 3\u001b[0m\n\u001b[0;32m      1\u001b[0m \u001b[38;5;66;03m# Initial imports\u001b[39;00m\n\u001b[0;32m      2\u001b[0m \u001b[38;5;28;01mimport\u001b[39;00m \u001b[38;5;21;01mos\u001b[39;00m\n\u001b[1;32m----> 3\u001b[0m \u001b[38;5;28;01mimport\u001b[39;00m \u001b[38;5;21;01mrequests\u001b[39;00m\n\u001b[0;32m      4\u001b[0m \u001b[38;5;28;01mimport\u001b[39;00m \u001b[38;5;21;01mpandas\u001b[39;00m \u001b[38;5;28;01mas\u001b[39;00m \u001b[38;5;21;01mpd\u001b[39;00m\n\u001b[0;32m      5\u001b[0m \u001b[38;5;28;01mfrom\u001b[39;00m \u001b[38;5;21;01mdotenv\u001b[39;00m \u001b[38;5;28;01mimport\u001b[39;00m load_dotenv\n",
      "\u001b[1;31mModuleNotFoundError\u001b[0m: No module named 'requests'"
     ]
    }
   ],
   "source": [
    "# Initial imports\n",
    "import os\n",
    "import requests\n",
    "import pandas as pd\n",
    "from dotenv import load_dotenv\n",
    "import alpaca_trade_api as tradeapi\n",
    "from MCForecastTools import MCSimulation\n",
    "import warnings\n",
    "\n",
    "warnings.filterwarnings('ignore', category=pd.errors.PerformanceWarning)\n",
    "\n",
    "\n",
    "%matplotlib inline"
   ]
  },
  {
   "cell_type": "code",
   "execution_count": null,
   "metadata": {
    "tags": []
   },
   "outputs": [
    {
     "data": {
      "text/plain": [
       "True"
      ]
     },
     "execution_count": 3,
     "metadata": {},
     "output_type": "execute_result"
    }
   ],
   "source": [
    "# Load .env enviroment variables\n",
    "load_dotenv()"
   ]
  },
  {
   "cell_type": "markdown",
   "metadata": {},
   "source": [
    "## Part 1 - Personal Finance Planner"
   ]
  },
  {
   "cell_type": "markdown",
   "metadata": {},
   "source": [
    "### Collect Crypto Prices Using the `requests` Library"
   ]
  },
  {
   "cell_type": "code",
   "execution_count": null,
   "metadata": {
    "tags": []
   },
   "outputs": [],
   "source": [
    "# Set current amount of crypto assets\n",
    "my_btc = 1.2\n",
    "my_eth = 5.3\n",
    "#my_btc = float(my_btc)\n",
    "#my_eth = float(my_eth)"
   ]
  },
  {
   "cell_type": "code",
   "execution_count": null,
   "metadata": {
    "tags": []
   },
   "outputs": [],
   "source": [
    "# Crypto API URLs\n",
    "btc_url = \"https://api.alternative.me/v2/ticker/Bitcoin/?convert=USD\"\n",
    "eth_url = \"https://api.alternative.me/v2/ticker/Ethereum/?convert=USD\""
   ]
  },
  {
   "cell_type": "code",
   "execution_count": null,
   "metadata": {
    "tags": []
   },
   "outputs": [
    {
     "name": "stdout",
     "output_type": "stream",
     "text": [
      "The current value of your my btc BTC is $73188.00\n",
      "The current value of your my eth ETH is $15712.59\n"
     ]
    }
   ],
   "source": [
    "# Fetch current BTC price\n",
    "my_btc = requests.get(btc_url).json()\n",
    "btc_value = my_btc['data']['1']['quotes']['USD']['price']\n",
    "# Fetch current ETH price\n",
    "my_eth = requests.get(eth_url).json()\n",
    "eth_value = my_eth['data']['1027']['quotes']['USD']['price']\n",
    "# Compute current value of my crpto\n",
    "my_btc_value = 1.2 * btc_value\n",
    "my_eth_value = 5.3 * eth_value \n",
    "portfolio_value= btc_value + eth_value\n",
    "# Print current crypto wallet balance\n",
    "print(f\"The current value of your {'my btc'} BTC is ${my_btc_value:0.2f}\")\n",
    "print(f\"The current value of your {'my eth'} ETH is ${my_eth_value:0.2f}\")"
   ]
  },
  {
   "cell_type": "markdown",
   "metadata": {},
   "source": [
    "### Collect Investments Data Using Alpaca: `SPY` (stocks) and `AGG` (bonds)"
   ]
  },
  {
   "cell_type": "code",
   "execution_count": null,
   "metadata": {
    "tags": []
   },
   "outputs": [],
   "source": [
    "# Set current amount of shares\n",
    "my_agg = 200\n",
    "my_spy = 50"
   ]
  },
  {
   "cell_type": "code",
   "execution_count": null,
   "metadata": {
    "tags": []
   },
   "outputs": [],
   "source": [
    "# Set Alpaca API key and secret\n",
    "api_key= os.getenv(\"ALPACA_API_KEY\")\n",
    "api_secret= os.getenv(\"ALPACA_SECRET_KEY\")\n",
    "#alpaca_endpoint = os.getenv(\"ALPACA_ENDPOINT\")\n",
    "api = tradeapi.REST(api_key, api_secret, api_version=\"v2\")\n",
    "#base_url = alpaca_endpoint"
   ]
  },
  {
   "cell_type": "code",
   "execution_count": null,
   "metadata": {
    "tags": []
   },
   "outputs": [
    {
     "data": {
      "text/html": [
       "<div>\n",
       "<style scoped>\n",
       "    .dataframe tbody tr th:only-of-type {\n",
       "        vertical-align: middle;\n",
       "    }\n",
       "\n",
       "    .dataframe tbody tr th {\n",
       "        vertical-align: top;\n",
       "    }\n",
       "\n",
       "    .dataframe thead tr th {\n",
       "        text-align: left;\n",
       "    }\n",
       "\n",
       "    .dataframe thead tr:last-of-type th {\n",
       "        text-align: right;\n",
       "    }\n",
       "</style>\n",
       "<table border=\"1\" class=\"dataframe\">\n",
       "  <thead>\n",
       "    <tr>\n",
       "      <th></th>\n",
       "      <th colspan=\"7\" halign=\"left\">AGG</th>\n",
       "      <th colspan=\"7\" halign=\"left\">SPY</th>\n",
       "    </tr>\n",
       "    <tr>\n",
       "      <th></th>\n",
       "      <th>close</th>\n",
       "      <th>high</th>\n",
       "      <th>low</th>\n",
       "      <th>trade_count</th>\n",
       "      <th>open</th>\n",
       "      <th>volume</th>\n",
       "      <th>vwap</th>\n",
       "      <th>close</th>\n",
       "      <th>high</th>\n",
       "      <th>low</th>\n",
       "      <th>trade_count</th>\n",
       "      <th>open</th>\n",
       "      <th>volume</th>\n",
       "      <th>vwap</th>\n",
       "    </tr>\n",
       "    <tr>\n",
       "      <th>timestamp</th>\n",
       "      <th></th>\n",
       "      <th></th>\n",
       "      <th></th>\n",
       "      <th></th>\n",
       "      <th></th>\n",
       "      <th></th>\n",
       "      <th></th>\n",
       "      <th></th>\n",
       "      <th></th>\n",
       "      <th></th>\n",
       "      <th></th>\n",
       "      <th></th>\n",
       "      <th></th>\n",
       "      <th></th>\n",
       "    </tr>\n",
       "  </thead>\n",
       "  <tbody>\n",
       "    <tr>\n",
       "      <th>2024-04-19 04:00:00+00:00</th>\n",
       "      <td>95.38</td>\n",
       "      <td>95.55</td>\n",
       "      <td>95.33</td>\n",
       "      <td>25285</td>\n",
       "      <td>95.53</td>\n",
       "      <td>9121718</td>\n",
       "      <td>95.407918</td>\n",
       "      <td>495.16</td>\n",
       "      <td>500.455</td>\n",
       "      <td>493.86</td>\n",
       "      <td>756686</td>\n",
       "      <td>499.44</td>\n",
       "      <td>102212587</td>\n",
       "      <td>496.836977</td>\n",
       "    </tr>\n",
       "  </tbody>\n",
       "</table>\n",
       "</div>"
      ],
      "text/plain": [
       "                             AGG                                            \\\n",
       "                           close   high    low trade_count   open   volume   \n",
       "timestamp                                                                    \n",
       "2024-04-19 04:00:00+00:00  95.38  95.55  95.33       25285  95.53  9121718   \n",
       "\n",
       "                                         SPY                               \\\n",
       "                                vwap   close     high     low trade_count   \n",
       "timestamp                                                                   \n",
       "2024-04-19 04:00:00+00:00  95.407918  495.16  500.455  493.86      756686   \n",
       "\n",
       "                                                          \n",
       "                             open     volume        vwap  \n",
       "timestamp                                                 \n",
       "2024-04-19 04:00:00+00:00  499.44  102212587  496.836977  "
      ]
     },
     "execution_count": 12,
     "metadata": {},
     "output_type": "execute_result"
    }
   ],
   "source": [
    "# Format current date as ISO format\n",
    "start_date = pd.Timestamp(\"2024-04-19\", tz=\"America/New_York\").isoformat()\n",
    "end_date = pd.Timestamp(\"2024-04-19\", tz=\"America/New_York\").isoformat()\n",
    "# Set the tickers\n",
    "tickers = [\"AGG\", \"SPY\"]\n",
    "\n",
    "# Set timeframe to \"1Day\" for Alpaca API\n",
    "timeframe = \"1Day\"\n",
    "\n",
    "# Get current closing prices for SPY and AGG\n",
    "stockticker= api.get_bars(tickers, timeframe, start= start_date, end= end_date).df\n",
    "# Separate ticker data\n",
    "AGG = stockticker[stockticker['symbol']=='AGG'].drop(columns='symbol', axis=1)\n",
    "SPY = stockticker[stockticker['symbol']=='SPY'].drop(columns='symbol', axis=1)\n",
    "\n",
    "# Concatenate the ticker DataFrames\n",
    "#concatenated_df = pd.concat([agg_df, agg_df])\n",
    "portfolio_concat_df = pd.concat([AGG, SPY], axis=1, keys=['AGG', 'SPY'])\n",
    "\n",
    "# Preview DataFrame\n",
    "portfolio_concat_df"
   ]
  },
  {
   "cell_type": "code",
   "execution_count": null,
   "metadata": {
    "tags": []
   },
   "outputs": [
    {
     "name": "stdout",
     "output_type": "stream",
     "text": [
      "Current AGG closing price: $95.38\n",
      "Current SPY closing price: $495.16\n"
     ]
    }
   ],
   "source": [
    "# Pick AGG and SPY close prices\n",
    "agg_close_price = portfolio_concat_df['AGG']['close'].values[0]\n",
    "spy_close_price = portfolio_concat_df['SPY']['close'].values[0]\n",
    "\n",
    "print(f\"Current AGG closing price: ${agg_close_price}\")\n",
    "print(f\"Current SPY closing price: ${spy_close_price}\")"
   ]
  },
  {
   "cell_type": "code",
   "execution_count": null,
   "metadata": {},
   "outputs": [
    {
     "name": "stdout",
     "output_type": "stream",
     "text": [
      "The current value of your 50 SPY shares is $24758.00\n",
      "The current value of your 200 AGG shares is $19076.00\n"
     ]
    }
   ],
   "source": [
    "# Compute the current value of shares\n",
    "# YOUR CODE HERE!\n",
    "my_agg_value = agg_close_price * my_agg\n",
    "my_spy_value = spy_close_price * my_spy\n",
    "# Print current value of shares\n",
    "print(f\"The current value of your {my_spy} SPY shares is ${my_spy_value:0.2f}\")\n",
    "print(f\"The current value of your {my_agg} AGG shares is ${my_agg_value:0.2f}\")"
   ]
  },
  {
   "cell_type": "markdown",
   "metadata": {},
   "source": [
    "### Savings Health Analysis"
   ]
  },
  {
   "cell_type": "code",
   "execution_count": null,
   "metadata": {},
   "outputs": [
    {
     "data": {
      "text/html": [
       "<div>\n",
       "<style scoped>\n",
       "    .dataframe tbody tr th:only-of-type {\n",
       "        vertical-align: middle;\n",
       "    }\n",
       "\n",
       "    .dataframe tbody tr th {\n",
       "        vertical-align: top;\n",
       "    }\n",
       "\n",
       "    .dataframe thead th {\n",
       "        text-align: right;\n",
       "    }\n",
       "</style>\n",
       "<table border=\"1\" class=\"dataframe\">\n",
       "  <thead>\n",
       "    <tr style=\"text-align: right;\">\n",
       "      <th></th>\n",
       "      <th>amount</th>\n",
       "    </tr>\n",
       "  </thead>\n",
       "  <tbody>\n",
       "    <tr>\n",
       "      <th>crypto</th>\n",
       "      <td>88900.592</td>\n",
       "    </tr>\n",
       "    <tr>\n",
       "      <th>stock/bond</th>\n",
       "      <td>43834.000</td>\n",
       "    </tr>\n",
       "  </tbody>\n",
       "</table>\n",
       "</div>"
      ],
      "text/plain": [
       "               amount\n",
       "crypto      88900.592\n",
       "stock/bond  43834.000"
      ]
     },
     "metadata": {},
     "output_type": "display_data"
    }
   ],
   "source": [
    "# Set monthly household income\n",
    "# YOUR CODE HERE!\n",
    "monthly_income= 1200\n",
    "# Consolidate financial assets data\n",
    "# YOUR CODE HERE!\n",
    "total_crpto_value= my_btc_value + my_eth_value\n",
    "total_shares_value= my_agg_value + my_spy_value\n",
    "savings_data = [total_crpto_value, total_shares_value]\n",
    "# Create savings DataFrame\n",
    "# YOUR CODE HERE!\n",
    "savings_df= pd.DataFrame(savings_data, columns=['amount'], index=['crypto', 'stock/bond'])\n",
    "# Display savings DataFrame\n",
    "display(savings_df)"
   ]
  },
  {
   "cell_type": "code",
   "execution_count": null,
   "metadata": {},
   "outputs": [
    {
     "data": {
      "text/plain": [
       "<Axes: title={'center': 'Composition of Personal Savings'}, ylabel='amount'>"
      ]
     },
     "execution_count": 17,
     "metadata": {},
     "output_type": "execute_result"
    },
    {
     "data": {
      "image/png": "[encoded data removed]",
      "text/plain": [
       "<Figure size 640x480 with 1 Axes>"
      ]
     },
     "metadata": {},
     "output_type": "display_data"
    }
   ],
   "source": [
    "# Plot savings pie chart\n",
    "savings_df.plot.pie(y='amount', title='Composition of Personal Savings', autopct='%1.1f%%')\n"
   ]
  },
  {
   "cell_type": "code",
   "execution_count": null,
   "metadata": {},
   "outputs": [
    {
     "name": "stdout",
     "output_type": "stream",
     "text": [
      "Congratulations! You have enough money in this fund.\n"
     ]
    }
   ],
   "source": [
    "# Set ideal emergency fund\n",
    "emergency_fund = monthly_income * 3\n",
    "\n",
    "# Calculate total amount of savings\n",
    "# YOUR CODE HERE!\n",
    "total_portfolio_value = savings_df['amount'].sum()\n",
    "\n",
    "# Validate saving health\n",
    "# YOUR CODE HERE!\n",
    "if total_portfolio_value > emergency_fund:\n",
    "    print(\"Congratulations! You have enough money in this fund.\")\n",
    "elif total_portfolio_value == emergency_fund:\n",
    "    print(\"Congratulations on reaching this important financial goal.\")\n",
    "else:\n",
    "    shortfall = emergency_fund - total_portfolio_value\n",
    "    print(f\"You are ${shortfall} away from reaching your emergency fund\")"
   ]
  },
  {
   "cell_type": "markdown",
   "metadata": {},
   "source": [
    "## Part 2 - Retirement Planning\n",
    "\n",
    "### Monte Carlo Simulation"
   ]
  },
  {
   "cell_type": "code",
   "execution_count": null,
   "metadata": {},
   "outputs": [],
   "source": [
    "# Set start and end dates of five years back from today.\n",
    "# Sample results may vary from the solution based on the time frame chosen\n",
    "start_date = pd.Timestamp('2019-04-19', tz='America/New_York').isoformat()\n",
    "end_date = pd.Timestamp(\"2024-04-19\", tz=\"America/New_York\").isoformat()\n",
    "#five_year_df = api.get_bars(tickers, timeframe, start=start_date, end=end_date).df\n",
    "#five_year_df"
   ]
  },
  {
   "cell_type": "code",
   "execution_count": null,
   "metadata": {},
   "outputs": [
    {
     "data": {
      "text/html": [
       "<div>\n",
       "<style scoped>\n",
       "    .dataframe tbody tr th:only-of-type {\n",
       "        vertical-align: middle;\n",
       "    }\n",
       "\n",
       "    .dataframe tbody tr th {\n",
       "        vertical-align: top;\n",
       "    }\n",
       "\n",
       "    .dataframe thead tr th {\n",
       "        text-align: left;\n",
       "    }\n",
       "\n",
       "    .dataframe thead tr:last-of-type th {\n",
       "        text-align: right;\n",
       "    }\n",
       "</style>\n",
       "<table border=\"1\" class=\"dataframe\">\n",
       "  <thead>\n",
       "    <tr>\n",
       "      <th></th>\n",
       "      <th colspan=\"7\" halign=\"left\">SPY</th>\n",
       "      <th colspan=\"7\" halign=\"left\">AGG</th>\n",
       "    </tr>\n",
       "    <tr>\n",
       "      <th></th>\n",
       "      <th>close</th>\n",
       "      <th>high</th>\n",
       "      <th>low</th>\n",
       "      <th>trade_count</th>\n",
       "      <th>open</th>\n",
       "      <th>volume</th>\n",
       "      <th>vwap</th>\n",
       "      <th>close</th>\n",
       "      <th>high</th>\n",
       "      <th>low</th>\n",
       "      <th>trade_count</th>\n",
       "      <th>open</th>\n",
       "      <th>volume</th>\n",
       "      <th>vwap</th>\n",
       "    </tr>\n",
       "    <tr>\n",
       "      <th>timestamp</th>\n",
       "      <th></th>\n",
       "      <th></th>\n",
       "      <th></th>\n",
       "      <th></th>\n",
       "      <th></th>\n",
       "      <th></th>\n",
       "      <th></th>\n",
       "      <th></th>\n",
       "      <th></th>\n",
       "      <th></th>\n",
       "      <th></th>\n",
       "      <th></th>\n",
       "      <th></th>\n",
       "      <th></th>\n",
       "    </tr>\n",
       "  </thead>\n",
       "  <tbody>\n",
       "    <tr>\n",
       "      <th>2019-04-22 04:00:00+00:00</th>\n",
       "      <td>290.30</td>\n",
       "      <td>290.435</td>\n",
       "      <td>289.0700</td>\n",
       "      <td>170763</td>\n",
       "      <td>289.17</td>\n",
       "      <td>41438319</td>\n",
       "      <td>290.010232</td>\n",
       "      <td>108.06</td>\n",
       "      <td>108.16</td>\n",
       "      <td>108.05</td>\n",
       "      <td>9161</td>\n",
       "      <td>108.1300</td>\n",
       "      <td>5830321</td>\n",
       "      <td>108.098194</td>\n",
       "    </tr>\n",
       "    <tr>\n",
       "      <th>2019-04-23 04:00:00+00:00</th>\n",
       "      <td>292.89</td>\n",
       "      <td>293.140</td>\n",
       "      <td>290.4200</td>\n",
       "      <td>232021</td>\n",
       "      <td>290.68</td>\n",
       "      <td>53717869</td>\n",
       "      <td>292.120861</td>\n",
       "      <td>108.25</td>\n",
       "      <td>108.28</td>\n",
       "      <td>108.15</td>\n",
       "      <td>10780</td>\n",
       "      <td>108.1800</td>\n",
       "      <td>3660025</td>\n",
       "      <td>108.237579</td>\n",
       "    </tr>\n",
       "    <tr>\n",
       "      <th>2019-04-24 04:00:00+00:00</th>\n",
       "      <td>292.21</td>\n",
       "      <td>293.160</td>\n",
       "      <td>292.0700</td>\n",
       "      <td>203854</td>\n",
       "      <td>292.79</td>\n",
       "      <td>51150196</td>\n",
       "      <td>292.575376</td>\n",
       "      <td>108.50</td>\n",
       "      <td>108.53</td>\n",
       "      <td>108.42</td>\n",
       "      <td>10193</td>\n",
       "      <td>108.4200</td>\n",
       "      <td>3275388</td>\n",
       "      <td>108.497077</td>\n",
       "    </tr>\n",
       "    <tr>\n",
       "      <th>2019-04-25 04:00:00+00:00</th>\n",
       "      <td>292.13</td>\n",
       "      <td>292.780</td>\n",
       "      <td>290.7300</td>\n",
       "      <td>238260</td>\n",
       "      <td>292.12</td>\n",
       "      <td>59111801</td>\n",
       "      <td>292.051817</td>\n",
       "      <td>108.49</td>\n",
       "      <td>108.55</td>\n",
       "      <td>108.42</td>\n",
       "      <td>9122</td>\n",
       "      <td>108.4699</td>\n",
       "      <td>3545283</td>\n",
       "      <td>108.478026</td>\n",
       "    </tr>\n",
       "    <tr>\n",
       "      <th>2019-04-26 04:00:00+00:00</th>\n",
       "      <td>293.41</td>\n",
       "      <td>293.490</td>\n",
       "      <td>291.2401</td>\n",
       "      <td>220440</td>\n",
       "      <td>292.10</td>\n",
       "      <td>51864349</td>\n",
       "      <td>292.620073</td>\n",
       "      <td>108.71</td>\n",
       "      <td>108.75</td>\n",
       "      <td>108.66</td>\n",
       "      <td>8663</td>\n",
       "      <td>108.7400</td>\n",
       "      <td>2811966</td>\n",
       "      <td>108.706248</td>\n",
       "    </tr>\n",
       "  </tbody>\n",
       "</table>\n",
       "</div>"
      ],
      "text/plain": [
       "                              SPY                                         \\\n",
       "                            close     high       low trade_count    open   \n",
       "timestamp                                                                  \n",
       "2019-04-22 04:00:00+00:00  290.30  290.435  289.0700      170763  289.17   \n",
       "2019-04-23 04:00:00+00:00  292.89  293.140  290.4200      232021  290.68   \n",
       "2019-04-24 04:00:00+00:00  292.21  293.160  292.0700      203854  292.79   \n",
       "2019-04-25 04:00:00+00:00  292.13  292.780  290.7300      238260  292.12   \n",
       "2019-04-26 04:00:00+00:00  293.41  293.490  291.2401      220440  292.10   \n",
       "\n",
       "                                                    AGG                  \\\n",
       "                             volume        vwap   close    high     low   \n",
       "timestamp                                                                 \n",
       "2019-04-22 04:00:00+00:00  41438319  290.010232  108.06  108.16  108.05   \n",
       "2019-04-23 04:00:00+00:00  53717869  292.120861  108.25  108.28  108.15   \n",
       "2019-04-24 04:00:00+00:00  51150196  292.575376  108.50  108.53  108.42   \n",
       "2019-04-25 04:00:00+00:00  59111801  292.051817  108.49  108.55  108.42   \n",
       "2019-04-26 04:00:00+00:00  51864349  292.620073  108.71  108.75  108.66   \n",
       "\n",
       "                                                                      \n",
       "                          trade_count      open   volume        vwap  \n",
       "timestamp                                                             \n",
       "2019-04-22 04:00:00+00:00        9161  108.1300  5830321  108.098194  \n",
       "2019-04-23 04:00:00+00:00       10780  108.1800  3660025  108.237579  \n",
       "2019-04-24 04:00:00+00:00       10193  108.4200  3275388  108.497077  \n",
       "2019-04-25 04:00:00+00:00        9122  108.4699  3545283  108.478026  \n",
       "2019-04-26 04:00:00+00:00        8663  108.7400  2811966  108.706248  "
      ]
     },
     "execution_count": 21,
     "metadata": {},
     "output_type": "execute_result"
    }
   ],
   "source": [
    "# Get 5 years' worth of historical data for SPY and AGG\n",
    "# YOUR CODE HERE!\n",
    "five_yr_df = api.get_bars(tickers, timeframe, start=start_date, end=end_date).df\n",
    "# Reorganize the DataFrame\n",
    "# Separate ticker data\n",
    "# YOUR CODE HERE!\n",
    "fiveyr_spy_df = five_yr_df[five_yr_df['symbol']=='SPY'].drop(columns='symbol', axis=1)\n",
    "fiveyr_agg_df = five_yr_df[five_yr_df['symbol']=='AGG'].drop(columns='symbol', axis=1)\n",
    "\n",
    "\n",
    "# Concatenate the ticker DataFrames\n",
    "# YOUR CODE HERE!\n",
    "fiveyr_stock_data = pd.concat([fiveyr_spy_df, fiveyr_agg_df], axis=1, keys=['SPY', 'AGG'])\n",
    "\n",
    "# Display sample data\n",
    "fiveyr_stock_data.head()\n"
   ]
  },
  {
   "cell_type": "code",
   "execution_count": null,
   "metadata": {},
   "outputs": [],
   "source": [
    "# Configuring a Monte Carlo simulation to forecast 30 years cumulative returns\n",
    "# YOUR CODE HERE!\n",
    "mc_sim = MCSimulation(\n",
    "    portfolio_data = fiveyr_stock_data,\n",
    "    weights = [0.6, 0.4],\n",
    "    num_simulation = 500,\n",
    "    num_trading_days = 252*30)\n",
    "\n"
   ]
  },
  {
   "cell_type": "code",
   "execution_count": null,
   "metadata": {},
   "outputs": [
    {
     "data": {
      "text/html": [
       "<div>\n",
       "<style scoped>\n",
       "    .dataframe tbody tr th:only-of-type {\n",
       "        vertical-align: middle;\n",
       "    }\n",
       "\n",
       "    .dataframe tbody tr th {\n",
       "        vertical-align: top;\n",
       "    }\n",
       "\n",
       "    .dataframe thead tr th {\n",
       "        text-align: left;\n",
       "    }\n",
       "\n",
       "    .dataframe thead tr:last-of-type th {\n",
       "        text-align: right;\n",
       "    }\n",
       "</style>\n",
       "<table border=\"1\" class=\"dataframe\">\n",
       "  <thead>\n",
       "    <tr>\n",
       "      <th></th>\n",
       "      <th colspan=\"8\" halign=\"left\">SPY</th>\n",
       "      <th colspan=\"8\" halign=\"left\">AGG</th>\n",
       "    </tr>\n",
       "    <tr>\n",
       "      <th></th>\n",
       "      <th>close</th>\n",
       "      <th>high</th>\n",
       "      <th>low</th>\n",
       "      <th>trade_count</th>\n",
       "      <th>open</th>\n",
       "      <th>volume</th>\n",
       "      <th>vwap</th>\n",
       "      <th>daily_return</th>\n",
       "      <th>close</th>\n",
       "      <th>high</th>\n",
       "      <th>low</th>\n",
       "      <th>trade_count</th>\n",
       "      <th>open</th>\n",
       "      <th>volume</th>\n",
       "      <th>vwap</th>\n",
       "      <th>daily_return</th>\n",
       "    </tr>\n",
       "    <tr>\n",
       "      <th>timestamp</th>\n",
       "      <th></th>\n",
       "      <th></th>\n",
       "      <th></th>\n",
       "      <th></th>\n",
       "      <th></th>\n",
       "      <th></th>\n",
       "      <th></th>\n",
       "      <th></th>\n",
       "      <th></th>\n",
       "      <th></th>\n",
       "      <th></th>\n",
       "      <th></th>\n",
       "      <th></th>\n",
       "      <th></th>\n",
       "      <th></th>\n",
       "      <th></th>\n",
       "    </tr>\n",
       "  </thead>\n",
       "  <tbody>\n",
       "    <tr>\n",
       "      <th>2019-04-22 04:00:00+00:00</th>\n",
       "      <td>290.30</td>\n",
       "      <td>290.435</td>\n",
       "      <td>289.0700</td>\n",
       "      <td>170763</td>\n",
       "      <td>289.17</td>\n",
       "      <td>41438319</td>\n",
       "      <td>290.010232</td>\n",
       "      <td>NaN</td>\n",
       "      <td>108.06</td>\n",
       "      <td>108.16</td>\n",
       "      <td>108.05</td>\n",
       "      <td>9161</td>\n",
       "      <td>108.1300</td>\n",
       "      <td>5830321</td>\n",
       "      <td>108.098194</td>\n",
       "      <td>NaN</td>\n",
       "    </tr>\n",
       "    <tr>\n",
       "      <th>2019-04-23 04:00:00+00:00</th>\n",
       "      <td>292.89</td>\n",
       "      <td>293.140</td>\n",
       "      <td>290.4200</td>\n",
       "      <td>232021</td>\n",
       "      <td>290.68</td>\n",
       "      <td>53717869</td>\n",
       "      <td>292.120861</td>\n",
       "      <td>0.008922</td>\n",
       "      <td>108.25</td>\n",
       "      <td>108.28</td>\n",
       "      <td>108.15</td>\n",
       "      <td>10780</td>\n",
       "      <td>108.1800</td>\n",
       "      <td>3660025</td>\n",
       "      <td>108.237579</td>\n",
       "      <td>0.001758</td>\n",
       "    </tr>\n",
       "    <tr>\n",
       "      <th>2019-04-24 04:00:00+00:00</th>\n",
       "      <td>292.21</td>\n",
       "      <td>293.160</td>\n",
       "      <td>292.0700</td>\n",
       "      <td>203854</td>\n",
       "      <td>292.79</td>\n",
       "      <td>51150196</td>\n",
       "      <td>292.575376</td>\n",
       "      <td>-0.002322</td>\n",
       "      <td>108.50</td>\n",
       "      <td>108.53</td>\n",
       "      <td>108.42</td>\n",
       "      <td>10193</td>\n",
       "      <td>108.4200</td>\n",
       "      <td>3275388</td>\n",
       "      <td>108.497077</td>\n",
       "      <td>0.002309</td>\n",
       "    </tr>\n",
       "    <tr>\n",
       "      <th>2019-04-25 04:00:00+00:00</th>\n",
       "      <td>292.13</td>\n",
       "      <td>292.780</td>\n",
       "      <td>290.7300</td>\n",
       "      <td>238260</td>\n",
       "      <td>292.12</td>\n",
       "      <td>59111801</td>\n",
       "      <td>292.051817</td>\n",
       "      <td>-0.000274</td>\n",
       "      <td>108.49</td>\n",
       "      <td>108.55</td>\n",
       "      <td>108.42</td>\n",
       "      <td>9122</td>\n",
       "      <td>108.4699</td>\n",
       "      <td>3545283</td>\n",
       "      <td>108.478026</td>\n",
       "      <td>-0.000092</td>\n",
       "    </tr>\n",
       "    <tr>\n",
       "      <th>2019-04-26 04:00:00+00:00</th>\n",
       "      <td>293.41</td>\n",
       "      <td>293.490</td>\n",
       "      <td>291.2401</td>\n",
       "      <td>220440</td>\n",
       "      <td>292.10</td>\n",
       "      <td>51864349</td>\n",
       "      <td>292.620073</td>\n",
       "      <td>0.004382</td>\n",
       "      <td>108.71</td>\n",
       "      <td>108.75</td>\n",
       "      <td>108.66</td>\n",
       "      <td>8663</td>\n",
       "      <td>108.7400</td>\n",
       "      <td>2811966</td>\n",
       "      <td>108.706248</td>\n",
       "      <td>0.002028</td>\n",
       "    </tr>\n",
       "  </tbody>\n",
       "</table>\n",
       "</div>"
      ],
      "text/plain": [
       "                              SPY                                         \\\n",
       "                            close     high       low trade_count    open   \n",
       "timestamp                                                                  \n",
       "2019-04-22 04:00:00+00:00  290.30  290.435  289.0700      170763  289.17   \n",
       "2019-04-23 04:00:00+00:00  292.89  293.140  290.4200      232021  290.68   \n",
       "2019-04-24 04:00:00+00:00  292.21  293.160  292.0700      203854  292.79   \n",
       "2019-04-25 04:00:00+00:00  292.13  292.780  290.7300      238260  292.12   \n",
       "2019-04-26 04:00:00+00:00  293.41  293.490  291.2401      220440  292.10   \n",
       "\n",
       "                                                                 AGG          \\\n",
       "                             volume        vwap daily_return   close    high   \n",
       "timestamp                                                                      \n",
       "2019-04-22 04:00:00+00:00  41438319  290.010232          NaN  108.06  108.16   \n",
       "2019-04-23 04:00:00+00:00  53717869  292.120861     0.008922  108.25  108.28   \n",
       "2019-04-24 04:00:00+00:00  51150196  292.575376    -0.002322  108.50  108.53   \n",
       "2019-04-25 04:00:00+00:00  59111801  292.051817    -0.000274  108.49  108.55   \n",
       "2019-04-26 04:00:00+00:00  51864349  292.620073     0.004382  108.71  108.75   \n",
       "\n",
       "                                                                              \\\n",
       "                              low trade_count      open   volume        vwap   \n",
       "timestamp                                                                      \n",
       "2019-04-22 04:00:00+00:00  108.05        9161  108.1300  5830321  108.098194   \n",
       "2019-04-23 04:00:00+00:00  108.15       10780  108.1800  3660025  108.237579   \n",
       "2019-04-24 04:00:00+00:00  108.42       10193  108.4200  3275388  108.497077   \n",
       "2019-04-25 04:00:00+00:00  108.42        9122  108.4699  3545283  108.478026   \n",
       "2019-04-26 04:00:00+00:00  108.66        8663  108.7400  2811966  108.706248   \n",
       "\n",
       "                                        \n",
       "                          daily_return  \n",
       "timestamp                               \n",
       "2019-04-22 04:00:00+00:00          NaN  \n",
       "2019-04-23 04:00:00+00:00     0.001758  \n",
       "2019-04-24 04:00:00+00:00     0.002309  \n",
       "2019-04-25 04:00:00+00:00    -0.000092  \n",
       "2019-04-26 04:00:00+00:00     0.002028  "
      ]
     },
     "execution_count": 23,
     "metadata": {},
     "output_type": "execute_result"
    }
   ],
   "source": [
    "# Printing the simulation input data\n",
    "# YOUR CODE HERE!\n",
    "mc_sim.portfolio_data.head()\n"
   ]
  },
  {
   "cell_type": "code",
   "execution_count": null,
   "metadata": {},
   "outputs": [
    {
     "name": "stdout",
     "output_type": "stream",
     "text": [
      "Running Monte Carlo simulation number 0.\n",
      "Running Monte Carlo simulation number 10.\n",
      "Running Monte Carlo simulation number 20.\n",
      "Running Monte Carlo simulation number 30.\n",
      "Running Monte Carlo simulation number 40.\n",
      "Running Monte Carlo simulation number 50.\n",
      "Running Monte Carlo simulation number 60.\n",
      "Running Monte Carlo simulation number 70.\n",
      "Running Monte Carlo simulation number 80.\n",
      "Running Monte Carlo simulation number 90.\n",
      "Running Monte Carlo simulation number 100.\n",
      "Running Monte Carlo simulation number 110.\n",
      "Running Monte Carlo simulation number 120.\n",
      "Running Monte Carlo simulation number 130.\n",
      "Running Monte Carlo simulation number 140.\n",
      "Running Monte Carlo simulation number 150.\n",
      "Running Monte Carlo simulation number 160.\n",
      "Running Monte Carlo simulation number 170.\n",
      "Running Monte Carlo simulation number 180.\n",
      "Running Monte Carlo simulation number 190.\n",
      "Running Monte Carlo simulation number 200.\n",
      "Running Monte Carlo simulation number 210.\n",
      "Running Monte Carlo simulation number 220.\n",
      "Running Monte Carlo simulation number 230.\n",
      "Running Monte Carlo simulation number 240.\n",
      "Running Monte Carlo simulation number 250.\n",
      "Running Monte Carlo simulation number 260.\n",
      "Running Monte Carlo simulation number 270.\n",
      "Running Monte Carlo simulation number 280.\n",
      "Running Monte Carlo simulation number 290.\n",
      "Running Monte Carlo simulation number 300.\n",
      "Running Monte Carlo simulation number 310.\n",
      "Running Monte Carlo simulation number 320.\n",
      "Running Monte Carlo simulation number 330.\n",
      "Running Monte Carlo simulation number 340.\n",
      "Running Monte Carlo simulation number 350.\n",
      "Running Monte Carlo simulation number 360.\n",
      "Running Monte Carlo simulation number 370.\n",
      "Running Monte Carlo simulation number 380.\n",
      "Running Monte Carlo simulation number 390.\n",
      "Running Monte Carlo simulation number 400.\n",
      "Running Monte Carlo simulation number 410.\n",
      "Running Monte Carlo simulation number 420.\n",
      "Running Monte Carlo simulation number 430.\n",
      "Running Monte Carlo simulation number 440.\n",
      "Running Monte Carlo simulation number 450.\n",
      "Running Monte Carlo simulation number 460.\n",
      "Running Monte Carlo simulation number 470.\n",
      "Running Monte Carlo simulation number 480.\n",
      "Running Monte Carlo simulation number 490.\n"
     ]
    },
    {
     "data": {
      "text/html": [
       "<div>\n",
       "<style scoped>\n",
       "    .dataframe tbody tr th:only-of-type {\n",
       "        vertical-align: middle;\n",
       "    }\n",
       "\n",
       "    .dataframe tbody tr th {\n",
       "        vertical-align: top;\n",
       "    }\n",
       "\n",
       "    .dataframe thead th {\n",
       "        text-align: right;\n",
       "    }\n",
       "</style>\n",
       "<table border=\"1\" class=\"dataframe\">\n",
       "  <thead>\n",
       "    <tr style=\"text-align: right;\">\n",
       "      <th></th>\n",
       "      <th>0</th>\n",
       "      <th>1</th>\n",
       "      <th>2</th>\n",
       "      <th>3</th>\n",
       "      <th>4</th>\n",
       "      <th>5</th>\n",
       "      <th>6</th>\n",
       "      <th>7</th>\n",
       "      <th>8</th>\n",
       "      <th>9</th>\n",
       "      <th>...</th>\n",
       "      <th>490</th>\n",
       "      <th>491</th>\n",
       "      <th>492</th>\n",
       "      <th>493</th>\n",
       "      <th>494</th>\n",
       "      <th>495</th>\n",
       "      <th>496</th>\n",
       "      <th>497</th>\n",
       "      <th>498</th>\n",
       "      <th>499</th>\n",
       "    </tr>\n",
       "  </thead>\n",
       "  <tbody>\n",
       "    <tr>\n",
       "      <th>0</th>\n",
       "      <td>1.000000</td>\n",
       "      <td>1.000000</td>\n",
       "      <td>1.000000</td>\n",
       "      <td>1.000000</td>\n",
       "      <td>1.000000</td>\n",
       "      <td>1.000000</td>\n",
       "      <td>1.000000</td>\n",
       "      <td>1.000000</td>\n",
       "      <td>1.000000</td>\n",
       "      <td>1.000000</td>\n",
       "      <td>...</td>\n",
       "      <td>1.000000</td>\n",
       "      <td>1.000000</td>\n",
       "      <td>1.000000</td>\n",
       "      <td>1.000000</td>\n",
       "      <td>1.000000</td>\n",
       "      <td>1.000000</td>\n",
       "      <td>1.000000</td>\n",
       "      <td>1.000000</td>\n",
       "      <td>1.000000</td>\n",
       "      <td>1.000000</td>\n",
       "    </tr>\n",
       "    <tr>\n",
       "      <th>1</th>\n",
       "      <td>1.007972</td>\n",
       "      <td>1.006426</td>\n",
       "      <td>1.007389</td>\n",
       "      <td>0.991761</td>\n",
       "      <td>0.992242</td>\n",
       "      <td>0.997110</td>\n",
       "      <td>0.995841</td>\n",
       "      <td>0.992813</td>\n",
       "      <td>1.006629</td>\n",
       "      <td>1.004812</td>\n",
       "      <td>...</td>\n",
       "      <td>1.005751</td>\n",
       "      <td>0.996204</td>\n",
       "      <td>1.006117</td>\n",
       "      <td>0.989462</td>\n",
       "      <td>1.004772</td>\n",
       "      <td>1.006989</td>\n",
       "      <td>1.005515</td>\n",
       "      <td>0.989538</td>\n",
       "      <td>1.002247</td>\n",
       "      <td>0.997925</td>\n",
       "    </tr>\n",
       "    <tr>\n",
       "      <th>2</th>\n",
       "      <td>1.009616</td>\n",
       "      <td>1.007479</td>\n",
       "      <td>1.010367</td>\n",
       "      <td>0.984814</td>\n",
       "      <td>0.991369</td>\n",
       "      <td>1.013545</td>\n",
       "      <td>0.994083</td>\n",
       "      <td>0.989002</td>\n",
       "      <td>0.997179</td>\n",
       "      <td>1.003182</td>\n",
       "      <td>...</td>\n",
       "      <td>1.006656</td>\n",
       "      <td>1.006709</td>\n",
       "      <td>1.010144</td>\n",
       "      <td>0.976406</td>\n",
       "      <td>0.996684</td>\n",
       "      <td>1.023009</td>\n",
       "      <td>1.006047</td>\n",
       "      <td>0.990445</td>\n",
       "      <td>1.004991</td>\n",
       "      <td>0.985164</td>\n",
       "    </tr>\n",
       "    <tr>\n",
       "      <th>3</th>\n",
       "      <td>0.995926</td>\n",
       "      <td>1.008053</td>\n",
       "      <td>0.995250</td>\n",
       "      <td>0.996331</td>\n",
       "      <td>0.996560</td>\n",
       "      <td>1.011819</td>\n",
       "      <td>0.996990</td>\n",
       "      <td>0.985281</td>\n",
       "      <td>0.998122</td>\n",
       "      <td>1.006250</td>\n",
       "      <td>...</td>\n",
       "      <td>1.001760</td>\n",
       "      <td>1.019459</td>\n",
       "      <td>1.018302</td>\n",
       "      <td>0.992769</td>\n",
       "      <td>0.992946</td>\n",
       "      <td>1.012554</td>\n",
       "      <td>1.002469</td>\n",
       "      <td>0.982747</td>\n",
       "      <td>0.999412</td>\n",
       "      <td>0.986099</td>\n",
       "    </tr>\n",
       "    <tr>\n",
       "      <th>4</th>\n",
       "      <td>0.999631</td>\n",
       "      <td>1.002273</td>\n",
       "      <td>1.004424</td>\n",
       "      <td>0.995370</td>\n",
       "      <td>1.003860</td>\n",
       "      <td>1.019108</td>\n",
       "      <td>1.014108</td>\n",
       "      <td>0.979631</td>\n",
       "      <td>0.990713</td>\n",
       "      <td>1.021588</td>\n",
       "      <td>...</td>\n",
       "      <td>0.983451</td>\n",
       "      <td>1.023047</td>\n",
       "      <td>1.019128</td>\n",
       "      <td>0.989098</td>\n",
       "      <td>0.984933</td>\n",
       "      <td>1.017549</td>\n",
       "      <td>1.006844</td>\n",
       "      <td>0.988654</td>\n",
       "      <td>0.994581</td>\n",
       "      <td>0.977806</td>\n",
       "    </tr>\n",
       "    <tr>\n",
       "      <th>...</th>\n",
       "      <td>...</td>\n",
       "      <td>...</td>\n",
       "      <td>...</td>\n",
       "      <td>...</td>\n",
       "      <td>...</td>\n",
       "      <td>...</td>\n",
       "      <td>...</td>\n",
       "      <td>...</td>\n",
       "      <td>...</td>\n",
       "      <td>...</td>\n",
       "      <td>...</td>\n",
       "      <td>...</td>\n",
       "      <td>...</td>\n",
       "      <td>...</td>\n",
       "      <td>...</td>\n",
       "      <td>...</td>\n",
       "      <td>...</td>\n",
       "      <td>...</td>\n",
       "      <td>...</td>\n",
       "      <td>...</td>\n",
       "      <td>...</td>\n",
       "    </tr>\n",
       "    <tr>\n",
       "      <th>7556</th>\n",
       "      <td>9.730663</td>\n",
       "      <td>14.208988</td>\n",
       "      <td>9.515123</td>\n",
       "      <td>3.268976</td>\n",
       "      <td>11.761815</td>\n",
       "      <td>10.898815</td>\n",
       "      <td>3.080229</td>\n",
       "      <td>8.812164</td>\n",
       "      <td>19.779038</td>\n",
       "      <td>5.241419</td>\n",
       "      <td>...</td>\n",
       "      <td>3.121779</td>\n",
       "      <td>2.182341</td>\n",
       "      <td>6.868105</td>\n",
       "      <td>6.867730</td>\n",
       "      <td>4.369060</td>\n",
       "      <td>9.990468</td>\n",
       "      <td>4.141281</td>\n",
       "      <td>4.251308</td>\n",
       "      <td>11.759423</td>\n",
       "      <td>5.201964</td>\n",
       "    </tr>\n",
       "    <tr>\n",
       "      <th>7557</th>\n",
       "      <td>9.682086</td>\n",
       "      <td>14.330550</td>\n",
       "      <td>9.571112</td>\n",
       "      <td>3.243061</td>\n",
       "      <td>11.939347</td>\n",
       "      <td>10.954646</td>\n",
       "      <td>3.010852</td>\n",
       "      <td>8.855760</td>\n",
       "      <td>19.825225</td>\n",
       "      <td>5.254987</td>\n",
       "      <td>...</td>\n",
       "      <td>3.146069</td>\n",
       "      <td>2.199558</td>\n",
       "      <td>6.881711</td>\n",
       "      <td>6.929550</td>\n",
       "      <td>4.459342</td>\n",
       "      <td>9.967879</td>\n",
       "      <td>4.153872</td>\n",
       "      <td>4.262886</td>\n",
       "      <td>11.828491</td>\n",
       "      <td>5.138127</td>\n",
       "    </tr>\n",
       "    <tr>\n",
       "      <th>7558</th>\n",
       "      <td>9.599855</td>\n",
       "      <td>14.375574</td>\n",
       "      <td>9.621223</td>\n",
       "      <td>3.259356</td>\n",
       "      <td>12.076598</td>\n",
       "      <td>10.970721</td>\n",
       "      <td>3.000548</td>\n",
       "      <td>8.875933</td>\n",
       "      <td>19.688759</td>\n",
       "      <td>5.181866</td>\n",
       "      <td>...</td>\n",
       "      <td>3.158485</td>\n",
       "      <td>2.185572</td>\n",
       "      <td>6.903773</td>\n",
       "      <td>6.963350</td>\n",
       "      <td>4.466657</td>\n",
       "      <td>10.076609</td>\n",
       "      <td>4.189530</td>\n",
       "      <td>4.260570</td>\n",
       "      <td>11.887369</td>\n",
       "      <td>5.272735</td>\n",
       "    </tr>\n",
       "    <tr>\n",
       "      <th>7559</th>\n",
       "      <td>9.620807</td>\n",
       "      <td>14.543859</td>\n",
       "      <td>9.515482</td>\n",
       "      <td>3.284437</td>\n",
       "      <td>11.936441</td>\n",
       "      <td>10.908897</td>\n",
       "      <td>2.978572</td>\n",
       "      <td>8.922019</td>\n",
       "      <td>19.559374</td>\n",
       "      <td>5.199398</td>\n",
       "      <td>...</td>\n",
       "      <td>3.157281</td>\n",
       "      <td>2.224883</td>\n",
       "      <td>6.916458</td>\n",
       "      <td>6.955391</td>\n",
       "      <td>4.481445</td>\n",
       "      <td>10.225122</td>\n",
       "      <td>4.251884</td>\n",
       "      <td>4.234404</td>\n",
       "      <td>11.962416</td>\n",
       "      <td>5.276448</td>\n",
       "    </tr>\n",
       "    <tr>\n",
       "      <th>7560</th>\n",
       "      <td>9.589036</td>\n",
       "      <td>14.812603</td>\n",
       "      <td>9.431076</td>\n",
       "      <td>3.250330</td>\n",
       "      <td>11.972725</td>\n",
       "      <td>10.836445</td>\n",
       "      <td>3.007491</td>\n",
       "      <td>8.794393</td>\n",
       "      <td>19.632331</td>\n",
       "      <td>5.094470</td>\n",
       "      <td>...</td>\n",
       "      <td>3.164724</td>\n",
       "      <td>2.232530</td>\n",
       "      <td>6.869693</td>\n",
       "      <td>6.953524</td>\n",
       "      <td>4.497471</td>\n",
       "      <td>10.159915</td>\n",
       "      <td>4.173775</td>\n",
       "      <td>4.238756</td>\n",
       "      <td>11.922051</td>\n",
       "      <td>5.283577</td>\n",
       "    </tr>\n",
       "  </tbody>\n",
       "</table>\n",
       "<p>7561 rows × 500 columns</p>\n",
       "</div>"
      ],
      "text/plain": [
       "           0          1         2         3          4          5         6    \\\n",
       "0     1.000000   1.000000  1.000000  1.000000   1.000000   1.000000  1.000000   \n",
       "1     1.007972   1.006426  1.007389  0.991761   0.992242   0.997110  0.995841   \n",
       "2     1.009616   1.007479  1.010367  0.984814   0.991369   1.013545  0.994083   \n",
       "3     0.995926   1.008053  0.995250  0.996331   0.996560   1.011819  0.996990   \n",
       "4     0.999631   1.002273  1.004424  0.995370   1.003860   1.019108  1.014108   \n",
       "...        ...        ...       ...       ...        ...        ...       ...   \n",
       "7556  9.730663  14.208988  9.515123  3.268976  11.761815  10.898815  3.080229   \n",
       "7557  9.682086  14.330550  9.571112  3.243061  11.939347  10.954646  3.010852   \n",
       "7558  9.599855  14.375574  9.621223  3.259356  12.076598  10.970721  3.000548   \n",
       "7559  9.620807  14.543859  9.515482  3.284437  11.936441  10.908897  2.978572   \n",
       "7560  9.589036  14.812603  9.431076  3.250330  11.972725  10.836445  3.007491   \n",
       "\n",
       "           7          8         9    ...       490       491       492  \\\n",
       "0     1.000000   1.000000  1.000000  ...  1.000000  1.000000  1.000000   \n",
       "1     0.992813   1.006629  1.004812  ...  1.005751  0.996204  1.006117   \n",
       "2     0.989002   0.997179  1.003182  ...  1.006656  1.006709  1.010144   \n",
       "3     0.985281   0.998122  1.006250  ...  1.001760  1.019459  1.018302   \n",
       "4     0.979631   0.990713  1.021588  ...  0.983451  1.023047  1.019128   \n",
       "...        ...        ...       ...  ...       ...       ...       ...   \n",
       "7556  8.812164  19.779038  5.241419  ...  3.121779  2.182341  6.868105   \n",
       "7557  8.855760  19.825225  5.254987  ...  3.146069  2.199558  6.881711   \n",
       "7558  8.875933  19.688759  5.181866  ...  3.158485  2.185572  6.903773   \n",
       "7559  8.922019  19.559374  5.199398  ...  3.157281  2.224883  6.916458   \n",
       "7560  8.794393  19.632331  5.094470  ...  3.164724  2.232530  6.869693   \n",
       "\n",
       "           493       494        495       496       497        498       499  \n",
       "0     1.000000  1.000000   1.000000  1.000000  1.000000   1.000000  1.000000  \n",
       "1     0.989462  1.004772   1.006989  1.005515  0.989538   1.002247  0.997925  \n",
       "2     0.976406  0.996684   1.023009  1.006047  0.990445   1.004991  0.985164  \n",
       "3     0.992769  0.992946   1.012554  1.002469  0.982747   0.999412  0.986099  \n",
       "4     0.989098  0.984933   1.017549  1.006844  0.988654   0.994581  0.977806  \n",
       "...        ...       ...        ...       ...       ...        ...       ...  \n",
       "7556  6.867730  4.369060   9.990468  4.141281  4.251308  11.759423  5.201964  \n",
       "7557  6.929550  4.459342   9.967879  4.153872  4.262886  11.828491  5.138127  \n",
       "7558  6.963350  4.466657  10.076609  4.189530  4.260570  11.887369  5.272735  \n",
       "7559  6.955391  4.481445  10.225122  4.251884  4.234404  11.962416  5.276448  \n",
       "7560  6.953524  4.497471  10.159915  4.173775  4.238756  11.922051  5.283577  \n",
       "\n",
       "[7561 rows x 500 columns]"
      ]
     },
     "execution_count": 24,
     "metadata": {},
     "output_type": "execute_result"
    }
   ],
   "source": [
    "# Running a Monte Carlo simulation to forecast 30 years cumulative returns\n",
    "# YOUR CODE HERE!\n",
    "mc_sim.calc_cumulative_return()\n"
   ]
  },
  {
   "cell_type": "code",
   "execution_count": null,
   "metadata": {},
   "outputs": [
    {
     "data": {
      "text/plain": [
       "<Axes: title={'center': '500 Simulations of Cumulative Portfolio Return Trajectories Over the Next 7560 Trading Days.'}>"
      ]
     },
     "execution_count": 25,
     "metadata": {},
     "output_type": "execute_result"
    },
    {
     "data": {
      "image/png": "[encoded data removed]",
      "text/plain": [
       "<Figure size 640x480 with 1 Axes>"
      ]
     },
     "metadata": {},
     "output_type": "display_data"
    }
   ],
   "source": [
    "# Plot simulation outcomes\n",
    "# YOUR CODE HERE!\n",
    "mc_sim.plot_simulation()\n"
   ]
  },
  {
   "cell_type": "code",
   "execution_count": null,
   "metadata": {},
   "outputs": [
    {
     "data": {
      "text/plain": [
       "<Axes: title={'center': 'Distribution of Final Cumuluative Returns Across All 500 Simulations'}, ylabel='Frequency'>"
      ]
     },
     "execution_count": 26,
     "metadata": {},
     "output_type": "execute_result"
    },
    {
     "data": {
      "image/png": "[encoded data removed]",
      "text/plain": [
       "<Figure size 640x480 with 1 Axes>"
      ]
     },
     "metadata": {},
     "output_type": "display_data"
    }
   ],
   "source": [
    "# Plot probability distribution and confidence intervals\n",
    "# YOUR CODE HERE!\n",
    "mc_sim.plot_distribution()\n"
   ]
  },
  {
   "cell_type": "markdown",
   "metadata": {},
   "source": [
    "### Retirement Analysis"
   ]
  },
  {
   "cell_type": "code",
   "execution_count": null,
   "metadata": {
    "tags": []
   },
   "outputs": [
    {
     "name": "stdout",
     "output_type": "stream",
     "text": [
      "Help on class MCSimulation in module MCForecastTools:\n",
      "\n",
      "class MCSimulation(builtins.object)\n",
      " |  MCSimulation(portfolio_data, weights='', num_simulation=1000, num_trading_days=252)\n",
      " |  \n",
      " |  A Python class for runnning Monte Carlo simulation on portfolio price data. \n",
      " |  \n",
      " |  ...\n",
      " |  \n",
      " |  Attributes\n",
      " |  ----------\n",
      " |  portfolio_data : pandas.DataFrame\n",
      " |      portfolio dataframe\n",
      " |  weights: list(float)\n",
      " |      portfolio investment breakdown\n",
      " |  nSim: int\n",
      " |      number of samples in simulation\n",
      " |  nTrading: int\n",
      " |      number of trading days to simulate\n",
      " |  simulated_return : pandas.DataFrame\n",
      " |      Simulated data from Monte Carlo\n",
      " |  confidence_interval : pandas.Series\n",
      " |      the 95% confidence intervals for simulated final cumulative returns\n",
      " |  \n",
      " |  Methods defined here:\n",
      " |  \n",
      " |  __init__(self, portfolio_data, weights='', num_simulation=1000, num_trading_days=252)\n",
      " |      Constructs all the necessary attributes for the MCSimulation object.\n",
      " |      \n",
      " |      Parameters\n",
      " |      ----------\n",
      " |      portfolio_data: pandas.DataFrame\n",
      " |          DataFrame containing stock price information from Alpaca API\n",
      " |      weights: list(float)\n",
      " |          A list fractions representing percentage of total investment per stock. DEFAULT: Equal distribution\n",
      " |      num_simulation: int\n",
      " |          Number of simulation samples. DEFAULT: 1000 simulation samples\n",
      " |      num_trading_days: int\n",
      " |          Number of trading days to simulate. DEFAULT: 252 days (1 year of business days)\n",
      " |  \n",
      " |  calc_cumulative_return(self)\n",
      " |      Calculates the cumulative return of a stock over time using a Monte Carlo simulation (Brownian motion with drift).\n",
      " |  \n",
      " |  plot_distribution(self)\n",
      " |      Visualizes the distribution of cumulative returns simulated using calc_cumulative_return method.\n",
      " |  \n",
      " |  plot_simulation(self)\n",
      " |      Visualizes the simulated stock trajectories using calc_cumulative_return method.\n",
      " |  \n",
      " |  summarize_cumulative_return(self)\n",
      " |      Calculate final summary statistics for Monte Carlo simulated stock data.\n",
      " |  \n",
      " |  ----------------------------------------------------------------------\n",
      " |  Data descriptors defined here:\n",
      " |  \n",
      " |  __dict__\n",
      " |      dictionary for instance variables\n",
      " |  \n",
      " |  __weakref__\n",
      " |      list of weak references to the object\n",
      "\n"
     ]
    }
   ],
   "source": [
    "#from MCForecastTools import MCSimulation\n",
    "help(MCSimulation)"
   ]
  },
  {
   "cell_type": "code",
   "execution_count": null,
   "metadata": {},
   "outputs": [
    {
     "ename": "AttributeError",
     "evalue": "'Series' object has no attribute 'append'",
     "output_type": "error",
     "traceback": [
      "\u001b[1;31m---------------------------------------------------------------------------\u001b[0m",
      "\u001b[1;31mAttributeError\u001b[0m                            Traceback (most recent call last)",
      "\u001b[1;32m~\\AppData\\Local\\Temp\\ipykernel_4848\\1273239622.py\u001b[0m in \u001b[0;36m?\u001b[1;34m()\u001b[0m\n\u001b[0;32m      1\u001b[0m \u001b[1;31m# Fetch summary statistics from the Monte Carlo simulation results\u001b[0m\u001b[1;33m\u001b[0m\u001b[1;33m\u001b[0m\u001b[0m\n\u001b[0;32m      2\u001b[0m \u001b[1;31m# YOUR CODE HERE!\u001b[0m\u001b[1;33m\u001b[0m\u001b[1;33m\u001b[0m\u001b[0m\n\u001b[0;32m      3\u001b[0m \u001b[1;31m#summary_stats = mc_sim.summarize_cumulative_return()\u001b[0m\u001b[1;33m\u001b[0m\u001b[1;33m\u001b[0m\u001b[0m\n\u001b[1;32m----> 4\u001b[1;33m \u001b[0msummary_stats\u001b[0m \u001b[1;33m=\u001b[0m \u001b[0mmc_sim\u001b[0m\u001b[1;33m.\u001b[0m\u001b[0msummarize_cumulative_return\u001b[0m\u001b[1;33m(\u001b[0m\u001b[1;33m)\u001b[0m\u001b[1;33m\u001b[0m\u001b[1;33m\u001b[0m\u001b[0m\n\u001b[0m\u001b[0;32m      5\u001b[0m \u001b[1;33m\u001b[0m\u001b[0m\n\u001b[0;32m      6\u001b[0m \u001b[1;31m# Print summary statistics\u001b[0m\u001b[1;33m\u001b[0m\u001b[1;33m\u001b[0m\u001b[0m\n\u001b[0;32m      7\u001b[0m \u001b[1;31m# YOUR CODE HERE!\u001b[0m\u001b[1;33m\u001b[0m\u001b[1;33m\u001b[0m\u001b[0m\n",
      "\u001b[1;32m~\\OneDrive\\Desktop\\finplanning\\Instructions\\Starter_Code\\MCForecastTools.py\u001b[0m in \u001b[0;36m?\u001b[1;34m(self)\u001b[0m\n\u001b[0;32m    168\u001b[0m \u001b[1;33m\u001b[0m\u001b[0m\n\u001b[0;32m    169\u001b[0m         \u001b[0mmetrics\u001b[0m \u001b[1;33m=\u001b[0m \u001b[0mself\u001b[0m\u001b[1;33m.\u001b[0m\u001b[0msimulated_return\u001b[0m\u001b[1;33m.\u001b[0m\u001b[0miloc\u001b[0m\u001b[1;33m[\u001b[0m\u001b[1;33m-\u001b[0m\u001b[1;36m1\u001b[0m\u001b[1;33m]\u001b[0m\u001b[1;33m.\u001b[0m\u001b[0mdescribe\u001b[0m\u001b[1;33m(\u001b[0m\u001b[1;33m)\u001b[0m\u001b[1;33m\u001b[0m\u001b[1;33m\u001b[0m\u001b[0m\n\u001b[0;32m    170\u001b[0m         \u001b[0mci_series\u001b[0m \u001b[1;33m=\u001b[0m \u001b[0mself\u001b[0m\u001b[1;33m.\u001b[0m\u001b[0mconfidence_interval\u001b[0m\u001b[1;33m\u001b[0m\u001b[1;33m\u001b[0m\u001b[0m\n\u001b[0;32m    171\u001b[0m         \u001b[0mci_series\u001b[0m\u001b[1;33m.\u001b[0m\u001b[0mindex\u001b[0m \u001b[1;33m=\u001b[0m \u001b[1;33m[\u001b[0m\u001b[1;34m\"95% CI Lower\"\u001b[0m\u001b[1;33m,\u001b[0m\u001b[1;34m\"95% CI Upper\"\u001b[0m\u001b[1;33m]\u001b[0m\u001b[1;33m\u001b[0m\u001b[1;33m\u001b[0m\u001b[0m\n\u001b[1;32m--> 172\u001b[1;33m         \u001b[1;32mreturn\u001b[0m \u001b[0mmetrics\u001b[0m\u001b[1;33m.\u001b[0m\u001b[0mappend\u001b[0m\u001b[1;33m(\u001b[0m\u001b[0mci_series\u001b[0m\u001b[1;33m)\u001b[0m\u001b[1;33m\u001b[0m\u001b[1;33m\u001b[0m\u001b[0m\n\u001b[0m",
      "\u001b[1;32m~\\anaconda3\\Lib\\site-packages\\pandas\\core\\generic.py\u001b[0m in \u001b[0;36m?\u001b[1;34m(self, name)\u001b[0m\n\u001b[0;32m   6200\u001b[0m             \u001b[1;32mand\u001b[0m \u001b[0mname\u001b[0m \u001b[1;32mnot\u001b[0m \u001b[1;32min\u001b[0m \u001b[0mself\u001b[0m\u001b[1;33m.\u001b[0m\u001b[0m_accessors\u001b[0m\u001b[1;33m\u001b[0m\u001b[1;33m\u001b[0m\u001b[0m\n\u001b[0;32m   6201\u001b[0m             \u001b[1;32mand\u001b[0m \u001b[0mself\u001b[0m\u001b[1;33m.\u001b[0m\u001b[0m_info_axis\u001b[0m\u001b[1;33m.\u001b[0m\u001b[0m_can_hold_identifiers_and_holds_name\u001b[0m\u001b[1;33m(\u001b[0m\u001b[0mname\u001b[0m\u001b[1;33m)\u001b[0m\u001b[1;33m\u001b[0m\u001b[1;33m\u001b[0m\u001b[0m\n\u001b[0;32m   6202\u001b[0m         ):\n\u001b[0;32m   6203\u001b[0m             \u001b[1;32mreturn\u001b[0m \u001b[0mself\u001b[0m\u001b[1;33m[\u001b[0m\u001b[0mname\u001b[0m\u001b[1;33m]\u001b[0m\u001b[1;33m\u001b[0m\u001b[1;33m\u001b[0m\u001b[0m\n\u001b[1;32m-> 6204\u001b[1;33m         \u001b[1;32mreturn\u001b[0m \u001b[0mobject\u001b[0m\u001b[1;33m.\u001b[0m\u001b[0m__getattribute__\u001b[0m\u001b[1;33m(\u001b[0m\u001b[0mself\u001b[0m\u001b[1;33m,\u001b[0m \u001b[0mname\u001b[0m\u001b[1;33m)\u001b[0m\u001b[1;33m\u001b[0m\u001b[1;33m\u001b[0m\u001b[0m\n\u001b[0m",
      "\u001b[1;31mAttributeError\u001b[0m: 'Series' object has no attribute 'append'"
     ]
    }
   ],
   "source": [
    "# Fetch summary statistics from the Monte Carlo simulation results\n",
    "# YOUR CODE HERE!\n",
    "#summary_stats = mc_sim.summarize_cumulative_return()\n",
    "summary_stats = mc_sim.summarize_cumulative_return()\n",
    "\n",
    "# Print summary statistics\n",
    "# YOUR CODE HERE!\n",
    "print(summary_stats)"
   ]
  },
  {
   "cell_type": "markdown",
   "metadata": {},
   "source": [
    "### Calculate the expected portfolio return at the `95%` lower and upper confidence intervals based on a `$20,000` initial investment."
   ]
  },
  {
   "cell_type": "code",
   "execution_count": null,
   "metadata": {},
   "outputs": [],
   "source": [
    "# Set initial investment\n",
    "initial_investment = 20000\n",
    "\n",
    "# Use the lower and upper `95%` confidence intervals to calculate the range of the possible outcomes of our $20,000\n",
    "# YOUR CODE HERE!\n",
    "\n",
    "# Print results\n",
    "print(f\"There is a 95% chance that an initial investment of ${initial_investment} in the portfolio\"\n",
    "      f\" over the next 30 years will end within in the range of\"\n",
    "      f\" ${ci_lower} and ${ci_upper}\")"
   ]
  },
  {
   "cell_type": "markdown",
   "metadata": {},
   "source": [
    "### Calculate the expected portfolio return at the `95%` lower and upper confidence intervals based on a `50%` increase in the initial investment."
   ]
  },
  {
   "cell_type": "code",
   "execution_count": null,
   "metadata": {},
   "outputs": [],
   "source": [
    "# Set initial investment\n",
    "initial_investment = 20000 * 1.5\n",
    "\n",
    "# Use the lower and upper `95%` confidence intervals to calculate the range of the possible outcomes of our $30,000\n",
    "# YOUR CODE HERE!\n",
    "\n",
    "# Print results\n",
    "print(f\"There is a 95% chance that an initial investment of ${initial_investment} in the portfolio\"\n",
    "      f\" over the next 30 years will end within in the range of\"\n",
    "      f\" ${ci_lower} and ${ci_upper}\")"
   ]
  },
  {
   "cell_type": "markdown",
   "metadata": {},
   "source": [
    "## Optional Challenge - Early Retirement\n",
    "\n",
    "\n",
    "### Five Years Retirement Option"
   ]
  },
  {
   "cell_type": "code",
   "execution_count": null,
   "metadata": {},
   "outputs": [],
   "source": [
    "# Configuring a Monte Carlo simulation to forecast 5 years cumulative returns\n",
    "# YOUR CODE HERE!"
   ]
  },
  {
   "cell_type": "code",
   "execution_count": null,
   "metadata": {},
   "outputs": [],
   "source": [
    "# Running a Monte Carlo simulation to forecast 5 years cumulative returns\n",
    "# YOUR CODE HERE!"
   ]
  },
  {
   "cell_type": "code",
   "execution_count": null,
   "metadata": {},
   "outputs": [],
   "source": [
    "# Plot simulation outcomes\n",
    "# YOUR CODE HERE!"
   ]
  },
  {
   "cell_type": "code",
   "execution_count": null,
   "metadata": {},
   "outputs": [],
   "source": [
    "# Plot probability distribution and confidence intervals\n",
    "# YOUR CODE HERE!"
   ]
  },
  {
   "cell_type": "code",
   "execution_count": null,
   "metadata": {},
   "outputs": [],
   "source": [
    "# Fetch summary statistics from the Monte Carlo simulation results\n",
    "# YOUR CODE HERE!\n",
    "\n",
    "# Print summary statistics\n",
    "# YOUR CODE HERE!"
   ]
  },
  {
   "cell_type": "code",
   "execution_count": null,
   "metadata": {},
   "outputs": [],
   "source": [
    "# Set initial investment\n",
    "# YOUR CODE HERE!\n",
    "\n",
    "# Use the lower and upper `95%` confidence intervals to calculate the range of the possible outcomes of our $60,000\n",
    "# YOUR CODE HERE!\n",
    "\n",
    "# Print results\n",
    "print(f\"There is a 95% chance that an initial investment of ${initial_investment} in the portfolio\"\n",
    "      f\" over the next 5 years will end within in the range of\"\n",
    "      f\" ${ci_lower_five} and ${ci_upper_five}\")"
   ]
  },
  {
   "cell_type": "markdown",
   "metadata": {},
   "source": [
    "### Ten Years Retirement Option"
   ]
  },
  {
   "cell_type": "code",
   "execution_count": null,
   "metadata": {},
   "outputs": [],
   "source": [
    "# Configuring a Monte Carlo simulation to forecast 10 years cumulative returns\n",
    "# YOUR CODE HERE!"
   ]
  },
  {
   "cell_type": "code",
   "execution_count": null,
   "metadata": {},
   "outputs": [],
   "source": [
    "# Running a Monte Carlo simulation to forecast 10 years cumulative returns\n",
    "# YOUR CODE HERE!"
   ]
  },
  {
   "cell_type": "code",
   "execution_count": null,
   "metadata": {},
   "outputs": [],
   "source": [
    "# Plot simulation outcomes\n",
    "# YOUR CODE HERE!"
   ]
  },
  {
   "cell_type": "code",
   "execution_count": null,
   "metadata": {},
   "outputs": [],
   "source": [
    "# Plot probability distribution and confidence intervals\n",
    "# YOUR CODE HERE!"
   ]
  },
  {
   "cell_type": "code",
   "execution_count": null,
   "metadata": {},
   "outputs": [],
   "source": [
    "# Fetch summary statistics from the Monte Carlo simulation results\n",
    "# YOUR CODE HERE!\n",
    "\n",
    "# Print summary statistics\n",
    "# YOUR CODE HERE!"
   ]
  },
  {
   "cell_type": "code",
   "execution_count": null,
   "metadata": {},
   "outputs": [],
   "source": [
    "# Set initial investment\n",
    "# YOUR CODE HERE!\n",
    "\n",
    "# Use the lower and upper `95%` confidence intervals to calculate the range of the possible outcomes of our $60,000\n",
    "# YOUR CODE HERE!\n",
    "\n",
    "# Print results\n",
    "print(f\"There is a 95% chance that an initial investment of ${initial_investment} in the portfolio\"\n",
    "      f\" over the next 10 years will end within in the range of\"\n",
    "      f\" ${ci_lower_ten} and ${ci_upper_ten}\")"
   ]
  },
  {
   "cell_type": "code",
   "execution_count": null,
   "metadata": {},
   "outputs": [],
   "source": []
  }
 ],
 "metadata": {
  "kernelspec": {
   "display_name": "Python 3 (ipykernel)",
   "language": "python",
   "name": "python3"
  },
  "language_info": {
   "codemirror_mode": {
    "name": "ipython",
    "version": 3
   },
   "file_extension": ".py",
   "mimetype": "text/x-python",
   "name": "python",
   "nbconvert_exporter": "python",
   "pygments_lexer": "ipython3",
   "version": "3.12.3"
  },
  "nteract": {
   "version": "0.28.0"
  }
 },
 "nbformat": 4,
 "nbformat_minor": 4
}

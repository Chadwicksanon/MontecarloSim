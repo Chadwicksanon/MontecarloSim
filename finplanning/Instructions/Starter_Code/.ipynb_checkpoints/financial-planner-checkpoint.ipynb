{
 "cells": [
  {
   "cell_type": "markdown",
   "metadata": {},
   "source": [
    "# Unit 5 - Financial Planning"
   ]
  },
  {
   "cell_type": "code",
   "execution_count": 45,
   "metadata": {
    "tags": []
   },
   "outputs": [],
   "source": [
    "# Initial imports\n",
    "import os\n",
    "import requests\n",
    "import pandas as pd\n",
    "from dotenv import load_dotenv\n",
    "import alpaca_trade_api as tradeapi\n",
    "from MCForecastTools import MCSimulation\n",
    "import warnings\n",
    "\n",
    "warnings.filterwarnings('ignore', category=pd.errors.PerformanceWarning)\n",
    "\n",
    "\n",
    "%matplotlib inline"
   ]
  },
  {
   "cell_type": "code",
   "execution_count": 47,
   "metadata": {
    "tags": []
   },
   "outputs": [
    {
     "data": {
      "text/plain": [
       "True"
      ]
     },
     "execution_count": 47,
     "metadata": {},
     "output_type": "execute_result"
    }
   ],
   "source": [
    "# Load .env enviroment variables\n",
    "load_dotenv()"
   ]
  },
  {
   "cell_type": "markdown",
   "metadata": {},
   "source": [
    "## Part 1 - Personal Finance Planner"
   ]
  },
  {
   "cell_type": "markdown",
   "metadata": {},
   "source": [
    "### Collect Crypto Prices Using the `requests` Library"
   ]
  },
  {
   "cell_type": "code",
   "execution_count": 51,
   "metadata": {
    "tags": []
   },
   "outputs": [],
   "source": [
    "# Set current amount of crypto assets\n",
    "my_btc = 1.2\n",
    "my_eth = 5.3\n",
    "#my_btc = float(my_btc)\n",
    "#my_eth = float(my_eth)"
   ]
  },
  {
   "cell_type": "code",
   "execution_count": 53,
   "metadata": {
    "tags": []
   },
   "outputs": [],
   "source": [
    "# Crypto API URLs\n",
    "btc_url = \"https://api.alternative.me/v2/ticker/Bitcoin/?convert=USD\"\n",
    "eth_url = \"https://api.alternative.me/v2/ticker/Ethereum/?convert=USD\""
   ]
  },
  {
   "cell_type": "code",
   "execution_count": 55,
   "metadata": {
    "tags": []
   },
   "outputs": [
    {
     "name": "stdout",
     "output_type": "stream",
     "text": [
      "The current value of your my btc BTC is $74914.80\n",
      "The current value of your my eth ETH is $16906.26\n"
     ]
    }
   ],
   "source": [
    "# Fetch current BTC price\n",
    "my_btc = requests.get(btc_url).json()\n",
    "btc_value = my_btc['data']['1']['quotes']['USD']['price']\n",
    "# Fetch current ETH price\n",
    "my_eth = requests.get(eth_url).json()\n",
    "eth_value = my_eth['data']['1027']['quotes']['USD']['price']\n",
    "# Compute current value of my crpto\n",
    "my_btc_value = 1.2 * btc_value\n",
    "my_eth_value = 5.3 * eth_value \n",
    "portfolio_value= btc_value + eth_value\n",
    "# Print current crypto wallet balance\n",
    "print(f\"The current value of your {'my btc'} BTC is ${my_btc_value:0.2f}\")\n",
    "print(f\"The current value of your {'my eth'} ETH is ${my_eth_value:0.2f}\")"
   ]
  },
  {
   "cell_type": "markdown",
   "metadata": {},
   "source": [
    "### Collect Investments Data Using Alpaca: `SPY` (stocks) and `AGG` (bonds)"
   ]
  },
  {
   "cell_type": "code",
   "execution_count": 57,
   "metadata": {
    "tags": []
   },
   "outputs": [],
   "source": [
    "# Set current amount of shares\n",
    "my_agg = 200\n",
    "my_spy = 50"
   ]
  },
  {
   "cell_type": "code",
   "execution_count": 58,
   "metadata": {
    "tags": []
   },
   "outputs": [],
   "source": [
    "# Set Alpaca API key and secret\n",
    "api_key= os.getenv(\"ALPACA_API_KEY\")\n",
    "api_secret= os.getenv(\"ALPACA_SECRET_KEY\")\n",
    "#alpaca_endpoint = os.getenv(\"ALPACA_ENDPOINT\")\n",
    "api = tradeapi.REST(api_key, api_secret, api_version=\"v2\")\n",
    "#base_url = alpaca_endpoint"
   ]
  },
  {
   "cell_type": "code",
   "execution_count": 59,
   "metadata": {
    "tags": []
   },
   "outputs": [
    {
     "data": {
      "text/html": [
       "<div>\n",
       "<style scoped>\n",
       "    .dataframe tbody tr th:only-of-type {\n",
       "        vertical-align: middle;\n",
       "    }\n",
       "\n",
       "    .dataframe tbody tr th {\n",
       "        vertical-align: top;\n",
       "    }\n",
       "\n",
       "    .dataframe thead tr th {\n",
       "        text-align: left;\n",
       "    }\n",
       "\n",
       "    .dataframe thead tr:last-of-type th {\n",
       "        text-align: right;\n",
       "    }\n",
       "</style>\n",
       "<table border=\"1\" class=\"dataframe\">\n",
       "  <thead>\n",
       "    <tr>\n",
       "      <th></th>\n",
       "      <th colspan=\"7\" halign=\"left\">AGG</th>\n",
       "      <th colspan=\"7\" halign=\"left\">SPY</th>\n",
       "    </tr>\n",
       "    <tr>\n",
       "      <th></th>\n",
       "      <th>close</th>\n",
       "      <th>high</th>\n",
       "      <th>low</th>\n",
       "      <th>trade_count</th>\n",
       "      <th>open</th>\n",
       "      <th>volume</th>\n",
       "      <th>vwap</th>\n",
       "      <th>close</th>\n",
       "      <th>high</th>\n",
       "      <th>low</th>\n",
       "      <th>trade_count</th>\n",
       "      <th>open</th>\n",
       "      <th>volume</th>\n",
       "      <th>vwap</th>\n",
       "    </tr>\n",
       "    <tr>\n",
       "      <th>timestamp</th>\n",
       "      <th></th>\n",
       "      <th></th>\n",
       "      <th></th>\n",
       "      <th></th>\n",
       "      <th></th>\n",
       "      <th></th>\n",
       "      <th></th>\n",
       "      <th></th>\n",
       "      <th></th>\n",
       "      <th></th>\n",
       "      <th></th>\n",
       "      <th></th>\n",
       "      <th></th>\n",
       "      <th></th>\n",
       "    </tr>\n",
       "  </thead>\n",
       "  <tbody>\n",
       "    <tr>\n",
       "      <th>2024-04-19 04:00:00+00:00</th>\n",
       "      <td>95.38</td>\n",
       "      <td>95.55</td>\n",
       "      <td>95.33</td>\n",
       "      <td>25285</td>\n",
       "      <td>95.53</td>\n",
       "      <td>9121718</td>\n",
       "      <td>95.407918</td>\n",
       "      <td>495.16</td>\n",
       "      <td>500.455</td>\n",
       "      <td>493.86</td>\n",
       "      <td>756686</td>\n",
       "      <td>499.44</td>\n",
       "      <td>102212587</td>\n",
       "      <td>496.836977</td>\n",
       "    </tr>\n",
       "  </tbody>\n",
       "</table>\n",
       "</div>"
      ],
      "text/plain": [
       "                             AGG                                            \\\n",
       "                           close   high    low trade_count   open   volume   \n",
       "timestamp                                                                    \n",
       "2024-04-19 04:00:00+00:00  95.38  95.55  95.33       25285  95.53  9121718   \n",
       "\n",
       "                                         SPY                               \\\n",
       "                                vwap   close     high     low trade_count   \n",
       "timestamp                                                                   \n",
       "2024-04-19 04:00:00+00:00  95.407918  495.16  500.455  493.86      756686   \n",
       "\n",
       "                                                          \n",
       "                             open     volume        vwap  \n",
       "timestamp                                                 \n",
       "2024-04-19 04:00:00+00:00  499.44  102212587  496.836977  "
      ]
     },
     "execution_count": 59,
     "metadata": {},
     "output_type": "execute_result"
    }
   ],
   "source": [
    "# Format current date as ISO format\n",
    "start_date = pd.Timestamp(\"2024-04-19\", tz=\"America/New_York\").isoformat()\n",
    "end_date = pd.Timestamp(\"2024-04-19\", tz=\"America/New_York\").isoformat()\n",
    "# Set the tickers\n",
    "tickers = [\"AGG\", \"SPY\"]\n",
    "\n",
    "# Set timeframe to \"1Day\" for Alpaca API\n",
    "timeframe = \"1Day\"\n",
    "\n",
    "# Get current closing prices for SPY and AGG\n",
    "stockticker= api.get_bars(tickers, timeframe, start= start_date, end= end_date).df\n",
    "# Separate ticker data\n",
    "AGG = stockticker[stockticker['symbol']=='AGG'].drop(columns='symbol', axis=1)\n",
    "SPY = stockticker[stockticker['symbol']=='SPY'].drop(columns='symbol', axis=1)\n",
    "\n",
    "# Concatenate the ticker DataFrames\n",
    "#concatenated_df = pd.concat([agg_df, agg_df])\n",
    "portfolio_concat_df = pd.concat([AGG, SPY], axis=1, keys=['AGG', 'SPY'])\n",
    "\n",
    "# Preview DataFrame\n",
    "portfolio_concat_df"
   ]
  },
  {
   "cell_type": "code",
   "execution_count": 60,
   "metadata": {
    "tags": []
   },
   "outputs": [
    {
     "name": "stdout",
     "output_type": "stream",
     "text": [
      "Current AGG closing price: $95.38\n",
      "Current SPY closing price: $495.16\n"
     ]
    }
   ],
   "source": [
    "# Pick AGG and SPY close prices\n",
    "agg_close_price = portfolio_concat_df['AGG']['close'].values[0]\n",
    "spy_close_price = portfolio_concat_df['SPY']['close'].values[0]\n",
    "\n",
    "print(f\"Current AGG closing price: ${agg_close_price}\")\n",
    "print(f\"Current SPY closing price: ${spy_close_price}\")"
   ]
  },
  {
   "cell_type": "code",
   "execution_count": 61,
   "metadata": {},
   "outputs": [
    {
     "name": "stdout",
     "output_type": "stream",
     "text": [
      "The current value of your 50 SPY shares is $24758.00\n",
      "The current value of your 200 AGG shares is $19076.00\n"
     ]
    }
   ],
   "source": [
    "# Compute the current value of shares\n",
    "# YOUR CODE HERE!\n",
    "my_agg_value = agg_close_price * my_agg\n",
    "my_spy_value = spy_close_price * my_spy\n",
    "# Print current value of shares\n",
    "print(f\"The current value of your {my_spy} SPY shares is ${my_spy_value:0.2f}\")\n",
    "print(f\"The current value of your {my_agg} AGG shares is ${my_agg_value:0.2f}\")"
   ]
  },
  {
   "cell_type": "markdown",
   "metadata": {},
   "source": [
    "### Savings Health Analysis"
   ]
  },
  {
   "cell_type": "code",
   "execution_count": 63,
   "metadata": {},
   "outputs": [
    {
     "data": {
      "text/html": [
       "<div>\n",
       "<style scoped>\n",
       "    .dataframe tbody tr th:only-of-type {\n",
       "        vertical-align: middle;\n",
       "    }\n",
       "\n",
       "    .dataframe tbody tr th {\n",
       "        vertical-align: top;\n",
       "    }\n",
       "\n",
       "    .dataframe thead th {\n",
       "        text-align: right;\n",
       "    }\n",
       "</style>\n",
       "<table border=\"1\" class=\"dataframe\">\n",
       "  <thead>\n",
       "    <tr style=\"text-align: right;\">\n",
       "      <th></th>\n",
       "      <th>amount</th>\n",
       "    </tr>\n",
       "  </thead>\n",
       "  <tbody>\n",
       "    <tr>\n",
       "      <th>crypto</th>\n",
       "      <td>91821.058</td>\n",
       "    </tr>\n",
       "    <tr>\n",
       "      <th>stock/bond</th>\n",
       "      <td>43834.000</td>\n",
       "    </tr>\n",
       "  </tbody>\n",
       "</table>\n",
       "</div>"
      ],
      "text/plain": [
       "               amount\n",
       "crypto      91821.058\n",
       "stock/bond  43834.000"
      ]
     },
     "metadata": {},
     "output_type": "display_data"
    }
   ],
   "source": [
    "# Set monthly household income\n",
    "# YOUR CODE HERE!\n",
    "monthly_income= 1200\n",
    "# Consolidate financial assets data\n",
    "# YOUR CODE HERE!\n",
    "total_crpto_value= my_btc_value + my_eth_value\n",
    "total_shares_value= my_agg_value + my_spy_value\n",
    "savings_data = [total_crpto_value, total_shares_value]\n",
    "# Create savings DataFrame\n",
    "# YOUR CODE HERE!\n",
    "savings_df= pd.DataFrame(savings_data, columns=['amount'], index=['crypto', 'stock/bond'])\n",
    "# Display savings DataFrame\n",
    "display(savings_df)"
   ]
  },
  {
   "cell_type": "code",
   "execution_count": 64,
   "metadata": {},
   "outputs": [
    {
     "data": {
      "text/plain": [
       "<Axes: title={'center': 'Composition of Personal Savings'}, ylabel='amount'>"
      ]
     },
     "execution_count": 64,
     "metadata": {},
     "output_type": "execute_result"
    },
    {
     "data": {
      "image/png": "[encoded data removed]",
      "text/plain": [
       "<Figure size 640x480 with 1 Axes>"
      ]
     },
     "metadata": {},
     "output_type": "display_data"
    }
   ],
   "source": [
    "# Plot savings pie chart\n",
    "savings_df.plot.pie(y='amount', title='Composition of Personal Savings', autopct='%1.1f%%')\n"
   ]
  },
  {
   "cell_type": "code",
   "execution_count": 65,
   "metadata": {},
   "outputs": [
    {
     "name": "stdout",
     "output_type": "stream",
     "text": [
      "Congratulations! You have enough money in this fund.\n"
     ]
    }
   ],
   "source": [
    "# Set ideal emergency fund\n",
    "emergency_fund = monthly_income * 3\n",
    "\n",
    "# Calculate total amount of savings\n",
    "# YOUR CODE HERE!\n",
    "total_portfolio_value = savings_df['amount'].sum()\n",
    "\n",
    "# Validate saving health\n",
    "# YOUR CODE HERE!\n",
    "if total_portfolio_value > emergency_fund:\n",
    "    print(\"Congratulations! You have enough money in this fund.\")\n",
    "elif total_portfolio_value == emergency_fund:\n",
    "    print(\"Congratulations on reaching this important financial goal.\")\n",
    "else:\n",
    "    shortfall = emergency_fund - total_portfolio_value\n",
    "    print(f\"You are ${shortfall} away from reaching your emergency fund\")"
   ]
  },
  {
   "cell_type": "markdown",
   "metadata": {},
   "source": [
    "## Part 2 - Retirement Planning\n",
    "\n",
    "### Monte Carlo Simulation"
   ]
  },
  {
   "cell_type": "code",
   "execution_count": 113,
   "metadata": {},
   "outputs": [],
   "source": [
    "# Set start and end dates of five years back from today.\n",
    "# Sample results may vary from the solution based on the time frame chosen\n",
    "start_date = pd.Timestamp('2019-04-19', tz='America/New_York').isoformat()\n",
    "end_date = pd.Timestamp(\"2024-04-19\", tz=\"America/New_York\").isoformat()\n",
    "#five_year_df = api.get_bars(tickers, timeframe, start=start_date, end=end_date).df\n",
    "#five_year_df"
   ]
  },
  {
   "cell_type": "code",
   "execution_count": 117,
   "metadata": {},
   "outputs": [
    {
     "data": {
      "text/html": [
       "<div>\n",
       "<style scoped>\n",
       "    .dataframe tbody tr th:only-of-type {\n",
       "        vertical-align: middle;\n",
       "    }\n",
       "\n",
       "    .dataframe tbody tr th {\n",
       "        vertical-align: top;\n",
       "    }\n",
       "\n",
       "    .dataframe thead tr th {\n",
       "        text-align: left;\n",
       "    }\n",
       "\n",
       "    .dataframe thead tr:last-of-type th {\n",
       "        text-align: right;\n",
       "    }\n",
       "</style>\n",
       "<table border=\"1\" class=\"dataframe\">\n",
       "  <thead>\n",
       "    <tr>\n",
       "      <th></th>\n",
       "      <th colspan=\"7\" halign=\"left\">SPY</th>\n",
       "      <th colspan=\"7\" halign=\"left\">AGG</th>\n",
       "    </tr>\n",
       "    <tr>\n",
       "      <th></th>\n",
       "      <th>close</th>\n",
       "      <th>high</th>\n",
       "      <th>low</th>\n",
       "      <th>trade_count</th>\n",
       "      <th>open</th>\n",
       "      <th>volume</th>\n",
       "      <th>vwap</th>\n",
       "      <th>close</th>\n",
       "      <th>high</th>\n",
       "      <th>low</th>\n",
       "      <th>trade_count</th>\n",
       "      <th>open</th>\n",
       "      <th>volume</th>\n",
       "      <th>vwap</th>\n",
       "    </tr>\n",
       "    <tr>\n",
       "      <th>timestamp</th>\n",
       "      <th></th>\n",
       "      <th></th>\n",
       "      <th></th>\n",
       "      <th></th>\n",
       "      <th></th>\n",
       "      <th></th>\n",
       "      <th></th>\n",
       "      <th></th>\n",
       "      <th></th>\n",
       "      <th></th>\n",
       "      <th></th>\n",
       "      <th></th>\n",
       "      <th></th>\n",
       "      <th></th>\n",
       "    </tr>\n",
       "  </thead>\n",
       "  <tbody>\n",
       "    <tr>\n",
       "      <th>2019-04-22 04:00:00+00:00</th>\n",
       "      <td>290.30</td>\n",
       "      <td>290.435</td>\n",
       "      <td>289.0700</td>\n",
       "      <td>170763</td>\n",
       "      <td>289.17</td>\n",
       "      <td>41438319</td>\n",
       "      <td>290.010232</td>\n",
       "      <td>108.06</td>\n",
       "      <td>108.16</td>\n",
       "      <td>108.05</td>\n",
       "      <td>9161</td>\n",
       "      <td>108.1300</td>\n",
       "      <td>5830321</td>\n",
       "      <td>108.098194</td>\n",
       "    </tr>\n",
       "    <tr>\n",
       "      <th>2019-04-23 04:00:00+00:00</th>\n",
       "      <td>292.89</td>\n",
       "      <td>293.140</td>\n",
       "      <td>290.4200</td>\n",
       "      <td>232021</td>\n",
       "      <td>290.68</td>\n",
       "      <td>53717869</td>\n",
       "      <td>292.120861</td>\n",
       "      <td>108.25</td>\n",
       "      <td>108.28</td>\n",
       "      <td>108.15</td>\n",
       "      <td>10780</td>\n",
       "      <td>108.1800</td>\n",
       "      <td>3660025</td>\n",
       "      <td>108.237579</td>\n",
       "    </tr>\n",
       "    <tr>\n",
       "      <th>2019-04-24 04:00:00+00:00</th>\n",
       "      <td>292.21</td>\n",
       "      <td>293.160</td>\n",
       "      <td>292.0700</td>\n",
       "      <td>203854</td>\n",
       "      <td>292.79</td>\n",
       "      <td>51150196</td>\n",
       "      <td>292.575376</td>\n",
       "      <td>108.50</td>\n",
       "      <td>108.53</td>\n",
       "      <td>108.42</td>\n",
       "      <td>10193</td>\n",
       "      <td>108.4200</td>\n",
       "      <td>3275388</td>\n",
       "      <td>108.497077</td>\n",
       "    </tr>\n",
       "    <tr>\n",
       "      <th>2019-04-25 04:00:00+00:00</th>\n",
       "      <td>292.13</td>\n",
       "      <td>292.780</td>\n",
       "      <td>290.7300</td>\n",
       "      <td>238260</td>\n",
       "      <td>292.12</td>\n",
       "      <td>59111801</td>\n",
       "      <td>292.051817</td>\n",
       "      <td>108.49</td>\n",
       "      <td>108.55</td>\n",
       "      <td>108.42</td>\n",
       "      <td>9122</td>\n",
       "      <td>108.4699</td>\n",
       "      <td>3545283</td>\n",
       "      <td>108.478026</td>\n",
       "    </tr>\n",
       "    <tr>\n",
       "      <th>2019-04-26 04:00:00+00:00</th>\n",
       "      <td>293.41</td>\n",
       "      <td>293.490</td>\n",
       "      <td>291.2401</td>\n",
       "      <td>220440</td>\n",
       "      <td>292.10</td>\n",
       "      <td>51864349</td>\n",
       "      <td>292.620073</td>\n",
       "      <td>108.71</td>\n",
       "      <td>108.75</td>\n",
       "      <td>108.66</td>\n",
       "      <td>8663</td>\n",
       "      <td>108.7400</td>\n",
       "      <td>2811966</td>\n",
       "      <td>108.706248</td>\n",
       "    </tr>\n",
       "  </tbody>\n",
       "</table>\n",
       "</div>"
      ],
      "text/plain": [
       "                              SPY                                         \\\n",
       "                            close     high       low trade_count    open   \n",
       "timestamp                                                                  \n",
       "2019-04-22 04:00:00+00:00  290.30  290.435  289.0700      170763  289.17   \n",
       "2019-04-23 04:00:00+00:00  292.89  293.140  290.4200      232021  290.68   \n",
       "2019-04-24 04:00:00+00:00  292.21  293.160  292.0700      203854  292.79   \n",
       "2019-04-25 04:00:00+00:00  292.13  292.780  290.7300      238260  292.12   \n",
       "2019-04-26 04:00:00+00:00  293.41  293.490  291.2401      220440  292.10   \n",
       "\n",
       "                                                    AGG                  \\\n",
       "                             volume        vwap   close    high     low   \n",
       "timestamp                                                                 \n",
       "2019-04-22 04:00:00+00:00  41438319  290.010232  108.06  108.16  108.05   \n",
       "2019-04-23 04:00:00+00:00  53717869  292.120861  108.25  108.28  108.15   \n",
       "2019-04-24 04:00:00+00:00  51150196  292.575376  108.50  108.53  108.42   \n",
       "2019-04-25 04:00:00+00:00  59111801  292.051817  108.49  108.55  108.42   \n",
       "2019-04-26 04:00:00+00:00  51864349  292.620073  108.71  108.75  108.66   \n",
       "\n",
       "                                                                      \n",
       "                          trade_count      open   volume        vwap  \n",
       "timestamp                                                             \n",
       "2019-04-22 04:00:00+00:00        9161  108.1300  5830321  108.098194  \n",
       "2019-04-23 04:00:00+00:00       10780  108.1800  3660025  108.237579  \n",
       "2019-04-24 04:00:00+00:00       10193  108.4200  3275388  108.497077  \n",
       "2019-04-25 04:00:00+00:00        9122  108.4699  3545283  108.478026  \n",
       "2019-04-26 04:00:00+00:00        8663  108.7400  2811966  108.706248  "
      ]
     },
     "execution_count": 117,
     "metadata": {},
     "output_type": "execute_result"
    }
   ],
   "source": [
    "# Get 5 years' worth of historical data for SPY and AGG\n",
    "# YOUR CODE HERE!\n",
    "five_yr_df = api.get_bars(tickers, timeframe, start=start_date, end=end_date).df\n",
    "# Reorganize the DataFrame\n",
    "# Separate ticker data\n",
    "# YOUR CODE HERE!\n",
    "fiveyr_spy_df = five_yr_df[five_yr_df['symbol']=='SPY'].drop(columns='symbol', axis=1)\n",
    "fiveyr_agg_df = five_yr_df[five_yr_df['symbol']=='AGG'].drop(columns='symbol', axis=1)\n",
    "\n",
    "\n",
    "# Concatenate the ticker DataFrames\n",
    "# YOUR CODE HERE!\n",
    "fiveyr_stock_data = pd.concat([fiveyr_spy_df, fiveyr_agg_df], axis=1, keys=['SPY', 'AGG'])\n",
    "\n",
    "# Display sample data\n",
    "fiveyr_stock_data.head()\n"
   ]
  },
  {
   "cell_type": "code",
   "execution_count": 119,
   "metadata": {},
   "outputs": [],
   "source": [
    "# Configuring a Monte Carlo simulation to forecast 30 years cumulative returns\n",
    "# YOUR CODE HERE!\n",
    "mc_sim = MCSimulation(\n",
    "    portfolio_data = fiveyr_stock_data,\n",
    "    weights = [0.6, 0.4],\n",
    "    num_simulation = 500,\n",
    "    num_trading_days = 252*30)\n",
    "\n"
   ]
  },
  {
   "cell_type": "code",
   "execution_count": 121,
   "metadata": {},
   "outputs": [
    {
     "data": {
      "text/html": [
       "<div>\n",
       "<style scoped>\n",
       "    .dataframe tbody tr th:only-of-type {\n",
       "        vertical-align: middle;\n",
       "    }\n",
       "\n",
       "    .dataframe tbody tr th {\n",
       "        vertical-align: top;\n",
       "    }\n",
       "\n",
       "    .dataframe thead tr th {\n",
       "        text-align: left;\n",
       "    }\n",
       "\n",
       "    .dataframe thead tr:last-of-type th {\n",
       "        text-align: right;\n",
       "    }\n",
       "</style>\n",
       "<table border=\"1\" class=\"dataframe\">\n",
       "  <thead>\n",
       "    <tr>\n",
       "      <th></th>\n",
       "      <th colspan=\"8\" halign=\"left\">SPY</th>\n",
       "      <th colspan=\"8\" halign=\"left\">AGG</th>\n",
       "    </tr>\n",
       "    <tr>\n",
       "      <th></th>\n",
       "      <th>close</th>\n",
       "      <th>high</th>\n",
       "      <th>low</th>\n",
       "      <th>trade_count</th>\n",
       "      <th>open</th>\n",
       "      <th>volume</th>\n",
       "      <th>vwap</th>\n",
       "      <th>daily_return</th>\n",
       "      <th>close</th>\n",
       "      <th>high</th>\n",
       "      <th>low</th>\n",
       "      <th>trade_count</th>\n",
       "      <th>open</th>\n",
       "      <th>volume</th>\n",
       "      <th>vwap</th>\n",
       "      <th>daily_return</th>\n",
       "    </tr>\n",
       "    <tr>\n",
       "      <th>timestamp</th>\n",
       "      <th></th>\n",
       "      <th></th>\n",
       "      <th></th>\n",
       "      <th></th>\n",
       "      <th></th>\n",
       "      <th></th>\n",
       "      <th></th>\n",
       "      <th></th>\n",
       "      <th></th>\n",
       "      <th></th>\n",
       "      <th></th>\n",
       "      <th></th>\n",
       "      <th></th>\n",
       "      <th></th>\n",
       "      <th></th>\n",
       "      <th></th>\n",
       "    </tr>\n",
       "  </thead>\n",
       "  <tbody>\n",
       "    <tr>\n",
       "      <th>2019-04-22 04:00:00+00:00</th>\n",
       "      <td>290.30</td>\n",
       "      <td>290.435</td>\n",
       "      <td>289.0700</td>\n",
       "      <td>170763</td>\n",
       "      <td>289.17</td>\n",
       "      <td>41438319</td>\n",
       "      <td>290.010232</td>\n",
       "      <td>NaN</td>\n",
       "      <td>108.06</td>\n",
       "      <td>108.16</td>\n",
       "      <td>108.05</td>\n",
       "      <td>9161</td>\n",
       "      <td>108.1300</td>\n",
       "      <td>5830321</td>\n",
       "      <td>108.098194</td>\n",
       "      <td>NaN</td>\n",
       "    </tr>\n",
       "    <tr>\n",
       "      <th>2019-04-23 04:00:00+00:00</th>\n",
       "      <td>292.89</td>\n",
       "      <td>293.140</td>\n",
       "      <td>290.4200</td>\n",
       "      <td>232021</td>\n",
       "      <td>290.68</td>\n",
       "      <td>53717869</td>\n",
       "      <td>292.120861</td>\n",
       "      <td>0.008922</td>\n",
       "      <td>108.25</td>\n",
       "      <td>108.28</td>\n",
       "      <td>108.15</td>\n",
       "      <td>10780</td>\n",
       "      <td>108.1800</td>\n",
       "      <td>3660025</td>\n",
       "      <td>108.237579</td>\n",
       "      <td>0.001758</td>\n",
       "    </tr>\n",
       "    <tr>\n",
       "      <th>2019-04-24 04:00:00+00:00</th>\n",
       "      <td>292.21</td>\n",
       "      <td>293.160</td>\n",
       "      <td>292.0700</td>\n",
       "      <td>203854</td>\n",
       "      <td>292.79</td>\n",
       "      <td>51150196</td>\n",
       "      <td>292.575376</td>\n",
       "      <td>-0.002322</td>\n",
       "      <td>108.50</td>\n",
       "      <td>108.53</td>\n",
       "      <td>108.42</td>\n",
       "      <td>10193</td>\n",
       "      <td>108.4200</td>\n",
       "      <td>3275388</td>\n",
       "      <td>108.497077</td>\n",
       "      <td>0.002309</td>\n",
       "    </tr>\n",
       "    <tr>\n",
       "      <th>2019-04-25 04:00:00+00:00</th>\n",
       "      <td>292.13</td>\n",
       "      <td>292.780</td>\n",
       "      <td>290.7300</td>\n",
       "      <td>238260</td>\n",
       "      <td>292.12</td>\n",
       "      <td>59111801</td>\n",
       "      <td>292.051817</td>\n",
       "      <td>-0.000274</td>\n",
       "      <td>108.49</td>\n",
       "      <td>108.55</td>\n",
       "      <td>108.42</td>\n",
       "      <td>9122</td>\n",
       "      <td>108.4699</td>\n",
       "      <td>3545283</td>\n",
       "      <td>108.478026</td>\n",
       "      <td>-0.000092</td>\n",
       "    </tr>\n",
       "    <tr>\n",
       "      <th>2019-04-26 04:00:00+00:00</th>\n",
       "      <td>293.41</td>\n",
       "      <td>293.490</td>\n",
       "      <td>291.2401</td>\n",
       "      <td>220440</td>\n",
       "      <td>292.10</td>\n",
       "      <td>51864349</td>\n",
       "      <td>292.620073</td>\n",
       "      <td>0.004382</td>\n",
       "      <td>108.71</td>\n",
       "      <td>108.75</td>\n",
       "      <td>108.66</td>\n",
       "      <td>8663</td>\n",
       "      <td>108.7400</td>\n",
       "      <td>2811966</td>\n",
       "      <td>108.706248</td>\n",
       "      <td>0.002028</td>\n",
       "    </tr>\n",
       "  </tbody>\n",
       "</table>\n",
       "</div>"
      ],
      "text/plain": [
       "                              SPY                                         \\\n",
       "                            close     high       low trade_count    open   \n",
       "timestamp                                                                  \n",
       "2019-04-22 04:00:00+00:00  290.30  290.435  289.0700      170763  289.17   \n",
       "2019-04-23 04:00:00+00:00  292.89  293.140  290.4200      232021  290.68   \n",
       "2019-04-24 04:00:00+00:00  292.21  293.160  292.0700      203854  292.79   \n",
       "2019-04-25 04:00:00+00:00  292.13  292.780  290.7300      238260  292.12   \n",
       "2019-04-26 04:00:00+00:00  293.41  293.490  291.2401      220440  292.10   \n",
       "\n",
       "                                                                 AGG          \\\n",
       "                             volume        vwap daily_return   close    high   \n",
       "timestamp                                                                      \n",
       "2019-04-22 04:00:00+00:00  41438319  290.010232          NaN  108.06  108.16   \n",
       "2019-04-23 04:00:00+00:00  53717869  292.120861     0.008922  108.25  108.28   \n",
       "2019-04-24 04:00:00+00:00  51150196  292.575376    -0.002322  108.50  108.53   \n",
       "2019-04-25 04:00:00+00:00  59111801  292.051817    -0.000274  108.49  108.55   \n",
       "2019-04-26 04:00:00+00:00  51864349  292.620073     0.004382  108.71  108.75   \n",
       "\n",
       "                                                                              \\\n",
       "                              low trade_count      open   volume        vwap   \n",
       "timestamp                                                                      \n",
       "2019-04-22 04:00:00+00:00  108.05        9161  108.1300  5830321  108.098194   \n",
       "2019-04-23 04:00:00+00:00  108.15       10780  108.1800  3660025  108.237579   \n",
       "2019-04-24 04:00:00+00:00  108.42       10193  108.4200  3275388  108.497077   \n",
       "2019-04-25 04:00:00+00:00  108.42        9122  108.4699  3545283  108.478026   \n",
       "2019-04-26 04:00:00+00:00  108.66        8663  108.7400  2811966  108.706248   \n",
       "\n",
       "                                        \n",
       "                          daily_return  \n",
       "timestamp                               \n",
       "2019-04-22 04:00:00+00:00          NaN  \n",
       "2019-04-23 04:00:00+00:00     0.001758  \n",
       "2019-04-24 04:00:00+00:00     0.002309  \n",
       "2019-04-25 04:00:00+00:00    -0.000092  \n",
       "2019-04-26 04:00:00+00:00     0.002028  "
      ]
     },
     "execution_count": 121,
     "metadata": {},
     "output_type": "execute_result"
    }
   ],
   "source": [
    "# Printing the simulation input data\n",
    "# YOUR CODE HERE!\n",
    "mc_sim.portfolio_data.head()\n"
   ]
  },
  {
   "cell_type": "code",
   "execution_count": 123,
   "metadata": {},
   "outputs": [
    {
     "name": "stdout",
     "output_type": "stream",
     "text": [
      "Running Monte Carlo simulation number 0.\n",
      "Running Monte Carlo simulation number 10.\n",
      "Running Monte Carlo simulation number 20.\n",
      "Running Monte Carlo simulation number 30.\n",
      "Running Monte Carlo simulation number 40.\n",
      "Running Monte Carlo simulation number 50.\n",
      "Running Monte Carlo simulation number 60.\n",
      "Running Monte Carlo simulation number 70.\n",
      "Running Monte Carlo simulation number 80.\n",
      "Running Monte Carlo simulation number 90.\n",
      "Running Monte Carlo simulation number 100.\n",
      "Running Monte Carlo simulation number 110.\n",
      "Running Monte Carlo simulation number 120.\n",
      "Running Monte Carlo simulation number 130.\n",
      "Running Monte Carlo simulation number 140.\n",
      "Running Monte Carlo simulation number 150.\n",
      "Running Monte Carlo simulation number 160.\n",
      "Running Monte Carlo simulation number 170.\n",
      "Running Monte Carlo simulation number 180.\n",
      "Running Monte Carlo simulation number 190.\n",
      "Running Monte Carlo simulation number 200.\n",
      "Running Monte Carlo simulation number 210.\n",
      "Running Monte Carlo simulation number 220.\n",
      "Running Monte Carlo simulation number 230.\n",
      "Running Monte Carlo simulation number 240.\n",
      "Running Monte Carlo simulation number 250.\n",
      "Running Monte Carlo simulation number 260.\n",
      "Running Monte Carlo simulation number 270.\n",
      "Running Monte Carlo simulation number 280.\n",
      "Running Monte Carlo simulation number 290.\n",
      "Running Monte Carlo simulation number 300.\n",
      "Running Monte Carlo simulation number 310.\n",
      "Running Monte Carlo simulation number 320.\n",
      "Running Monte Carlo simulation number 330.\n",
      "Running Monte Carlo simulation number 340.\n",
      "Running Monte Carlo simulation number 350.\n",
      "Running Monte Carlo simulation number 360.\n",
      "Running Monte Carlo simulation number 370.\n",
      "Running Monte Carlo simulation number 380.\n",
      "Running Monte Carlo simulation number 390.\n",
      "Running Monte Carlo simulation number 400.\n",
      "Running Monte Carlo simulation number 410.\n",
      "Running Monte Carlo simulation number 420.\n",
      "Running Monte Carlo simulation number 430.\n",
      "Running Monte Carlo simulation number 440.\n",
      "Running Monte Carlo simulation number 450.\n",
      "Running Monte Carlo simulation number 460.\n",
      "Running Monte Carlo simulation number 470.\n",
      "Running Monte Carlo simulation number 480.\n",
      "Running Monte Carlo simulation number 490.\n"
     ]
    },
    {
     "data": {
      "text/html": [
       "<div>\n",
       "<style scoped>\n",
       "    .dataframe tbody tr th:only-of-type {\n",
       "        vertical-align: middle;\n",
       "    }\n",
       "\n",
       "    .dataframe tbody tr th {\n",
       "        vertical-align: top;\n",
       "    }\n",
       "\n",
       "    .dataframe thead th {\n",
       "        text-align: right;\n",
       "    }\n",
       "</style>\n",
       "<table border=\"1\" class=\"dataframe\">\n",
       "  <thead>\n",
       "    <tr style=\"text-align: right;\">\n",
       "      <th></th>\n",
       "      <th>0</th>\n",
       "      <th>1</th>\n",
       "      <th>2</th>\n",
       "      <th>3</th>\n",
       "      <th>4</th>\n",
       "      <th>5</th>\n",
       "      <th>6</th>\n",
       "      <th>7</th>\n",
       "      <th>8</th>\n",
       "      <th>9</th>\n",
       "      <th>...</th>\n",
       "      <th>490</th>\n",
       "      <th>491</th>\n",
       "      <th>492</th>\n",
       "      <th>493</th>\n",
       "      <th>494</th>\n",
       "      <th>495</th>\n",
       "      <th>496</th>\n",
       "      <th>497</th>\n",
       "      <th>498</th>\n",
       "      <th>499</th>\n",
       "    </tr>\n",
       "  </thead>\n",
       "  <tbody>\n",
       "    <tr>\n",
       "      <th>0</th>\n",
       "      <td>1.000000</td>\n",
       "      <td>1.000000</td>\n",
       "      <td>1.000000</td>\n",
       "      <td>1.000000</td>\n",
       "      <td>1.000000</td>\n",
       "      <td>1.000000</td>\n",
       "      <td>1.000000</td>\n",
       "      <td>1.000000</td>\n",
       "      <td>1.000000</td>\n",
       "      <td>1.000000</td>\n",
       "      <td>...</td>\n",
       "      <td>1.000000</td>\n",
       "      <td>1.000000</td>\n",
       "      <td>1.000000</td>\n",
       "      <td>1.000000</td>\n",
       "      <td>1.000000</td>\n",
       "      <td>1.000000</td>\n",
       "      <td>1.000000</td>\n",
       "      <td>1.000000</td>\n",
       "      <td>1.000000</td>\n",
       "      <td>1.000000</td>\n",
       "    </tr>\n",
       "    <tr>\n",
       "      <th>1</th>\n",
       "      <td>0.998400</td>\n",
       "      <td>1.004066</td>\n",
       "      <td>1.001036</td>\n",
       "      <td>0.988138</td>\n",
       "      <td>1.011644</td>\n",
       "      <td>1.001649</td>\n",
       "      <td>0.999698</td>\n",
       "      <td>0.999332</td>\n",
       "      <td>0.991244</td>\n",
       "      <td>1.006891</td>\n",
       "      <td>...</td>\n",
       "      <td>1.017212</td>\n",
       "      <td>1.003046</td>\n",
       "      <td>1.011226</td>\n",
       "      <td>1.006318</td>\n",
       "      <td>1.007178</td>\n",
       "      <td>1.010223</td>\n",
       "      <td>1.023144</td>\n",
       "      <td>1.005408</td>\n",
       "      <td>0.999290</td>\n",
       "      <td>1.015341</td>\n",
       "    </tr>\n",
       "    <tr>\n",
       "      <th>2</th>\n",
       "      <td>1.004502</td>\n",
       "      <td>1.002413</td>\n",
       "      <td>1.002874</td>\n",
       "      <td>0.992697</td>\n",
       "      <td>1.019947</td>\n",
       "      <td>1.007445</td>\n",
       "      <td>1.008907</td>\n",
       "      <td>0.992671</td>\n",
       "      <td>0.982466</td>\n",
       "      <td>1.009000</td>\n",
       "      <td>...</td>\n",
       "      <td>1.013945</td>\n",
       "      <td>0.989506</td>\n",
       "      <td>1.025494</td>\n",
       "      <td>1.021165</td>\n",
       "      <td>0.999700</td>\n",
       "      <td>1.007385</td>\n",
       "      <td>1.023720</td>\n",
       "      <td>1.014802</td>\n",
       "      <td>0.991943</td>\n",
       "      <td>1.020805</td>\n",
       "    </tr>\n",
       "    <tr>\n",
       "      <th>3</th>\n",
       "      <td>0.985700</td>\n",
       "      <td>1.005182</td>\n",
       "      <td>0.993589</td>\n",
       "      <td>0.978514</td>\n",
       "      <td>1.040037</td>\n",
       "      <td>0.993261</td>\n",
       "      <td>1.018714</td>\n",
       "      <td>0.993767</td>\n",
       "      <td>0.991796</td>\n",
       "      <td>1.007602</td>\n",
       "      <td>...</td>\n",
       "      <td>1.009529</td>\n",
       "      <td>0.998926</td>\n",
       "      <td>1.034094</td>\n",
       "      <td>1.026845</td>\n",
       "      <td>0.999130</td>\n",
       "      <td>0.999247</td>\n",
       "      <td>1.035452</td>\n",
       "      <td>1.018043</td>\n",
       "      <td>0.991291</td>\n",
       "      <td>1.018824</td>\n",
       "    </tr>\n",
       "    <tr>\n",
       "      <th>4</th>\n",
       "      <td>0.989921</td>\n",
       "      <td>1.010124</td>\n",
       "      <td>0.992099</td>\n",
       "      <td>0.996884</td>\n",
       "      <td>1.028428</td>\n",
       "      <td>0.992898</td>\n",
       "      <td>1.016547</td>\n",
       "      <td>0.992079</td>\n",
       "      <td>0.994235</td>\n",
       "      <td>1.002823</td>\n",
       "      <td>...</td>\n",
       "      <td>1.004046</td>\n",
       "      <td>0.990349</td>\n",
       "      <td>1.040696</td>\n",
       "      <td>1.035087</td>\n",
       "      <td>1.011999</td>\n",
       "      <td>1.010162</td>\n",
       "      <td>1.048316</td>\n",
       "      <td>1.033280</td>\n",
       "      <td>0.983168</td>\n",
       "      <td>1.027535</td>\n",
       "    </tr>\n",
       "    <tr>\n",
       "      <th>...</th>\n",
       "      <td>...</td>\n",
       "      <td>...</td>\n",
       "      <td>...</td>\n",
       "      <td>...</td>\n",
       "      <td>...</td>\n",
       "      <td>...</td>\n",
       "      <td>...</td>\n",
       "      <td>...</td>\n",
       "      <td>...</td>\n",
       "      <td>...</td>\n",
       "      <td>...</td>\n",
       "      <td>...</td>\n",
       "      <td>...</td>\n",
       "      <td>...</td>\n",
       "      <td>...</td>\n",
       "      <td>...</td>\n",
       "      <td>...</td>\n",
       "      <td>...</td>\n",
       "      <td>...</td>\n",
       "      <td>...</td>\n",
       "      <td>...</td>\n",
       "    </tr>\n",
       "    <tr>\n",
       "      <th>7556</th>\n",
       "      <td>8.206374</td>\n",
       "      <td>4.228869</td>\n",
       "      <td>26.541782</td>\n",
       "      <td>8.851407</td>\n",
       "      <td>10.218583</td>\n",
       "      <td>3.552457</td>\n",
       "      <td>10.647541</td>\n",
       "      <td>2.543583</td>\n",
       "      <td>12.207299</td>\n",
       "      <td>8.746536</td>\n",
       "      <td>...</td>\n",
       "      <td>5.549288</td>\n",
       "      <td>2.134023</td>\n",
       "      <td>2.164540</td>\n",
       "      <td>6.173295</td>\n",
       "      <td>4.039132</td>\n",
       "      <td>7.439039</td>\n",
       "      <td>4.535177</td>\n",
       "      <td>9.897583</td>\n",
       "      <td>2.916602</td>\n",
       "      <td>21.028519</td>\n",
       "    </tr>\n",
       "    <tr>\n",
       "      <th>7557</th>\n",
       "      <td>8.165858</td>\n",
       "      <td>4.230240</td>\n",
       "      <td>26.487325</td>\n",
       "      <td>8.829721</td>\n",
       "      <td>10.190003</td>\n",
       "      <td>3.577845</td>\n",
       "      <td>10.677838</td>\n",
       "      <td>2.545744</td>\n",
       "      <td>12.254831</td>\n",
       "      <td>8.747906</td>\n",
       "      <td>...</td>\n",
       "      <td>5.499594</td>\n",
       "      <td>2.109273</td>\n",
       "      <td>2.170911</td>\n",
       "      <td>6.163210</td>\n",
       "      <td>4.080928</td>\n",
       "      <td>7.400895</td>\n",
       "      <td>4.566479</td>\n",
       "      <td>9.879527</td>\n",
       "      <td>2.886918</td>\n",
       "      <td>21.092530</td>\n",
       "    </tr>\n",
       "    <tr>\n",
       "      <th>7558</th>\n",
       "      <td>8.286437</td>\n",
       "      <td>4.244386</td>\n",
       "      <td>26.718057</td>\n",
       "      <td>8.937905</td>\n",
       "      <td>10.308024</td>\n",
       "      <td>3.589435</td>\n",
       "      <td>10.635035</td>\n",
       "      <td>2.533595</td>\n",
       "      <td>12.269035</td>\n",
       "      <td>8.720980</td>\n",
       "      <td>...</td>\n",
       "      <td>5.457004</td>\n",
       "      <td>2.120432</td>\n",
       "      <td>2.170970</td>\n",
       "      <td>6.126722</td>\n",
       "      <td>4.100942</td>\n",
       "      <td>7.452893</td>\n",
       "      <td>4.598539</td>\n",
       "      <td>9.831927</td>\n",
       "      <td>2.889087</td>\n",
       "      <td>21.188310</td>\n",
       "    </tr>\n",
       "    <tr>\n",
       "      <th>7559</th>\n",
       "      <td>8.103226</td>\n",
       "      <td>4.218597</td>\n",
       "      <td>26.677173</td>\n",
       "      <td>9.005170</td>\n",
       "      <td>10.189076</td>\n",
       "      <td>3.581363</td>\n",
       "      <td>10.551304</td>\n",
       "      <td>2.531643</td>\n",
       "      <td>12.412475</td>\n",
       "      <td>8.731429</td>\n",
       "      <td>...</td>\n",
       "      <td>5.542587</td>\n",
       "      <td>2.107126</td>\n",
       "      <td>2.182973</td>\n",
       "      <td>6.082579</td>\n",
       "      <td>4.077135</td>\n",
       "      <td>7.490145</td>\n",
       "      <td>4.591479</td>\n",
       "      <td>9.875237</td>\n",
       "      <td>2.917754</td>\n",
       "      <td>21.387323</td>\n",
       "    </tr>\n",
       "    <tr>\n",
       "      <th>7560</th>\n",
       "      <td>8.062853</td>\n",
       "      <td>4.194107</td>\n",
       "      <td>26.543416</td>\n",
       "      <td>9.029039</td>\n",
       "      <td>10.318375</td>\n",
       "      <td>3.521927</td>\n",
       "      <td>10.558538</td>\n",
       "      <td>2.517524</td>\n",
       "      <td>12.382109</td>\n",
       "      <td>8.625274</td>\n",
       "      <td>...</td>\n",
       "      <td>5.544305</td>\n",
       "      <td>2.098318</td>\n",
       "      <td>2.204957</td>\n",
       "      <td>6.025394</td>\n",
       "      <td>4.099325</td>\n",
       "      <td>7.525874</td>\n",
       "      <td>4.614705</td>\n",
       "      <td>9.830703</td>\n",
       "      <td>2.893010</td>\n",
       "      <td>21.398500</td>\n",
       "    </tr>\n",
       "  </tbody>\n",
       "</table>\n",
       "<p>7561 rows × 500 columns</p>\n",
       "</div>"
      ],
      "text/plain": [
       "           0         1          2         3          4         5          6    \\\n",
       "0     1.000000  1.000000   1.000000  1.000000   1.000000  1.000000   1.000000   \n",
       "1     0.998400  1.004066   1.001036  0.988138   1.011644  1.001649   0.999698   \n",
       "2     1.004502  1.002413   1.002874  0.992697   1.019947  1.007445   1.008907   \n",
       "3     0.985700  1.005182   0.993589  0.978514   1.040037  0.993261   1.018714   \n",
       "4     0.989921  1.010124   0.992099  0.996884   1.028428  0.992898   1.016547   \n",
       "...        ...       ...        ...       ...        ...       ...        ...   \n",
       "7556  8.206374  4.228869  26.541782  8.851407  10.218583  3.552457  10.647541   \n",
       "7557  8.165858  4.230240  26.487325  8.829721  10.190003  3.577845  10.677838   \n",
       "7558  8.286437  4.244386  26.718057  8.937905  10.308024  3.589435  10.635035   \n",
       "7559  8.103226  4.218597  26.677173  9.005170  10.189076  3.581363  10.551304   \n",
       "7560  8.062853  4.194107  26.543416  9.029039  10.318375  3.521927  10.558538   \n",
       "\n",
       "           7          8         9    ...       490       491       492  \\\n",
       "0     1.000000   1.000000  1.000000  ...  1.000000  1.000000  1.000000   \n",
       "1     0.999332   0.991244  1.006891  ...  1.017212  1.003046  1.011226   \n",
       "2     0.992671   0.982466  1.009000  ...  1.013945  0.989506  1.025494   \n",
       "3     0.993767   0.991796  1.007602  ...  1.009529  0.998926  1.034094   \n",
       "4     0.992079   0.994235  1.002823  ...  1.004046  0.990349  1.040696   \n",
       "...        ...        ...       ...  ...       ...       ...       ...   \n",
       "7556  2.543583  12.207299  8.746536  ...  5.549288  2.134023  2.164540   \n",
       "7557  2.545744  12.254831  8.747906  ...  5.499594  2.109273  2.170911   \n",
       "7558  2.533595  12.269035  8.720980  ...  5.457004  2.120432  2.170970   \n",
       "7559  2.531643  12.412475  8.731429  ...  5.542587  2.107126  2.182973   \n",
       "7560  2.517524  12.382109  8.625274  ...  5.544305  2.098318  2.204957   \n",
       "\n",
       "           493       494       495       496       497       498        499  \n",
       "0     1.000000  1.000000  1.000000  1.000000  1.000000  1.000000   1.000000  \n",
       "1     1.006318  1.007178  1.010223  1.023144  1.005408  0.999290   1.015341  \n",
       "2     1.021165  0.999700  1.007385  1.023720  1.014802  0.991943   1.020805  \n",
       "3     1.026845  0.999130  0.999247  1.035452  1.018043  0.991291   1.018824  \n",
       "4     1.035087  1.011999  1.010162  1.048316  1.033280  0.983168   1.027535  \n",
       "...        ...       ...       ...       ...       ...       ...        ...  \n",
       "7556  6.173295  4.039132  7.439039  4.535177  9.897583  2.916602  21.028519  \n",
       "7557  6.163210  4.080928  7.400895  4.566479  9.879527  2.886918  21.092530  \n",
       "7558  6.126722  4.100942  7.452893  4.598539  9.831927  2.889087  21.188310  \n",
       "7559  6.082579  4.077135  7.490145  4.591479  9.875237  2.917754  21.387323  \n",
       "7560  6.025394  4.099325  7.525874  4.614705  9.830703  2.893010  21.398500  \n",
       "\n",
       "[7561 rows x 500 columns]"
      ]
     },
     "execution_count": 123,
     "metadata": {},
     "output_type": "execute_result"
    }
   ],
   "source": [
    "# Running a Monte Carlo simulation to forecast 30 years cumulative returns\n",
    "# YOUR CODE HERE!\n",
    "mc_sim.calc_cumulative_return()\n"
   ]
  },
  {
   "cell_type": "code",
   "execution_count": 125,
   "metadata": {},
   "outputs": [
    {
     "data": {
      "text/plain": [
       "<Axes: title={'center': '500 Simulations of Cumulative Portfolio Return Trajectories Over the Next 7560 Trading Days.'}>"
      ]
     },
     "execution_count": 125,
     "metadata": {},
     "output_type": "execute_result"
    },
    {
     "data": {
      "image/png": "[encoded data removed]",
      "text/plain": [
       "<Figure size 640x480 with 1 Axes>"
      ]
     },
     "metadata": {},
     "output_type": "display_data"
    }
   ],
   "source": [
    "# Plot simulation outcomes\n",
    "# YOUR CODE HERE!\n",
    "mc_sim.plot_simulation()\n"
   ]
  },
  {
   "cell_type": "code",
   "execution_count": 127,
   "metadata": {},
   "outputs": [
    {
     "data": {
      "text/plain": [
       "<Axes: title={'center': 'Distribution of Final Cumuluative Returns Across All 500 Simulations'}, ylabel='Frequency'>"
      ]
     },
     "execution_count": 127,
     "metadata": {},
     "output_type": "execute_result"
    },
    {
     "data": {
      "image/png": "[encoded data removed]",
      "text/plain": [
       "<Figure size 640x480 with 1 Axes>"
      ]
     },
     "metadata": {},
     "output_type": "display_data"
    }
   ],
   "source": [
    "# Plot probability distribution and confidence intervals\n",
    "# YOUR CODE HERE!\n",
    "mc_sim.plot_distribution()\n"
   ]
  },
  {
   "cell_type": "markdown",
   "metadata": {},
   "source": [
    "### Retirement Analysis"
   ]
  },
  {
   "cell_type": "code",
   "execution_count": 129,
   "metadata": {
    "tags": []
   },
   "outputs": [
    {
     "name": "stdout",
     "output_type": "stream",
     "text": [
      "Help on class MCSimulation in module MCForecastTools:\n",
      "\n",
      "class MCSimulation(builtins.object)\n",
      " |  MCSimulation(portfolio_data, weights='', num_simulation=1000, num_trading_days=252)\n",
      " |  \n",
      " |  A Python class for runnning Monte Carlo simulation on portfolio price data. \n",
      " |  \n",
      " |  ...\n",
      " |  \n",
      " |  Attributes\n",
      " |  ----------\n",
      " |  portfolio_data : pandas.DataFrame\n",
      " |      portfolio dataframe\n",
      " |  weights: list(float)\n",
      " |      portfolio investment breakdown\n",
      " |  nSim: int\n",
      " |      number of samples in simulation\n",
      " |  nTrading: int\n",
      " |      number of trading days to simulate\n",
      " |  simulated_return : pandas.DataFrame\n",
      " |      Simulated data from Monte Carlo\n",
      " |  confidence_interval : pandas.Series\n",
      " |      the 95% confidence intervals for simulated final cumulative returns\n",
      " |  \n",
      " |  Methods defined here:\n",
      " |  \n",
      " |  __init__(self, portfolio_data, weights='', num_simulation=1000, num_trading_days=252)\n",
      " |      Constructs all the necessary attributes for the MCSimulation object.\n",
      " |      \n",
      " |      Parameters\n",
      " |      ----------\n",
      " |      portfolio_data: pandas.DataFrame\n",
      " |          DataFrame containing stock price information from Alpaca API\n",
      " |      weights: list(float)\n",
      " |          A list fractions representing percentage of total investment per stock. DEFAULT: Equal distribution\n",
      " |      num_simulation: int\n",
      " |          Number of simulation samples. DEFAULT: 1000 simulation samples\n",
      " |      num_trading_days: int\n",
      " |          Number of trading days to simulate. DEFAULT: 252 days (1 year of business days)\n",
      " |  \n",
      " |  calc_cumulative_return(self)\n",
      " |      Calculates the cumulative return of a stock over time using a Monte Carlo simulation (Brownian motion with drift).\n",
      " |  \n",
      " |  plot_distribution(self)\n",
      " |      Visualizes the distribution of cumulative returns simulated using calc_cumulative_return method.\n",
      " |  \n",
      " |  plot_simulation(self)\n",
      " |      Visualizes the simulated stock trajectories using calc_cumulative_return method.\n",
      " |  \n",
      " |  summarize_cumulative_return(self)\n",
      " |      Calculate final summary statistics for Monte Carlo simulated stock data.\n",
      " |  \n",
      " |  ----------------------------------------------------------------------\n",
      " |  Data descriptors defined here:\n",
      " |  \n",
      " |  __dict__\n",
      " |      dictionary for instance variables\n",
      " |  \n",
      " |  __weakref__\n",
      " |      list of weak references to the object\n",
      "\n"
     ]
    }
   ],
   "source": [
    "#from MCForecastTools import MCSimulation\n",
    "help(MCSimulation)"
   ]
  },
  {
   "cell_type": "code",
   "execution_count": 147,
   "metadata": {},
   "outputs": [
    {
     "ename": "AttributeError",
     "evalue": "'Series' object has no attribute 'append'",
     "output_type": "error",
     "traceback": [
      "\u001b[1;31m---------------------------------------------------------------------------\u001b[0m",
      "\u001b[1;31mAttributeError\u001b[0m                            Traceback (most recent call last)",
      "\u001b[1;32m~\\AppData\\Local\\Temp\\ipykernel_3340\\1273239622.py\u001b[0m in \u001b[0;36m?\u001b[1;34m()\u001b[0m\n\u001b[0;32m      1\u001b[0m \u001b[1;31m# Fetch summary statistics from the Monte Carlo simulation results\u001b[0m\u001b[1;33m\u001b[0m\u001b[1;33m\u001b[0m\u001b[0m\n\u001b[0;32m      2\u001b[0m \u001b[1;31m# YOUR CODE HERE!\u001b[0m\u001b[1;33m\u001b[0m\u001b[1;33m\u001b[0m\u001b[0m\n\u001b[0;32m      3\u001b[0m \u001b[1;31m#summary_stats = mc_sim.summarize_cumulative_return()\u001b[0m\u001b[1;33m\u001b[0m\u001b[1;33m\u001b[0m\u001b[0m\n\u001b[1;32m----> 4\u001b[1;33m \u001b[0msummary_stats\u001b[0m \u001b[1;33m=\u001b[0m \u001b[0mmc_sim\u001b[0m\u001b[1;33m.\u001b[0m\u001b[0msummarize_cumulative_return\u001b[0m\u001b[1;33m(\u001b[0m\u001b[1;33m)\u001b[0m\u001b[1;33m\u001b[0m\u001b[1;33m\u001b[0m\u001b[0m\n\u001b[0m\u001b[0;32m      5\u001b[0m \u001b[1;33m\u001b[0m\u001b[0m\n\u001b[0;32m      6\u001b[0m \u001b[1;31m# Print summary statistics\u001b[0m\u001b[1;33m\u001b[0m\u001b[1;33m\u001b[0m\u001b[0m\n\u001b[0;32m      7\u001b[0m \u001b[1;31m# YOUR CODE HERE!\u001b[0m\u001b[1;33m\u001b[0m\u001b[1;33m\u001b[0m\u001b[0m\n",
      "\u001b[1;32m~\\OneDrive\\Desktop\\finplanning\\Instructions\\Starter_Code\\MCForecastTools.py\u001b[0m in \u001b[0;36m?\u001b[1;34m(self)\u001b[0m\n\u001b[0;32m    168\u001b[0m \u001b[1;33m\u001b[0m\u001b[0m\n\u001b[0;32m    169\u001b[0m         \u001b[0mmetrics\u001b[0m \u001b[1;33m=\u001b[0m \u001b[0mself\u001b[0m\u001b[1;33m.\u001b[0m\u001b[0msimulated_return\u001b[0m\u001b[1;33m.\u001b[0m\u001b[0miloc\u001b[0m\u001b[1;33m[\u001b[0m\u001b[1;33m-\u001b[0m\u001b[1;36m1\u001b[0m\u001b[1;33m]\u001b[0m\u001b[1;33m.\u001b[0m\u001b[0mdescribe\u001b[0m\u001b[1;33m(\u001b[0m\u001b[1;33m)\u001b[0m\u001b[1;33m\u001b[0m\u001b[1;33m\u001b[0m\u001b[0m\n\u001b[0;32m    170\u001b[0m         \u001b[0mci_series\u001b[0m \u001b[1;33m=\u001b[0m \u001b[0mself\u001b[0m\u001b[1;33m.\u001b[0m\u001b[0mconfidence_interval\u001b[0m\u001b[1;33m\u001b[0m\u001b[1;33m\u001b[0m\u001b[0m\n\u001b[0;32m    171\u001b[0m         \u001b[0mci_series\u001b[0m\u001b[1;33m.\u001b[0m\u001b[0mindex\u001b[0m \u001b[1;33m=\u001b[0m \u001b[1;33m[\u001b[0m\u001b[1;34m\"95% CI Lower\"\u001b[0m\u001b[1;33m,\u001b[0m\u001b[1;34m\"95% CI Upper\"\u001b[0m\u001b[1;33m]\u001b[0m\u001b[1;33m\u001b[0m\u001b[1;33m\u001b[0m\u001b[0m\n\u001b[1;32m--> 172\u001b[1;33m         \u001b[1;32mreturn\u001b[0m \u001b[0mmetrics\u001b[0m\u001b[1;33m.\u001b[0m\u001b[0mappend\u001b[0m\u001b[1;33m(\u001b[0m\u001b[0mci_series\u001b[0m\u001b[1;33m)\u001b[0m\u001b[1;33m\u001b[0m\u001b[1;33m\u001b[0m\u001b[0m\n\u001b[0m",
      "\u001b[1;32m~\\anaconda3\\Lib\\site-packages\\pandas\\core\\generic.py\u001b[0m in \u001b[0;36m?\u001b[1;34m(self, name)\u001b[0m\n\u001b[0;32m   6200\u001b[0m             \u001b[1;32mand\u001b[0m \u001b[0mname\u001b[0m \u001b[1;32mnot\u001b[0m \u001b[1;32min\u001b[0m \u001b[0mself\u001b[0m\u001b[1;33m.\u001b[0m\u001b[0m_accessors\u001b[0m\u001b[1;33m\u001b[0m\u001b[1;33m\u001b[0m\u001b[0m\n\u001b[0;32m   6201\u001b[0m             \u001b[1;32mand\u001b[0m \u001b[0mself\u001b[0m\u001b[1;33m.\u001b[0m\u001b[0m_info_axis\u001b[0m\u001b[1;33m.\u001b[0m\u001b[0m_can_hold_identifiers_and_holds_name\u001b[0m\u001b[1;33m(\u001b[0m\u001b[0mname\u001b[0m\u001b[1;33m)\u001b[0m\u001b[1;33m\u001b[0m\u001b[1;33m\u001b[0m\u001b[0m\n\u001b[0;32m   6202\u001b[0m         ):\n\u001b[0;32m   6203\u001b[0m             \u001b[1;32mreturn\u001b[0m \u001b[0mself\u001b[0m\u001b[1;33m[\u001b[0m\u001b[0mname\u001b[0m\u001b[1;33m]\u001b[0m\u001b[1;33m\u001b[0m\u001b[1;33m\u001b[0m\u001b[0m\n\u001b[1;32m-> 6204\u001b[1;33m         \u001b[1;32mreturn\u001b[0m \u001b[0mobject\u001b[0m\u001b[1;33m.\u001b[0m\u001b[0m__getattribute__\u001b[0m\u001b[1;33m(\u001b[0m\u001b[0mself\u001b[0m\u001b[1;33m,\u001b[0m \u001b[0mname\u001b[0m\u001b[1;33m)\u001b[0m\u001b[1;33m\u001b[0m\u001b[1;33m\u001b[0m\u001b[0m\n\u001b[0m",
      "\u001b[1;31mAttributeError\u001b[0m: 'Series' object has no attribute 'append'"
     ]
    }
   ],
   "source": [
    "# Fetch summary statistics from the Monte Carlo simulation results\n",
    "# YOUR CODE HERE!\n",
    "#summary_stats = mc_sim.summarize_cumulative_return()\n",
    "summary_stats = mc_sim.summarize_cumulative_return()\n",
    "\n",
    "# Print summary statistics\n",
    "# YOUR CODE HERE!\n",
    "print(summary_stats)"
   ]
  },
  {
   "cell_type": "markdown",
   "metadata": {},
   "source": [
    "### Calculate the expected portfolio return at the `95%` lower and upper confidence intervals based on a `$20,000` initial investment."
   ]
  },
  {
   "cell_type": "code",
   "execution_count": null,
   "metadata": {},
   "outputs": [],
   "source": [
    "# Set initial investment\n",
    "initial_investment = 20000\n",
    "\n",
    "# Use the lower and upper `95%` confidence intervals to calculate the range of the possible outcomes of our $20,000\n",
    "# YOUR CODE HERE!\n",
    "\n",
    "# Print results\n",
    "print(f\"There is a 95% chance that an initial investment of ${initial_investment} in the portfolio\"\n",
    "      f\" over the next 30 years will end within in the range of\"\n",
    "      f\" ${ci_lower} and ${ci_upper}\")"
   ]
  },
  {
   "cell_type": "markdown",
   "metadata": {},
   "source": [
    "### Calculate the expected portfolio return at the `95%` lower and upper confidence intervals based on a `50%` increase in the initial investment."
   ]
  },
  {
   "cell_type": "code",
   "execution_count": null,
   "metadata": {},
   "outputs": [],
   "source": [
    "# Set initial investment\n",
    "initial_investment = 20000 * 1.5\n",
    "\n",
    "# Use the lower and upper `95%` confidence intervals to calculate the range of the possible outcomes of our $30,000\n",
    "# YOUR CODE HERE!\n",
    "\n",
    "# Print results\n",
    "print(f\"There is a 95% chance that an initial investment of ${initial_investment} in the portfolio\"\n",
    "      f\" over the next 30 years will end within in the range of\"\n",
    "      f\" ${ci_lower} and ${ci_upper}\")"
   ]
  },
  {
   "cell_type": "markdown",
   "metadata": {},
   "source": [
    "## Optional Challenge - Early Retirement\n",
    "\n",
    "\n",
    "### Five Years Retirement Option"
   ]
  },
  {
   "cell_type": "code",
   "execution_count": null,
   "metadata": {},
   "outputs": [],
   "source": [
    "# Configuring a Monte Carlo simulation to forecast 5 years cumulative returns\n",
    "# YOUR CODE HERE!"
   ]
  },
  {
   "cell_type": "code",
   "execution_count": null,
   "metadata": {},
   "outputs": [],
   "source": [
    "# Running a Monte Carlo simulation to forecast 5 years cumulative returns\n",
    "# YOUR CODE HERE!"
   ]
  },
  {
   "cell_type": "code",
   "execution_count": null,
   "metadata": {},
   "outputs": [],
   "source": [
    "# Plot simulation outcomes\n",
    "# YOUR CODE HERE!"
   ]
  },
  {
   "cell_type": "code",
   "execution_count": null,
   "metadata": {},
   "outputs": [],
   "source": [
    "# Plot probability distribution and confidence intervals\n",
    "# YOUR CODE HERE!"
   ]
  },
  {
   "cell_type": "code",
   "execution_count": null,
   "metadata": {},
   "outputs": [],
   "source": [
    "# Fetch summary statistics from the Monte Carlo simulation results\n",
    "# YOUR CODE HERE!\n",
    "\n",
    "# Print summary statistics\n",
    "# YOUR CODE HERE!"
   ]
  },
  {
   "cell_type": "code",
   "execution_count": null,
   "metadata": {},
   "outputs": [],
   "source": [
    "# Set initial investment\n",
    "# YOUR CODE HERE!\n",
    "\n",
    "# Use the lower and upper `95%` confidence intervals to calculate the range of the possible outcomes of our $60,000\n",
    "# YOUR CODE HERE!\n",
    "\n",
    "# Print results\n",
    "print(f\"There is a 95% chance that an initial investment of ${initial_investment} in the portfolio\"\n",
    "      f\" over the next 5 years will end within in the range of\"\n",
    "      f\" ${ci_lower_five} and ${ci_upper_five}\")"
   ]
  },
  {
   "cell_type": "markdown",
   "metadata": {},
   "source": [
    "### Ten Years Retirement Option"
   ]
  },
  {
   "cell_type": "code",
   "execution_count": null,
   "metadata": {},
   "outputs": [],
   "source": [
    "# Configuring a Monte Carlo simulation to forecast 10 years cumulative returns\n",
    "# YOUR CODE HERE!"
   ]
  },
  {
   "cell_type": "code",
   "execution_count": null,
   "metadata": {},
   "outputs": [],
   "source": [
    "# Running a Monte Carlo simulation to forecast 10 years cumulative returns\n",
    "# YOUR CODE HERE!"
   ]
  },
  {
   "cell_type": "code",
   "execution_count": null,
   "metadata": {},
   "outputs": [],
   "source": [
    "# Plot simulation outcomes\n",
    "# YOUR CODE HERE!"
   ]
  },
  {
   "cell_type": "code",
   "execution_count": null,
   "metadata": {},
   "outputs": [],
   "source": [
    "# Plot probability distribution and confidence intervals\n",
    "# YOUR CODE HERE!"
   ]
  },
  {
   "cell_type": "code",
   "execution_count": null,
   "metadata": {},
   "outputs": [],
   "source": [
    "# Fetch summary statistics from the Monte Carlo simulation results\n",
    "# YOUR CODE HERE!\n",
    "\n",
    "# Print summary statistics\n",
    "# YOUR CODE HERE!"
   ]
  },
  {
   "cell_type": "code",
   "execution_count": null,
   "metadata": {},
   "outputs": [],
   "source": [
    "# Set initial investment\n",
    "# YOUR CODE HERE!\n",
    "\n",
    "# Use the lower and upper `95%` confidence intervals to calculate the range of the possible outcomes of our $60,000\n",
    "# YOUR CODE HERE!\n",
    "\n",
    "# Print results\n",
    "print(f\"There is a 95% chance that an initial investment of ${initial_investment} in the portfolio\"\n",
    "      f\" over the next 10 years will end within in the range of\"\n",
    "      f\" ${ci_lower_ten} and ${ci_upper_ten}\")"
   ]
  },
  {
   "cell_type": "code",
   "execution_count": null,
   "metadata": {},
   "outputs": [],
   "source": []
  }
 ],
 "metadata": {
  "kernelspec": {
   "display_name": "Python 3 (ipykernel)",
   "language": "python",
   "name": "python3"
  },
  "language_info": {
   "codemirror_mode": {
    "name": "ipython",
    "version": 3
   },
   "file_extension": ".py",
   "mimetype": "text/x-python",
   "name": "python",
   "nbconvert_exporter": "python",
   "pygments_lexer": "ipython3",
   "version": "3.11.7"
  },
  "nteract": {
   "version": "0.28.0"
  }
 },
 "nbformat": 4,
 "nbformat_minor": 4
}

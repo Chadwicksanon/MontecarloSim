{
 "cells": [
  {
   "cell_type": "code",
   "execution_count": 1,
   "id": "a7ba8c2d-c6d6-49ad-8e8b-865eafa31052",
   "metadata": {
    "tags": []
   },
   "outputs": [],
   "source": [
    "#API'S\n",
    "NASDAQ_API_KEY=\"PzP5mvXnYKQU1ZJxZcVk\"\n",
    "ALPACA_API_KEY=\"PKOYUH656650SI0KYO6T\"\n",
    "ALPACA_SECRET_KEY=\"CVB8pmQBBbK3oQlyaA4qGjlJHVCffzYYVE4nP3qj\""
   ]
  },
  {
   "cell_type": "code",
   "execution_count": null,
   "id": "8417615e-4beb-454f-a90f-dee14a902ecd",
   "metadata": {},
   "outputs": [],
   "source": []
  }
 ],
 "metadata": {
  "kernelspec": {
   "display_name": "Python 3 (ipykernel)",
   "language": "python",
   "name": "python3"
  },
  "language_info": {
   "codemirror_mode": {
    "name": "ipython",
    "version": 3
   },
   "file_extension": ".py",
   "mimetype": "text/x-python",
   "name": "python",
   "nbconvert_exporter": "python",
   "pygments_lexer": "ipython3",
   "version": "3.11.7"
  }
 },
 "nbformat": 4,
 "nbformat_minor": 5
}
